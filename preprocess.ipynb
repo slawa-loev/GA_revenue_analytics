{
 "cells": [
  {
   "cell_type": "code",
   "execution_count": 1,
   "id": "7f789cb3-1e58-417d-a52f-0cfccdd99908",
   "metadata": {},
   "outputs": [],
   "source": [
    "# import packages\n",
    "\n",
    "import gc\n",
    "import numpy as np\n",
    "import pandas as pd\n",
    "pd.options.display.float_format = '{:20,.2f}'.format # disabling scientific notation in pandas\n",
    "import pickle\n",
    "import matplotlib.pyplot as plt\n",
    "import seaborn as sns\n",
    "from sklearn.model_selection import train_test_split\n",
    "import lightgbm as lgb\n",
    "\n",
    "gc.enable()"
   ]
  },
  {
   "cell_type": "code",
   "execution_count": 2,
   "id": "ee6c1f5c-daa6-482d-847a-fd5e6d355398",
   "metadata": {},
   "outputs": [],
   "source": [
    "data = pd.read_csv(\"data/train_filtered.csv\",dtype={'fullVisitorId':str}) # as I have no dedicated test data, this is all the data I have"
   ]
  },
  {
   "cell_type": "code",
   "execution_count": null,
   "id": "64e07e58-5d13-4fc7-942a-632d34cb4d2d",
   "metadata": {},
   "outputs": [],
   "source": [
    "data['revenue_generated'] = (data['totals_transactionRevenue'] > 0).astype(int)\n",
    "data['revenue_amount'] = data['totals_transactionRevenue']/(10**6)\n",
    "data.drop(columns='totals_transactionRevenue', inplace=True)"
   ]
  },
  {
   "cell_type": "code",
   "execution_count": null,
   "id": "dea5123c-7a0f-4b2e-b10f-3ea2d935295d",
   "metadata": {},
   "outputs": [],
   "source": [
    "data.drop(columns='trafficSource_adwordsClickInfo.isVideoAd', inplace=True) ## ADD TO PREPROCESSING. Feature has a constant value and has thus no information"
   ]
  },
  {
   "cell_type": "markdown",
   "id": "ffa41b02-2e5f-416f-8c6e-86da5d18ff6c",
   "metadata": {},
   "source": [
    "Add time features"
   ]
  },
  {
   "cell_type": "code",
   "execution_count": null,
   "id": "23b9e2af-d461-4cb8-9562-29ad3529d6a5",
   "metadata": {},
   "outputs": [],
   "source": [
    "data.date = pd.to_datetime(data.date, format='%Y%m%d')\n",
    "data['date_time'] = pd.to_datetime(data['visitStartTime'], unit='s')\n",
    "data['date_dow'] = data['date_time'].dt.dayofweek\n",
    "data['date_hours'] = data['date_time'].dt.hour\n",
    "data['date_dom'] = data['date_time'].dt.day\n",
    "data['month'] = data['date_time'].dt.month"
   ]
  },
  {
   "cell_type": "code",
   "execution_count": null,
   "id": "30be6a63-df51-434e-b925-63a72408aa72",
   "metadata": {},
   "outputs": [],
   "source": [
    "data.sort_values('date') # it is too little data to split it date-wise -- as then we would have only data for a month"
   ]
  },
  {
   "cell_type": "code",
   "execution_count": null,
   "id": "77408b0b-51c7-4b2b-94bc-657a3f451479",
   "metadata": {},
   "outputs": [],
   "source": [
    "train, test = train_test_split(data, test_size=0.3)"
   ]
  },
  {
   "cell_type": "code",
   "execution_count": null,
   "id": "ed5dfd65-b9dd-414f-998d-0492f481fc51",
   "metadata": {},
   "outputs": [],
   "source": [
    "train.shape"
   ]
  },
  {
   "cell_type": "code",
   "execution_count": null,
   "id": "7427ef2e-1f76-485c-93d4-4323fce1f701",
   "metadata": {},
   "outputs": [],
   "source": [
    "test.shape"
   ]
  },
  {
   "cell_type": "code",
   "execution_count": null,
   "id": "cd33ebd9-d1a5-4cac-a182-0da488bf4621",
   "metadata": {},
   "outputs": [],
   "source": [
    "def calc_days_since_visit(row):\n",
    "    if row['fullVisitorId'] == row['last_visit_id']:\n",
    "        return (row['date'] - row['last_visit_date']).days\n",
    "    else:\n",
    "        return np.nan"
   ]
  },
  {
   "cell_type": "code",
   "execution_count": null,
   "id": "b4aad962-cf47-499b-8418-684c69a78929",
   "metadata": {},
   "outputs": [],
   "source": [
    "def get_delays(df):\n",
    "    visit_dates = df[['fullVisitorId', 'date']]\n",
    "    visit_dates = visit_dates.sort_values(['fullVisitorId', 'date'])\n",
    "    visit_dates[['last_visit_id', 'last_visit_date']] = visit_dates.shift(+1)[['fullVisitorId', 'date']]\n",
    "    visit_dates['days_since_visit'] = visit_dates.apply(calc_days_since_visit, axis=1)\n",
    "    visit_dates.sort_index(inplace=True)\n",
    "    \n",
    "    return visit_dates['days_since_visit']"
   ]
  },
  {
   "cell_type": "code",
   "execution_count": null,
   "id": "1b4d21fe-a91e-4732-a4e6-0b7d1cac0146",
   "metadata": {},
   "outputs": [],
   "source": [
    "train['days_since_visit'] = get_delays(train)\n",
    "test['days_since_visit'] = get_delays(test)"
   ]
  },
  {
   "cell_type": "code",
   "execution_count": null,
   "id": "a0ec8eb6-edd8-4e30-9aab-8830906951b0",
   "metadata": {},
   "outputs": [],
   "source": [
    "for df in [train, test]:\n",
    "    df['days_since_visit'] = get_delays(df)"
   ]
  },
  {
   "cell_type": "code",
   "execution_count": null,
   "id": "493e6ada-42c3-4017-a565-abfa94a470bc",
   "metadata": {},
   "outputs": [],
   "source": [
    "# https://www.kaggle.com/prashantkikani/teach-lightgbm-to-sum-predictions-fe\n",
    "def browser_mapping(x):\n",
    "    browsers = ['chrome','safari','firefox','internet explorer','edge','opera','coc coc','maxthon','iron']\n",
    "    if x in browsers:\n",
    "        return x.lower()\n",
    "    elif  ('android' in x) or ('samsung' in x) or ('mini' in x) or ('iphone' in x) or ('in-app' in x) or ('playstation' in x):\n",
    "        return 'mobile browser'\n",
    "    elif  ('mozilla' in x) or ('chrome' in x) or ('blackberry' in x) or ('nokia' in x) or ('browser' in x) or ('amazon' in x):\n",
    "        return 'mobile browser'\n",
    "    elif  ('lunascape' in x) or ('netscape' in x) or ('blackberry' in x) or ('konqueror' in x) or ('puffin' in x) or ('amazon' in x):\n",
    "        return 'mobile browser'\n",
    "    elif '(not set)' in x:\n",
    "        return x\n",
    "    else:\n",
    "        return 'others'\n",
    "    \n",
    "    \n",
    "def adcontents_mapping(x):\n",
    "    if  ('google' in x):\n",
    "        return 'google'\n",
    "    elif  ('placement' in x) | ('placememnt' in x):\n",
    "        return 'placement'\n",
    "    elif '(not set)' in x or 'nan' in x:\n",
    "        return x\n",
    "    elif 'ad' in x:\n",
    "        return 'ad'\n",
    "    else:\n",
    "        return 'others'\n",
    "    \n",
    "def source_mapping(x):\n",
    "    if  ('google' in x):\n",
    "        return 'google'\n",
    "    elif  ('youtube' in x):\n",
    "        return 'youtube'\n",
    "    elif '(not set)' in x or 'nan' in x:\n",
    "        return x\n",
    "    elif 'yahoo' in x:\n",
    "        return 'yahoo'\n",
    "    elif 'facebook' in x:\n",
    "        return 'facebook'\n",
    "    elif 'reddit' in x:\n",
    "        return 'reddit'\n",
    "    elif 'bing' in x:\n",
    "        return 'bing'\n",
    "    elif 'quora' in x:\n",
    "        return 'quora'\n",
    "    elif 'outlook' in x:\n",
    "        return 'outlook'\n",
    "    elif 'linkedin' in x:\n",
    "        return 'linkedin'\n",
    "    elif 'pinterest' in x:\n",
    "        return 'pinterest'\n",
    "    elif 'ask' in x:\n",
    "        return 'ask'\n",
    "    elif 'siliconvalley' in x:\n",
    "        return 'siliconvalley'\n",
    "    elif 'lunametrics' in x:\n",
    "        return 'lunametrics'\n",
    "    elif 'amazon' in x:\n",
    "        return 'amazon'\n",
    "    elif 'mysearch' in x:\n",
    "        return 'mysearch'\n",
    "    elif 'qiita' in x:\n",
    "        return 'qiita'\n",
    "    elif 'messenger' in x:\n",
    "        return 'messenger'\n",
    "    elif 'twitter' in x:\n",
    "        return 'twitter'\n",
    "    elif 't.co' in x:\n",
    "        return 't.co'\n",
    "    elif 'vk.com' in x:\n",
    "        return 'vk.com'\n",
    "    elif 'search' in x:\n",
    "        return 'search'\n",
    "    elif 'edu' in x:\n",
    "        return 'edu'\n",
    "    elif 'mail' in x:\n",
    "        return 'mail'\n",
    "    elif 'ad' in x:\n",
    "        return 'ad'\n",
    "    elif 'golang' in x:\n",
    "        return 'golang'\n",
    "    elif 'direct' in x:\n",
    "        return 'direct'\n",
    "    elif 'dealspotr' in x:\n",
    "        return 'dealspotr'\n",
    "    elif 'sashihara' in x:\n",
    "        return 'sashihara'\n",
    "    elif 'phandroid' in x:\n",
    "        return 'phandroid'\n",
    "    elif 'baidu' in x:\n",
    "        return 'baidu'\n",
    "    elif 'mdn' in x:\n",
    "        return 'mdn'\n",
    "    elif 'duckduckgo' in x:\n",
    "        return 'duckduckgo'\n",
    "    elif 'seroundtable' in x:\n",
    "        return 'seroundtable'\n",
    "    elif 'metrics' in x:\n",
    "        return 'metrics'\n",
    "    elif 'sogou' in x:\n",
    "        return 'sogou'\n",
    "    elif 'businessinsider' in x:\n",
    "        return 'businessinsider'\n",
    "    elif 'github' in x:\n",
    "        return 'github'\n",
    "    elif 'gophergala' in x:\n",
    "        return 'gophergala'\n",
    "    elif 'yandex' in x:\n",
    "        return 'yandex'\n",
    "    elif 'msn' in x:\n",
    "        return 'msn'\n",
    "    elif 'dfa' in x:\n",
    "        return 'dfa'\n",
    "    elif '(not set)' in x:\n",
    "        return '(not set)'\n",
    "    elif 'feedly' in x:\n",
    "        return 'feedly'\n",
    "    elif 'arstechnica' in x:\n",
    "        return 'arstechnica'\n",
    "    elif 'squishable' in x:\n",
    "        return 'squishable'\n",
    "    elif 'flipboard' in x:\n",
    "        return 'flipboard'\n",
    "    elif 't-online.de' in x:\n",
    "        return 't-online.de'\n",
    "    elif 'sm.cn' in x:\n",
    "        return 'sm.cn'\n",
    "    elif 'wow' in x:\n",
    "        return 'wow'\n",
    "    elif 'baidu' in x:\n",
    "        return 'baidu'\n",
    "    elif 'partners' in x:\n",
    "        return 'partners'\n",
    "    else:\n",
    "        return 'others'\n",
    "    "
   ]
  },
  {
   "cell_type": "code",
   "execution_count": null,
   "id": "15d49af2-679d-4acc-a57b-f0de811fab23",
   "metadata": {},
   "outputs": [],
   "source": [
    "def process_device(df):\n",
    "    print(\"process device ...\")\n",
    "    df['source_country'] = df['trafficSource_source'] + '_' + df['geoNetwork_country']\n",
    "    df['campaign_medium'] = df['trafficSource_campaign'] + '_' + df['trafficSource_medium']\n",
    "    df['browser_category'] = df['device_browser'] + '_' + df['device_deviceCategory']\n",
    "    df['browser_os'] = df['device_browser'] + '_' + df['device_operatingSystem']\n",
    "    return df\n",
    "\n",
    "\n",
    "def custom(df):\n",
    "    print('custom ...')\n",
    "    df['device_deviceCategory_channelGrouping'] = df['device_deviceCategory'] + \"_\" + df['channelGrouping']\n",
    "    df['channelGrouping_browser'] = df['device_browser'] + \"_\" + df['channelGrouping']\n",
    "    df['channelGrouping_OS'] = df['device_operatingSystem'] + \"_\" + df['channelGrouping']\n",
    "    \n",
    "    for i in ['geoNetwork_city', 'geoNetwork_continent', 'geoNetwork_country','geoNetwork_metro', 'geoNetwork_networkDomain', 'geoNetwork_region','geoNetwork_subContinent']:\n",
    "        for j in ['device_browser','device_deviceCategory', 'device_operatingSystem', 'trafficSource_source']:\n",
    "            df[i + \"_\" + j] = df[i] + \"_\" + df[j]\n",
    "    \n",
    "    df['content_source'] = df['trafficSource_adContent'] + \"_\" + df['source_country']\n",
    "    df['medium_source'] = df['trafficSource_medium'] + \"_\" + df['source_country']\n",
    "    return df"
   ]
  },
  {
   "cell_type": "code",
   "execution_count": null,
   "id": "8d450b0a-27dc-422e-9fad-449749584b97",
   "metadata": {},
   "outputs": [],
   "source": [
    "for df in [train, test]:\n",
    "\n",
    "    df['device_browser'] = df['device_browser'].map(lambda x:browser_mapping(str(x).lower())).astype('str')\n",
    "    df['trafficSource_adContent'] = df['trafficSource_adContent'].map(lambda x:adcontents_mapping(str(x).lower())).astype('str')\n",
    "    df['trafficSource_source'] = df['trafficSource_source'].map(lambda x:source_mapping(str(x).lower())).astype('str')\n",
    "    \n",
    "    df = process_device(df)\n",
    "    df = custom(df)"
   ]
  },
  {
   "cell_type": "code",
   "execution_count": null,
   "id": "d6f81127-c7ba-4e6f-afce-8418b4219003",
   "metadata": {},
   "outputs": [],
   "source": [
    "excluded_features = [\n",
    "    'date', 'fullVisitorId', 'visitStartTime'\n",
    "]\n",
    "\n",
    "categorical_features = [\n",
    "    _f for _f in train.columns\n",
    "    if (_f not in excluded_features) & (train[_f].dtype == 'object')\n",
    "]"
   ]
  },
  {
   "cell_type": "markdown",
   "id": "bca39080-aee6-4c13-91ce-b6d43042fd46",
   "metadata": {},
   "source": [
    "ToDo. `pd.factorize()`"
   ]
  },
  {
   "cell_type": "code",
   "execution_count": null,
   "id": "436311a6-ee62-4793-b4c7-973d1821848a",
   "metadata": {},
   "outputs": [],
   "source": [
    "categorical_features"
   ]
  },
  {
   "cell_type": "code",
   "execution_count": null,
   "id": "605e666f-2625-4371-aa6b-c3af5e95a5a9",
   "metadata": {},
   "outputs": [],
   "source": [
    "for f in categorical_features:\n",
    "    train[f], indexer = pd.factorize(train[f]) # https://lightgbm.readthedocs.io/en/latest/Advanced-Topics.html -- lgbm performs well with factorization instead of ohe\n",
    "    test[f] = indexer.get_indexer(test[f])"
   ]
  },
  {
   "cell_type": "code",
   "execution_count": null,
   "id": "fbafe661-e7c3-45dd-aad3-0e3b087a70d4",
   "metadata": {},
   "outputs": [],
   "source": [
    "[c for c in X_train.columns if c not in categorical_features]"
   ]
  },
  {
   "cell_type": "code",
   "execution_count": null,
   "id": "4af58eaa-64aa-4ccb-bc95-b1d93c09c142",
   "metadata": {},
   "outputs": [],
   "source": [
    "excluded_features = ['revenue_generated', 'revenue_amount', 'fullVisitorId', 'visitStartTime', 'date_time', 'date']"
   ]
  },
  {
   "cell_type": "code",
   "execution_count": null,
   "id": "3c0df8a4-2166-49b9-b12a-5ca1b99e7b7c",
   "metadata": {},
   "outputs": [],
   "source": [
    "X_train = train.drop(columns=excluded_features)\n",
    "y_train = train.revenue_generated"
   ]
  },
  {
   "cell_type": "code",
   "execution_count": null,
   "id": "b7249ead-474f-436a-b2b1-93a0720abe55",
   "metadata": {},
   "outputs": [],
   "source": [
    "X_test = test.drop(columns=excluded_features)\n",
    "y_test = test.revenue_generated"
   ]
  },
  {
   "cell_type": "code",
   "execution_count": null,
   "id": "e3a3b816-4b25-41d4-b989-a1665f76661b",
   "metadata": {},
   "outputs": [],
   "source": [
    "# X_train.to_csv('data/X_train.csv')\n",
    "# y_train.to_csv('data/y_train.csv')\n",
    "# X_test.to_csv('data/X_test.csv')\n",
    "# y_test.to_csv('data/y_test.csv')"
   ]
  },
  {
   "cell_type": "code",
   "execution_count": null,
   "id": "8d1bbd3d-cd97-4055-befa-d96e95e2a503",
   "metadata": {},
   "outputs": [],
   "source": []
  }
 ],
 "metadata": {
  "kernelspec": {
   "display_name": "Python 3 (ipykernel)",
   "language": "python",
   "name": "python3"
  },
  "language_info": {
   "codemirror_mode": {
    "name": "ipython",
    "version": 3
   },
   "file_extension": ".py",
   "mimetype": "text/x-python",
   "name": "python",
   "nbconvert_exporter": "python",
   "pygments_lexer": "ipython3",
   "version": "3.8.12"
  }
 },
 "nbformat": 4,
 "nbformat_minor": 5
}
