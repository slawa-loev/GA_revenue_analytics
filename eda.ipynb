{
 "cells": [
  {
   "cell_type": "markdown",
   "id": "3fd797c8-baa6-4bc9-920d-f8200fc1b9a3",
   "metadata": {},
   "source": [
    "Having a look at the data"
   ]
  },
  {
   "cell_type": "code",
   "execution_count": 1,
   "id": "e3fb63a9-77d3-4ac7-8980-e8d50ea1f0cc",
   "metadata": {},
   "outputs": [],
   "source": [
    "# import packages\n",
    "\n",
    "import gc\n",
    "import numpy as np\n",
    "import pandas as pd\n",
    "pd.options.display.float_format = '{:20,.2f}'.format # disabling scientific notation in pandas\n",
    "import ydata_profiling \n",
    "import pickle\n",
    "import matplotlib.pyplot as plt\n",
    "import seaborn as sns\n",
    "%load_ext autoreload\n",
    "%autoreload 2"
   ]
  },
  {
   "cell_type": "code",
   "execution_count": null,
   "id": "908e95c7-31a1-45e5-a2cc-2ab0109eae28",
   "metadata": {},
   "outputs": [],
   "source": [
    "#train_df_cat = pd.read_csv(\"data/train_categorial_features_moda.csv\")\n",
    "#train_df_cat['fullVisitorId'] = train_df_cat['fullVisitorId'].astype(str) "
   ]
  },
  {
   "cell_type": "code",
   "execution_count": null,
   "id": "5913fec1-6cc7-4e27-bbd6-88a942a26347",
   "metadata": {},
   "outputs": [],
   "source": [
    "#train_df_cat.shape"
   ]
  },
  {
   "cell_type": "code",
   "execution_count": null,
   "id": "56687da0-5a7a-4f58-9394-17b790c359e0",
   "metadata": {},
   "outputs": [],
   "source": [
    "#train_df_cat.head()"
   ]
  },
  {
   "cell_type": "code",
   "execution_count": null,
   "id": "dc7c2d74-e7b6-4549-aafd-8db9359d2b24",
   "metadata": {},
   "outputs": [],
   "source": [
    "#train_df_cat.dtypes"
   ]
  },
  {
   "cell_type": "code",
   "execution_count": 2,
   "id": "e9bdb6c9-1e42-4ddc-83d7-b50a12686594",
   "metadata": {},
   "outputs": [],
   "source": [
    "train_df_filter = pd.read_csv(\"data/train_filtered.csv\", dtype={'fullVisitorId':str})\n",
    "#train_df_filter['fullVisitorId'] = train_df_filter['fullVisitorId'].astype(str)"
   ]
  },
  {
   "cell_type": "code",
   "execution_count": 3,
   "id": "220d3e14-bc94-4355-8c14-5675d8269bf4",
   "metadata": {},
   "outputs": [
    {
     "data": {
      "text/plain": [
       "(902755, 32)"
      ]
     },
     "execution_count": 3,
     "metadata": {},
     "output_type": "execute_result"
    }
   ],
   "source": [
    "train_df_filter.shape"
   ]
  },
  {
   "cell_type": "code",
   "execution_count": null,
   "id": "75180766-a770-4d6e-bebd-6dcdc2f72af6",
   "metadata": {},
   "outputs": [],
   "source": [
    "train_df_filter.head()"
   ]
  },
  {
   "cell_type": "code",
   "execution_count": null,
   "id": "b46447e4-cbbc-4b4e-a8b6-fd19b4d5cc4d",
   "metadata": {
    "tags": []
   },
   "outputs": [],
   "source": [
    "train_df_filter.dtypes"
   ]
  },
  {
   "cell_type": "code",
   "execution_count": null,
   "id": "bf3917ca-a3e6-4b0e-9df5-06e5a763cc5e",
   "metadata": {},
   "outputs": [],
   "source": [
    "#rain_df_flat = pd.read_csv(\"data/train_flat.csv\")\n",
    "#train_df_flat['fullVisitorId'] = train_df_flat['fullVisitorId'].astype(str)"
   ]
  },
  {
   "cell_type": "code",
   "execution_count": null,
   "id": "1e5f4dd9-8ef4-4ee0-a422-c84d31f66c54",
   "metadata": {},
   "outputs": [],
   "source": [
    "#train_df_flat.shape"
   ]
  },
  {
   "cell_type": "code",
   "execution_count": null,
   "id": "b9c07c69-877e-432c-ad79-45947b4642a6",
   "metadata": {
    "tags": []
   },
   "outputs": [],
   "source": [
    "#train_df_flat.head()"
   ]
  },
  {
   "cell_type": "code",
   "execution_count": null,
   "id": "0c30ab12-0bb8-46fb-aa05-906266eeed2f",
   "metadata": {
    "tags": []
   },
   "outputs": [],
   "source": [
    "#train_df_flat.dtypes"
   ]
  },
  {
   "cell_type": "code",
   "execution_count": null,
   "id": "9b186b44-4f0a-4ae7-a992-55ae0da123a7",
   "metadata": {
    "tags": []
   },
   "outputs": [],
   "source": [
    "#train_df_cat.isna().sum()"
   ]
  },
  {
   "cell_type": "code",
   "execution_count": null,
   "id": "d35897c8-6d57-43fc-9d48-ca6ad75958e1",
   "metadata": {
    "tags": []
   },
   "outputs": [],
   "source": [
    "train_df_filter.isna().sum() # train_df_filter seems to be the processed data after removing redundant and allegedly less meaningful features"
   ]
  },
  {
   "cell_type": "code",
   "execution_count": null,
   "id": "dcd666ed-b216-4e82-9a0c-ac0739fcffdb",
   "metadata": {
    "tags": []
   },
   "outputs": [],
   "source": [
    "#train_df_flat.isna().sum()"
   ]
  },
  {
   "cell_type": "markdown",
   "id": "3c9bdf82-7eab-4722-9717-038333862436",
   "metadata": {},
   "source": [
    "Note on the values of totals_transactionRevenue: Total transaction revenue is expressed as the value passed to Analytics multiplied by 10^6 (e.g., 2.40 would be given as 2400000)."
   ]
  },
  {
   "cell_type": "markdown",
   "id": "2b15cf20-0676-44b6-9048-5e72c2993f20",
   "metadata": {},
   "source": [
    "How many unique visitors did the ecommerce-shop have for the observed period?"
   ]
  },
  {
   "cell_type": "code",
   "execution_count": 4,
   "id": "7d8d891f-30d0-4f31-aa79-d8319d624ac4",
   "metadata": {},
   "outputs": [],
   "source": [
    "unique_customers = train_df_filter.fullVisitorId.nunique()"
   ]
  },
  {
   "cell_type": "code",
   "execution_count": 5,
   "id": "bc65d87b-1711-4c8e-a04c-db48db53b2d6",
   "metadata": {},
   "outputs": [
    {
     "data": {
      "text/plain": [
       "714167"
      ]
     },
     "execution_count": 5,
     "metadata": {},
     "output_type": "execute_result"
    }
   ],
   "source": [
    "unique_customers"
   ]
  },
  {
   "cell_type": "code",
   "execution_count": 7,
   "id": "a0c95ace-9475-4d63-be2f-5482b0fdf9e8",
   "metadata": {},
   "outputs": [
    {
     "data": {
      "text/plain": [
       "11512"
      ]
     },
     "execution_count": 7,
     "metadata": {},
     "output_type": "execute_result"
    }
   ],
   "source": [
    "sum(train_df_filter.totals_transactionRevenue>0)"
   ]
  },
  {
   "cell_type": "markdown",
   "id": "e728f412-13bf-4d07-9b24-e92a6529909f",
   "metadata": {},
   "source": [
    "How many of those generated revenue?"
   ]
  },
  {
   "cell_type": "code",
   "execution_count": 8,
   "id": "9a4ff675-a3aa-46b9-a7c5-d3c1276d3aaf",
   "metadata": {
    "tags": []
   },
   "outputs": [
    {
     "data": {
      "text/html": [
       "<div>\n",
       "<style scoped>\n",
       "    .dataframe tbody tr th:only-of-type {\n",
       "        vertical-align: middle;\n",
       "    }\n",
       "\n",
       "    .dataframe tbody tr th {\n",
       "        vertical-align: top;\n",
       "    }\n",
       "\n",
       "    .dataframe thead th {\n",
       "        text-align: right;\n",
       "    }\n",
       "</style>\n",
       "<table border=\"1\" class=\"dataframe\">\n",
       "  <thead>\n",
       "    <tr style=\"text-align: right;\">\n",
       "      <th></th>\n",
       "      <th>fullVisitorId</th>\n",
       "      <th>totals_transactionRevenue</th>\n",
       "    </tr>\n",
       "  </thead>\n",
       "  <tbody>\n",
       "    <tr>\n",
       "      <th>374904</th>\n",
       "      <td>1957458976293878100</td>\n",
       "      <td>23,129,500,000.00</td>\n",
       "    </tr>\n",
       "    <tr>\n",
       "      <th>430432</th>\n",
       "      <td>1957458976293878100</td>\n",
       "      <td>17,855,500,000.00</td>\n",
       "    </tr>\n",
       "    <tr>\n",
       "      <th>380637</th>\n",
       "      <td>5632276788326171571</td>\n",
       "      <td>16,023,750,000.00</td>\n",
       "    </tr>\n",
       "    <tr>\n",
       "      <th>772974</th>\n",
       "      <td>9417857471295131045</td>\n",
       "      <td>10,589,140,000.00</td>\n",
       "    </tr>\n",
       "    <tr>\n",
       "      <th>890691</th>\n",
       "      <td>1957458976293878100</td>\n",
       "      <td>8,677,830,000.00</td>\n",
       "    </tr>\n",
       "    <tr>\n",
       "      <th>...</th>\n",
       "      <td>...</td>\n",
       "      <td>...</td>\n",
       "    </tr>\n",
       "    <tr>\n",
       "      <th>302842</th>\n",
       "      <td>6705206951405647737</td>\n",
       "      <td>0.00</td>\n",
       "    </tr>\n",
       "    <tr>\n",
       "      <th>302843</th>\n",
       "      <td>0262472272057446420</td>\n",
       "      <td>0.00</td>\n",
       "    </tr>\n",
       "    <tr>\n",
       "      <th>302844</th>\n",
       "      <td>3627326284569000152</td>\n",
       "      <td>0.00</td>\n",
       "    </tr>\n",
       "    <tr>\n",
       "      <th>302845</th>\n",
       "      <td>0996291448451917297</td>\n",
       "      <td>0.00</td>\n",
       "    </tr>\n",
       "    <tr>\n",
       "      <th>902754</th>\n",
       "      <td>0814900163617805053</td>\n",
       "      <td>0.00</td>\n",
       "    </tr>\n",
       "  </tbody>\n",
       "</table>\n",
       "<p>902755 rows × 2 columns</p>\n",
       "</div>"
      ],
      "text/plain": [
       "              fullVisitorId  totals_transactionRevenue\n",
       "374904  1957458976293878100          23,129,500,000.00\n",
       "430432  1957458976293878100          17,855,500,000.00\n",
       "380637  5632276788326171571          16,023,750,000.00\n",
       "772974  9417857471295131045          10,589,140,000.00\n",
       "890691  1957458976293878100           8,677,830,000.00\n",
       "...                     ...                        ...\n",
       "302842  6705206951405647737                       0.00\n",
       "302843  0262472272057446420                       0.00\n",
       "302844  3627326284569000152                       0.00\n",
       "302845  0996291448451917297                       0.00\n",
       "902754  0814900163617805053                       0.00\n",
       "\n",
       "[902755 rows x 2 columns]"
      ]
     },
     "execution_count": 8,
     "metadata": {},
     "output_type": "execute_result"
    }
   ],
   "source": [
    "train_df_filter[['fullVisitorId', 'totals_transactionRevenue']].sort_values('totals_transactionRevenue',ascending=False)"
   ]
  },
  {
   "cell_type": "code",
   "execution_count": 9,
   "id": "b9e968c4-a70e-43d6-b7d3-a0ed5858e884",
   "metadata": {},
   "outputs": [],
   "source": [
    "rev_by_customer = train_df_filter[['fullVisitorId', 'totals_transactionRevenue']].groupby('fullVisitorId').sum().sort_values('totals_transactionRevenue',ascending=False)"
   ]
  },
  {
   "cell_type": "code",
   "execution_count": 10,
   "id": "5e633d1f-f1f9-4bd4-86b3-cb8d04d9b74d",
   "metadata": {},
   "outputs": [],
   "source": [
    "rev_by_customer_real = rev_by_customer.copy()"
   ]
  },
  {
   "cell_type": "code",
   "execution_count": 11,
   "id": "f0b68b09-d0e2-4b14-9ee3-1804d83ffa8d",
   "metadata": {},
   "outputs": [
    {
     "data": {
      "text/html": [
       "<div>\n",
       "<style scoped>\n",
       "    .dataframe tbody tr th:only-of-type {\n",
       "        vertical-align: middle;\n",
       "    }\n",
       "\n",
       "    .dataframe tbody tr th {\n",
       "        vertical-align: top;\n",
       "    }\n",
       "\n",
       "    .dataframe thead th {\n",
       "        text-align: right;\n",
       "    }\n",
       "</style>\n",
       "<table border=\"1\" class=\"dataframe\">\n",
       "  <thead>\n",
       "    <tr style=\"text-align: right;\">\n",
       "      <th></th>\n",
       "      <th>totals_transactionRevenue</th>\n",
       "    </tr>\n",
       "    <tr>\n",
       "      <th>fullVisitorId</th>\n",
       "      <th></th>\n",
       "    </tr>\n",
       "  </thead>\n",
       "  <tbody>\n",
       "    <tr>\n",
       "      <th>1957458976293878100</th>\n",
       "      <td>77,113,430,000.00</td>\n",
       "    </tr>\n",
       "    <tr>\n",
       "      <th>5632276788326171571</th>\n",
       "      <td>16,023,750,000.00</td>\n",
       "    </tr>\n",
       "    <tr>\n",
       "      <th>9417857471295131045</th>\n",
       "      <td>15,170,120,000.00</td>\n",
       "    </tr>\n",
       "    <tr>\n",
       "      <th>4471415710206918415</th>\n",
       "      <td>11,211,100,000.00</td>\n",
       "    </tr>\n",
       "    <tr>\n",
       "      <th>4984366501121503466</th>\n",
       "      <td>9,513,900,000.00</td>\n",
       "    </tr>\n",
       "    <tr>\n",
       "      <th>...</th>\n",
       "      <td>...</td>\n",
       "    </tr>\n",
       "    <tr>\n",
       "      <th>3362854807171208318</th>\n",
       "      <td>0.00</td>\n",
       "    </tr>\n",
       "    <tr>\n",
       "      <th>3362855878337917591</th>\n",
       "      <td>0.00</td>\n",
       "    </tr>\n",
       "    <tr>\n",
       "      <th>336286767069572297</th>\n",
       "      <td>0.00</td>\n",
       "    </tr>\n",
       "    <tr>\n",
       "      <th>3362869754320830266</th>\n",
       "      <td>0.00</td>\n",
       "    </tr>\n",
       "    <tr>\n",
       "      <th>9999986437109498564</th>\n",
       "      <td>0.00</td>\n",
       "    </tr>\n",
       "  </tbody>\n",
       "</table>\n",
       "<p>714167 rows × 1 columns</p>\n",
       "</div>"
      ],
      "text/plain": [
       "                     totals_transactionRevenue\n",
       "fullVisitorId                                 \n",
       "1957458976293878100          77,113,430,000.00\n",
       "5632276788326171571          16,023,750,000.00\n",
       "9417857471295131045          15,170,120,000.00\n",
       "4471415710206918415          11,211,100,000.00\n",
       "4984366501121503466           9,513,900,000.00\n",
       "...                                        ...\n",
       "3362854807171208318                       0.00\n",
       "3362855878337917591                       0.00\n",
       "336286767069572297                        0.00\n",
       "3362869754320830266                       0.00\n",
       "9999986437109498564                       0.00\n",
       "\n",
       "[714167 rows x 1 columns]"
      ]
     },
     "execution_count": 11,
     "metadata": {},
     "output_type": "execute_result"
    }
   ],
   "source": [
    "rev_by_customer"
   ]
  },
  {
   "cell_type": "code",
   "execution_count": null,
   "id": "d84bab7c-4ae7-42f1-be56-d9450a293a2a",
   "metadata": {},
   "outputs": [],
   "source": [
    "rev_by_customer_real.totals_transactionRevenue = rev_by_customer_real.totals_transactionRevenue/(10**6)"
   ]
  },
  {
   "cell_type": "code",
   "execution_count": null,
   "id": "a45ffb39-ea46-46fd-9af7-2c7011773b28",
   "metadata": {},
   "outputs": [],
   "source": [
    "rev_by_customer_real"
   ]
  },
  {
   "cell_type": "code",
   "execution_count": 12,
   "id": "13a5844d-8b32-4cbb-a46f-99ed4e0cfe2b",
   "metadata": {},
   "outputs": [],
   "source": [
    "paying_customers = (rev_by_customer.totals_transactionRevenue > 0).sum()"
   ]
  },
  {
   "cell_type": "code",
   "execution_count": 13,
   "id": "97840820-91f2-4b32-917a-b16b4b08d601",
   "metadata": {},
   "outputs": [
    {
     "data": {
      "text/plain": [
       "9994"
      ]
     },
     "execution_count": 13,
     "metadata": {},
     "output_type": "execute_result"
    }
   ],
   "source": [
    "paying_customers"
   ]
  },
  {
   "cell_type": "code",
   "execution_count": null,
   "id": "18255037-0564-47df-a213-577e78ec72a1",
   "metadata": {},
   "outputs": [],
   "source": [
    "conversion_rate = paying_customers/unique_customers\n",
    "conversion_rate"
   ]
  },
  {
   "cell_type": "markdown",
   "id": "4ab3d4bd-e41f-43bb-b2bc-4a4ad0d9d0a5",
   "metadata": {},
   "source": [
    "Only 1.4% of all visitors generate (tracked) revenue (assuming missing values mean no revenue)"
   ]
  },
  {
   "cell_type": "code",
   "execution_count": null,
   "id": "24f520ac-6822-44f6-8fcb-ca7d4bbf55c8",
   "metadata": {},
   "outputs": [],
   "source": [
    "train_df_filter.head()"
   ]
  },
  {
   "cell_type": "code",
   "execution_count": null,
   "id": "42411bed-011b-49c5-b7d9-f3ba8c1cd48f",
   "metadata": {},
   "outputs": [],
   "source": [
    "train_df_filter.nunique()"
   ]
  },
  {
   "cell_type": "markdown",
   "id": "53aa9482-304d-4604-9029-bb5202785222",
   "metadata": {},
   "source": [
    "We can see that the time period in question are 366 days (not necessarily consecutive ones -- as days in 'dates' where no visits happened would not be recorded)"
   ]
  },
  {
   "cell_type": "code",
   "execution_count": null,
   "id": "2f820cef-d0e1-405c-acdb-6e517bca34ce",
   "metadata": {},
   "outputs": [],
   "source": [
    "#train_df_cat.nunique()"
   ]
  },
  {
   "cell_type": "code",
   "execution_count": null,
   "id": "f19ab190-5069-4082-877d-d2f96c778f6a",
   "metadata": {},
   "outputs": [],
   "source": [
    "#train_df_filter.columns.isin(train_df_cat.columns)"
   ]
  },
  {
   "cell_type": "code",
   "execution_count": null,
   "id": "99cadeb0-ded8-4ebf-a0be-1b0287e8957c",
   "metadata": {},
   "outputs": [],
   "source": [
    "#train_df_filter.iloc[:,train_df_filter.columns.isin(train_df_cat.columns)].nunique()"
   ]
  },
  {
   "cell_type": "markdown",
   "id": "a116c280-e408-4881-9d42-ab0063c9dfed",
   "metadata": {},
   "source": [
    "The \"filter and \"cat columns do not fully correspond. That is, there is more categorical data in \"filter than in \"cat, probably because some rows have been dropped in \"cat due to too much missing data.\n",
    "\n",
    "\" cat also has helpfully a weekday column.\n",
    "\n",
    "Probably time of the year might also help -- but then these vary with country (etc.) of which there are 222."
   ]
  },
  {
   "cell_type": "code",
   "execution_count": null,
   "id": "f1999c59-6bfb-4bdd-9e3b-9f81de3cd001",
   "metadata": {},
   "outputs": [],
   "source": [
    "#train_df_filter.device_operatingSystem.value_counts()"
   ]
  },
  {
   "cell_type": "code",
   "execution_count": null,
   "id": "7d5b0149-a8e2-49db-88f9-ebaee5e72e18",
   "metadata": {},
   "outputs": [],
   "source": [
    "# pkl = pickle.load('data/data_all_features.pkl')"
   ]
  },
  {
   "cell_type": "markdown",
   "id": "6ea6c5ae-e976-4595-9d18-db39567f8466",
   "metadata": {},
   "source": [
    "How many visitors returned?"
   ]
  },
  {
   "cell_type": "code",
   "execution_count": 14,
   "id": "ab756ea2-2ba9-4733-b7e4-e5edd33f6433",
   "metadata": {},
   "outputs": [],
   "source": [
    "return_vis = (train_df_filter.fullVisitorId.value_counts() > 1).sum()"
   ]
  },
  {
   "cell_type": "code",
   "execution_count": 15,
   "id": "8dd63334-689b-447a-af06-78f944dc9e7d",
   "metadata": {},
   "outputs": [
    {
     "data": {
      "text/plain": [
       "93020"
      ]
     },
     "execution_count": 15,
     "metadata": {},
     "output_type": "execute_result"
    }
   ],
   "source": [
    "return_vis"
   ]
  },
  {
   "cell_type": "code",
   "execution_count": null,
   "id": "7debc818-0029-493c-bd7f-f802ba72d350",
   "metadata": {},
   "outputs": [],
   "source": [
    "return_vis/unique_customers"
   ]
  },
  {
   "cell_type": "markdown",
   "id": "630dd3f9-0f7d-4cce-9875-61618234221a",
   "metadata": {},
   "source": [
    "About 12.5% of all visitors return"
   ]
  },
  {
   "cell_type": "code",
   "execution_count": null,
   "id": "d5d663ca-8490-4d5c-beaa-ff700df3c2d5",
   "metadata": {},
   "outputs": [],
   "source": [
    "customer_rev_visits = rev_by_customer.copy()"
   ]
  },
  {
   "cell_type": "code",
   "execution_count": null,
   "id": "55a08523-0228-4040-96f2-478e853bc727",
   "metadata": {},
   "outputs": [],
   "source": [
    "#customer_rev_visits['fullVisitorId_sort'] = customer_rev_visits.index.astype(float) # to sort by customerID one has to convert them to floats as int formats are too low precision for such high numbers"
   ]
  },
  {
   "cell_type": "code",
   "execution_count": null,
   "id": "2b6bd067-497f-4b3b-85fa-fd9033f86b0a",
   "metadata": {},
   "outputs": [],
   "source": [
    "customer_rev_visits.sort_values('fullVisitorId', inplace=True)"
   ]
  },
  {
   "cell_type": "code",
   "execution_count": null,
   "id": "2139b0ba-5d5f-4ad8-b39b-f16272d8d5b3",
   "metadata": {},
   "outputs": [],
   "source": [
    "customer_rev_visits.reset_index(inplace=True)"
   ]
  },
  {
   "cell_type": "code",
   "execution_count": null,
   "id": "78603c4d-a8e7-44eb-bf49-606b11d8186a",
   "metadata": {},
   "outputs": [],
   "source": [
    "visits = pd.DataFrame(train_df_filter.fullVisitorId.value_counts())"
   ]
  },
  {
   "cell_type": "code",
   "execution_count": null,
   "id": "09b4bf25-3797-4b36-939a-e4457fd83f01",
   "metadata": {},
   "outputs": [],
   "source": [
    "#visits['fullVisitorId_sort'] = visits.index.astype(float)"
   ]
  },
  {
   "cell_type": "code",
   "execution_count": null,
   "id": "d4eb0f06-630f-4958-9089-f75d73439934",
   "metadata": {},
   "outputs": [],
   "source": [
    "visits.columns = ['visits']"
   ]
  },
  {
   "cell_type": "code",
   "execution_count": null,
   "id": "08bda017-9c8d-4db0-b000-f3cd80408866",
   "metadata": {},
   "outputs": [],
   "source": [
    "visits.reset_index(names=['fullVisitorId', 'visits'], inplace=True)"
   ]
  },
  {
   "cell_type": "code",
   "execution_count": null,
   "id": "faa0fb75-8783-4d61-9f11-443ed8b09b41",
   "metadata": {},
   "outputs": [],
   "source": [
    "visits.sort_values('fullVisitorId', inplace=True, ignore_index=True)"
   ]
  },
  {
   "cell_type": "code",
   "execution_count": null,
   "id": "791a18d7-6361-4e5a-a25f-56b9a47a1f9c",
   "metadata": {},
   "outputs": [],
   "source": [
    "visits"
   ]
  },
  {
   "cell_type": "code",
   "execution_count": null,
   "id": "406a7082-c003-43f6-88df-2778f57f96c6",
   "metadata": {},
   "outputs": [],
   "source": [
    "customer_rev_visits['visits'] = visits['visits']"
   ]
  },
  {
   "cell_type": "code",
   "execution_count": null,
   "id": "e56757ec-9deb-48f2-a2e2-de354f9ea94d",
   "metadata": {},
   "outputs": [],
   "source": [
    "customer_rev_visits"
   ]
  },
  {
   "cell_type": "code",
   "execution_count": null,
   "id": "58021b3b-9165-4a92-9a7e-738542d991b7",
   "metadata": {},
   "outputs": [],
   "source": [
    "paying_customers_visit = customer_rev_visits.sort_values('totals_transactionRevenue', ascending=False).head(paying_customers)"
   ]
  },
  {
   "cell_type": "code",
   "execution_count": null,
   "id": "3b13c37f-78b9-41c6-88cc-af4219b6be23",
   "metadata": {},
   "outputs": [],
   "source": [
    "paying_returning = (paying_customers_visit['visits'] > 1).sum() # the majority of paying customers are returning visitors"
   ]
  },
  {
   "cell_type": "code",
   "execution_count": null,
   "id": "17e18943-d16f-4018-8bfe-c2b12593a582",
   "metadata": {},
   "outputs": [],
   "source": [
    "paying_returning"
   ]
  },
  {
   "cell_type": "code",
   "execution_count": null,
   "id": "14e39f21-bacf-4c79-83de-d54b366f6014",
   "metadata": {},
   "outputs": [],
   "source": [
    "paying_returning/paying_customers # 65.17%"
   ]
  },
  {
   "cell_type": "code",
   "execution_count": null,
   "id": "fac6afba-4714-479c-9cae-c0894df65532",
   "metadata": {},
   "outputs": [],
   "source": [
    "paying_customers"
   ]
  },
  {
   "cell_type": "code",
   "execution_count": null,
   "id": "9dfbee17-894e-4b62-97a8-1a3e19517a71",
   "metadata": {},
   "outputs": [],
   "source": [
    "unique_customers"
   ]
  },
  {
   "cell_type": "code",
   "execution_count": null,
   "id": "5cf4369b-91cb-4712-94f7-0e5f4e846e8b",
   "metadata": {},
   "outputs": [],
   "source": [
    "returning_no_pay = return_vis - paying_returning"
   ]
  },
  {
   "cell_type": "code",
   "execution_count": null,
   "id": "1e63688b-9557-4f88-addb-536a923819b1",
   "metadata": {},
   "outputs": [],
   "source": [
    "no_pay_vis = unique_customers - paying_customers"
   ]
  },
  {
   "cell_type": "code",
   "execution_count": null,
   "id": "b1733a0b-624c-4735-89dc-187cf0fbd93f",
   "metadata": {},
   "outputs": [],
   "source": [
    "returning_no_pay/no_pay_vis"
   ]
  },
  {
   "cell_type": "markdown",
   "id": "c1350a4e-bd68-4f86-8d4b-140b81aec1e9",
   "metadata": {},
   "source": [
    "Only 11.76% of non-paying visitors return, suggesting that more than one visit (> 1) is a predictor for transactions"
   ]
  },
  {
   "cell_type": "markdown",
   "id": "5b98f852-a139-4b32-bc2e-ba52918bd06f",
   "metadata": {},
   "source": [
    "Q: Which of these features can be influenced?\n",
    "\n",
    "channelGrouping                                      8 The Default Channel Group associated with an end user's session for this View.\n",
    "date                                               366 The date of the session in YYYYMMDD format.\n",
    "fullVisitorId                                   723854\n",
    "visitNumber                                        384 The session number for this user. If this is the first session, then this is set to 1.\n",
    "visitStartTime                                  886276 The timestamp (expressed as POSIX time).\n",
    "totals_bounces                                       2 Total bounces (for convenience). For a bounced session, the value is 1, otherwise it is null.\n",
    "\n",
    "Visitors who enter the site and then leave (\"bounce\") rather than continuing to view other pages within the same site.\n",
    "\n",
    "totals_hits                                        274 Total number of hits within the session. range: 1-446525\n",
    "\n",
    "A hit is merely a request for a file from a Web server. A request for a Web page counts as a hit, but so does a request for a graphic on a Web page. Since the number of graphics per page can vary considerably, hits mean very little for comparison purposes.\n",
    "\n",
    "totals_newVisits                                     2 Total number of new users in session (for convenience). If this is the first visit, this value is 1, otherwise it is null.\n",
    "totals_pageviews                                   214 Total number of pageviews within the session. -- if it is 1 then bounce is 1 and otherwise 0\n",
    "totals_transactionRevenue                         5331 Total transaction revenue, expressed as the value passed to Analytics multiplied by 10^6 (e.g., 2.40 would be given as 2400000).\n",
    "device_browser                                      54 Browser used during visit. Long tail < 10 -- can be summarised as other or so\n",
    "device_deviceCategory                                3 desktop/mobile/tablet -- some redundancy with browser\n",
    "device_isMobile                                      2 0/1 - some redundancy with deviceCategory\n",
    "device_operatingSystem                              20\n",
    "geoNetwork_city                                    648\n",
    "geoNetwork_continent                                 6\n",
    "geoNetwork_country                                 222 The country from which sessions originated, based on IP address.\n",
    "geoNetwork_metro                                    93 The Designated Market Area (DMA) from which sessions originate.\n",
    "geoNetwork_networkDomain                         28063 The domain name of user's internet service proviser (ISP), derived from the domain name registered to the ISP's IP address.\n",
    "geoNetwork_region                                  375\n",
    "geoNetwork_subContinent                             23\n",
    "trafficSource_adContent                             45 The ad content of the traffic source. Can be set by the utm_content URL parameter.\n",
    "trafficSource_adwordsClickInfo.adNetworkType         3 Network Type. Takes one of the following values: {“Google Search\", \"Content\", \"Search partners\", \"Ad Exchange\", \"Yahoo Japan Search\", \"Yahoo Japan AFS\", “unknown”} -- most are \"@\", prbbly missing val\n",
    "trafficSource_adwordsClickInfo.isVideoAd             1 True if it is a Trueview video ad. -- has just one value and is therefore WITHOUT MEANING\n",
    "trafficSource_adwordsClickInfo.page                  9 Page number in search results where the ad was shown. -- most have missing values? 0? Or is this the first page\n",
    "trafficSource_adwordsClickInfo.slot                  3 Position of the Ad. Takes one of the following values:{“RHS\", \"Top\"} -- @ is missing data, most are @\n",
    "trafficSource_campaign                              10 The campaign value. Usually set by the utm_campaign URL parameter. -- most data is missing\n",
    "trafficSource_isTrueDirect                           2 True if the source of the session was Direct (meaning the user typed the name of your website URL into the browser or came to your site via a bookmark), This field will also be true if 2 successive but distinct sessions have exactly the same campaign details. Otherwise NULL.\n",
    "trafficSource_keyword                             3659 The keyword of the traffic source, usually set when the trafficSource.medium is \"organic\" or \"cpc\". Can be set by the utm_term URL parameter.\n",
    "trafficSource_medium                                 6 The medium of the traffic source. Could be \"organic\", \"cpc\", \"referral\", or the value of the utm_medium URL parameter.   \n",
    "trafficSource_referralPath                        1475 If trafficSource.medium is \"referral\", then this is set to the path of the referrer. (The host name of the referrer is in trafficSource.source.)\n",
    "trafficSource_source                               380 The source of the traffic source. Could be the name of the search engine, the referring hostname, or a value of the utm_source URL parameter."
   ]
  },
  {
   "cell_type": "code",
   "execution_count": null,
   "id": "fed2d820-fb56-4188-b91f-d14916548ad1",
   "metadata": {},
   "outputs": [],
   "source": [
    "train_df_filter['visitNumber'].value_counts()"
   ]
  },
  {
   "cell_type": "code",
   "execution_count": null,
   "id": "13c54da2-598a-464c-9119-2ea0a13ddd38",
   "metadata": {},
   "outputs": [],
   "source": [
    "train_df_filter.describe()"
   ]
  },
  {
   "cell_type": "code",
   "execution_count": null,
   "id": "c7e0f46b-04ed-45d8-99cf-ea5fff948529",
   "metadata": {},
   "outputs": [],
   "source": [
    "#train_df_flat.nunique()"
   ]
  },
  {
   "cell_type": "markdown",
   "id": "e79dd7f1-7232-44bc-87af-b634dd736232",
   "metadata": {},
   "source": [
    "EDA shows that there is very little correlation between revenue and other variables. This is possibly due to the difference in scale -- revenue is in millions, features are mostly categorical. Let's change the revenue feature.\n",
    "\n",
    "Looks like most features can be discarded.\n",
    "\n",
    "Also, data is not aggregated by customer but is session based. This allows, however, to identify features that play a role from session to session in generating revenue.\n",
    "\n",
    "There also seem to be some duplicates that need to be removed. After checking this, there seem to be no duplicates -- probably the impression comes from the fact that the profiling cannot deal with visitorIds."
   ]
  },
  {
   "cell_type": "code",
   "execution_count": 16,
   "id": "9c134583-e5c5-4af7-9007-4a4b17015865",
   "metadata": {},
   "outputs": [],
   "source": [
    "train_df_filter['revenue_generated'] = (train_df_filter['totals_transactionRevenue'] > 0).astype(int)"
   ]
  },
  {
   "cell_type": "code",
   "execution_count": 18,
   "id": "1450cfeb-8207-4c05-95d8-c90a16724b64",
   "metadata": {},
   "outputs": [],
   "source": [
    "visits_per_country = train_df_filter.geoNetwork_country.value_counts()"
   ]
  },
  {
   "cell_type": "code",
   "execution_count": 26,
   "id": "129c34ba-0e2a-4514-a0bf-a35cc381cf68",
   "metadata": {},
   "outputs": [],
   "source": [
    "visits_revenue_per_country = train_df_filter.reset_index()[['geoNetwork_country', 'index', 'revenue_generated']].groupby('geoNetwork_country').agg({'index':'count', 'revenue_generated': 'sum'}).reset_index().sort_values('index', ascending=False)"
   ]
  },
  {
   "cell_type": "code",
   "execution_count": 28,
   "id": "119de85e-f4ca-4e91-8f70-c1a9cd406d49",
   "metadata": {},
   "outputs": [
    {
     "data": {
      "text/html": [
       "<div>\n",
       "<style scoped>\n",
       "    .dataframe tbody tr th:only-of-type {\n",
       "        vertical-align: middle;\n",
       "    }\n",
       "\n",
       "    .dataframe tbody tr th {\n",
       "        vertical-align: top;\n",
       "    }\n",
       "\n",
       "    .dataframe thead th {\n",
       "        text-align: right;\n",
       "    }\n",
       "</style>\n",
       "<table border=\"1\" class=\"dataframe\">\n",
       "  <thead>\n",
       "    <tr style=\"text-align: right;\">\n",
       "      <th></th>\n",
       "      <th>geoNetwork_country</th>\n",
       "      <th>index</th>\n",
       "      <th>revenue_generated</th>\n",
       "    </tr>\n",
       "  </thead>\n",
       "  <tbody>\n",
       "    <tr>\n",
       "      <th>212</th>\n",
       "      <td>United States</td>\n",
       "      <td>364402</td>\n",
       "      <td>10951</td>\n",
       "    </tr>\n",
       "    <tr>\n",
       "      <th>93</th>\n",
       "      <td>India</td>\n",
       "      <td>51050</td>\n",
       "      <td>10</td>\n",
       "    </tr>\n",
       "    <tr>\n",
       "      <th>211</th>\n",
       "      <td>United Kingdom</td>\n",
       "      <td>37378</td>\n",
       "      <td>16</td>\n",
       "    </tr>\n",
       "    <tr>\n",
       "      <th>36</th>\n",
       "      <td>Canada</td>\n",
       "      <td>25850</td>\n",
       "      <td>190</td>\n",
       "    </tr>\n",
       "    <tr>\n",
       "      <th>217</th>\n",
       "      <td>Vietnam</td>\n",
       "      <td>24592</td>\n",
       "      <td>0</td>\n",
       "    </tr>\n",
       "    <tr>\n",
       "      <th>204</th>\n",
       "      <td>Turkey</td>\n",
       "      <td>20515</td>\n",
       "      <td>2</td>\n",
       "    </tr>\n",
       "    <tr>\n",
       "      <th>199</th>\n",
       "      <td>Thailand</td>\n",
       "      <td>20104</td>\n",
       "      <td>5</td>\n",
       "    </tr>\n",
       "    <tr>\n",
       "      <th>75</th>\n",
       "      <td>Germany</td>\n",
       "      <td>19962</td>\n",
       "      <td>8</td>\n",
       "    </tr>\n",
       "    <tr>\n",
       "      <th>28</th>\n",
       "      <td>Brazil</td>\n",
       "      <td>19778</td>\n",
       "      <td>10</td>\n",
       "    </tr>\n",
       "    <tr>\n",
       "      <th>102</th>\n",
       "      <td>Japan</td>\n",
       "      <td>19670</td>\n",
       "      <td>17</td>\n",
       "    </tr>\n",
       "    <tr>\n",
       "      <th>69</th>\n",
       "      <td>France</td>\n",
       "      <td>15823</td>\n",
       "      <td>5</td>\n",
       "    </tr>\n",
       "    <tr>\n",
       "      <th>132</th>\n",
       "      <td>Mexico</td>\n",
       "      <td>13220</td>\n",
       "      <td>20</td>\n",
       "    </tr>\n",
       "    <tr>\n",
       "      <th>196</th>\n",
       "      <td>Taiwan</td>\n",
       "      <td>12950</td>\n",
       "      <td>19</td>\n",
       "    </tr>\n",
       "    <tr>\n",
       "      <th>12</th>\n",
       "      <td>Australia</td>\n",
       "      <td>12686</td>\n",
       "      <td>13</td>\n",
       "    </tr>\n",
       "    <tr>\n",
       "      <th>164</th>\n",
       "      <td>Russia</td>\n",
       "      <td>11655</td>\n",
       "      <td>4</td>\n",
       "    </tr>\n",
       "    <tr>\n",
       "      <th>181</th>\n",
       "      <td>Spain</td>\n",
       "      <td>11646</td>\n",
       "      <td>2</td>\n",
       "    </tr>\n",
       "    <tr>\n",
       "      <th>142</th>\n",
       "      <td>Netherlands</td>\n",
       "      <td>11448</td>\n",
       "      <td>3</td>\n",
       "    </tr>\n",
       "    <tr>\n",
       "      <th>100</th>\n",
       "      <td>Italy</td>\n",
       "      <td>11325</td>\n",
       "      <td>2</td>\n",
       "    </tr>\n",
       "    <tr>\n",
       "      <th>159</th>\n",
       "      <td>Poland</td>\n",
       "      <td>9683</td>\n",
       "      <td>3</td>\n",
       "    </tr>\n",
       "    <tr>\n",
       "      <th>94</th>\n",
       "      <td>Indonesia</td>\n",
       "      <td>9266</td>\n",
       "      <td>11</td>\n",
       "    </tr>\n",
       "    <tr>\n",
       "      <th>158</th>\n",
       "      <td>Philippines</td>\n",
       "      <td>9234</td>\n",
       "      <td>3</td>\n",
       "    </tr>\n",
       "    <tr>\n",
       "      <th>174</th>\n",
       "      <td>Singapore</td>\n",
       "      <td>7144</td>\n",
       "      <td>10</td>\n",
       "    </tr>\n",
       "    <tr>\n",
       "      <th>97</th>\n",
       "      <td>Ireland</td>\n",
       "      <td>6490</td>\n",
       "      <td>6</td>\n",
       "    </tr>\n",
       "    <tr>\n",
       "      <th>123</th>\n",
       "      <td>Malaysia</td>\n",
       "      <td>6435</td>\n",
       "      <td>3</td>\n",
       "    </tr>\n",
       "    <tr>\n",
       "      <th>163</th>\n",
       "      <td>Romania</td>\n",
       "      <td>6425</td>\n",
       "      <td>1</td>\n",
       "    </tr>\n",
       "    <tr>\n",
       "      <th>209</th>\n",
       "      <td>Ukraine</td>\n",
       "      <td>5574</td>\n",
       "      <td>4</td>\n",
       "    </tr>\n",
       "    <tr>\n",
       "      <th>99</th>\n",
       "      <td>Israel</td>\n",
       "      <td>5552</td>\n",
       "      <td>6</td>\n",
       "    </tr>\n",
       "    <tr>\n",
       "      <th>157</th>\n",
       "      <td>Peru</td>\n",
       "      <td>5544</td>\n",
       "      <td>2</td>\n",
       "    </tr>\n",
       "    <tr>\n",
       "      <th>192</th>\n",
       "      <td>Sweden</td>\n",
       "      <td>5309</td>\n",
       "      <td>2</td>\n",
       "    </tr>\n",
       "    <tr>\n",
       "      <th>180</th>\n",
       "      <td>South Korea</td>\n",
       "      <td>5220</td>\n",
       "      <td>8</td>\n",
       "    </tr>\n",
       "  </tbody>\n",
       "</table>\n",
       "</div>"
      ],
      "text/plain": [
       "    geoNetwork_country   index  revenue_generated\n",
       "212      United States  364402              10951\n",
       "93               India   51050                 10\n",
       "211     United Kingdom   37378                 16\n",
       "36              Canada   25850                190\n",
       "217            Vietnam   24592                  0\n",
       "204             Turkey   20515                  2\n",
       "199           Thailand   20104                  5\n",
       "75             Germany   19962                  8\n",
       "28              Brazil   19778                 10\n",
       "102              Japan   19670                 17\n",
       "69              France   15823                  5\n",
       "132             Mexico   13220                 20\n",
       "196             Taiwan   12950                 19\n",
       "12           Australia   12686                 13\n",
       "164             Russia   11655                  4\n",
       "181              Spain   11646                  2\n",
       "142        Netherlands   11448                  3\n",
       "100              Italy   11325                  2\n",
       "159             Poland    9683                  3\n",
       "94           Indonesia    9266                 11\n",
       "158        Philippines    9234                  3\n",
       "174          Singapore    7144                 10\n",
       "97             Ireland    6490                  6\n",
       "123           Malaysia    6435                  3\n",
       "163            Romania    6425                  1\n",
       "209            Ukraine    5574                  4\n",
       "99              Israel    5552                  6\n",
       "157               Peru    5544                  2\n",
       "192             Sweden    5309                  2\n",
       "180        South Korea    5220                  8"
      ]
     },
     "execution_count": 28,
     "metadata": {},
     "output_type": "execute_result"
    }
   ],
   "source": [
    "visits_revenue_per_country.head(30)"
   ]
  },
  {
   "cell_type": "code",
   "execution_count": 29,
   "id": "654536ef-add7-4986-b6de-618295c7682e",
   "metadata": {},
   "outputs": [],
   "source": [
    "def plotCategoryRateBar(a, b, colName, topN=np.nan):\n",
    "    if topN == topN: # isNotNan\n",
    "        vals = b[colName].value_counts()[:topN]\n",
    "        subA = a.loc[a[colName].isin(vals.index.values), colName]\n",
    "        df = pd.DataFrame({'All':subA.value_counts() / len(a), 'Revenue':vals / len(b)})\n",
    "    else:\n",
    "        df = pd.DataFrame({'All':a[colName].value_counts() / len(a), 'Revenue':b[colName].value_counts() / len(b)})\n",
    "    df.sort_values('Revenue').plot.barh(colormap='jet')"
   ]
  },
  {
   "cell_type": "code",
   "execution_count": 36,
   "id": "b277c879-d90e-4a1e-8c88-62aca9237ec7",
   "metadata": {},
   "outputs": [
    {
     "data": {
      "image/png": "[encoded data removed]",
      "text/plain": [
       "<Figure size 432x288 with 1 Axes>"
      ]
     },
     "metadata": {
      "needs_background": "light"
     },
     "output_type": "display_data"
    }
   ],
   "source": [
    "sns.barplot(x=\"index\", y=\"geoNetwork_country\", data=visits_revenue_per_country.head(20), ci=None); "
   ]
  },
  {
   "cell_type": "code",
   "execution_count": 57,
   "id": "fbd1300f-a6c7-4365-a389-e0041a3e533b",
   "metadata": {},
   "outputs": [
    {
     "data": {
      "image/png": "[encoded data removed]",
      "text/plain": [
       "<Figure size 1008x1008 with 1 Axes>"
      ]
     },
     "metadata": {
      "needs_background": "light"
     },
     "output_type": "display_data"
    }
   ],
   "source": [
    "plt.figure(figsize=(14, 14))\n",
    "sns.barplot(x=\"revenue_log\", y=\"geoNetwork_country\", data=visits_revenue_per_country.sort_values('revenue_generated', ascending=False).head(20), ci=None); "
   ]
  },
  {
   "cell_type": "code",
   "execution_count": 58,
   "id": "dd68ece7-bff9-4788-81e1-bd3da6f08eff",
   "metadata": {},
   "outputs": [
    {
     "data": {
      "image/png": "[encoded data removed]",
      "text/plain": [
       "<Figure size 1008x1008 with 1 Axes>"
      ]
     },
     "metadata": {
      "needs_background": "light"
     },
     "output_type": "display_data"
    }
   ],
   "source": [
    "plt.figure(figsize=(14, 14))\n",
    "sns.barplot(x=\"revenue_generated\", y=\"geoNetwork_country\", data=visits_revenue_per_country.sort_values('revenue_generated', ascending=False).head(20), ci=None); "
   ]
  },
  {
   "cell_type": "code",
   "execution_count": 64,
   "id": "253cd154-a5f1-4d49-8cb0-4922194364c2",
   "metadata": {},
   "outputs": [],
   "source": [
    "visits_revenue_per_country.columns=['country','visits','visits_with_revenue', 'revenue_log']"
   ]
  },
  {
   "cell_type": "code",
   "execution_count": 69,
   "id": "0b7179ac-bf13-4885-81c8-de563d3f258e",
   "metadata": {},
   "outputs": [
    {
     "data": {
      "text/plain": [
       "<Figure size 1008x1008 with 0 Axes>"
      ]
     },
     "metadata": {},
     "output_type": "display_data"
    },
    {
     "data": {
      "image/png": "[encoded data removed]",
      "text/plain": [
       "<Figure size 432x288 with 1 Axes>"
      ]
     },
     "metadata": {
      "needs_background": "light"
     },
     "output_type": "display_data"
    }
   ],
   "source": [
    "plt.figure(figsize=(14, 14))\n",
    "visits_revenue_per_country.drop(columns='revenue_log').head(20).plot(x='country',kind=\"bar\");"
   ]
  },
  {
   "cell_type": "code",
   "execution_count": 79,
   "id": "4dd31798-9a43-4cab-a3ca-8a2d3e5b3059",
   "metadata": {},
   "outputs": [
    {
     "data": {
      "image/png": "[encoded data removed]",
      "text/plain": [
       "<Figure size 432x288 with 1 Axes>"
      ]
     },
     "metadata": {
      "needs_background": "light"
     },
     "output_type": "display_data"
    }
   ],
   "source": [
    "# create the plot\n",
    "sns.barplot(x='visits', y='country', data=visits_revenue_per_country.head(20), orient=\"h\")\n",
    "sns.barplot(x='visits_with_revenue', y='country', data=visits_revenue_per_country.head(20), orient=\"h\")\n",
    "\n",
    "# add labels and title\n",
    "plt.xlabel('Country')\n",
    "plt.ylabel('Visits')\n",
    "plt.title('Visits and Visits with Revenue by Country')\n",
    "\n",
    "# show the plot\n",
    "plt.show()"
   ]
  },
  {
   "cell_type": "code",
   "execution_count": 129,
   "id": "610f944b-d802-4be0-b9c7-3e1106fdfe01",
   "metadata": {},
   "outputs": [
    {
     "data": {
      "image/png": "[encoded data removed]",
      "text/plain": [
       "<Figure size 1152x720 with 2 Axes>"
      ]
     },
     "metadata": {},
     "output_type": "display_data"
    }
   ],
   "source": [
    "fig, ax = plt.subplots(figsize=(16, 10))\n",
    "\n",
    "top20 = visits_revenue_per_country.head(20).sort_values('visits', ascending=False).reset_index()\n",
    "\n",
    "# create the first plot\n",
    "top20.plot.barh(x='country', y='visits', ax=ax, color='#007bff', edgecolor='black')\n",
    "\n",
    "# create the second plot with a separate X axis\n",
    "ax2 = ax.twinx()\n",
    "top20.plot.barh(x='country', y='visits_with_revenue', color='#3F7F4C', ax=ax2, edgecolor='black')\n",
    "\n",
    "ax2.set_yticklabels([])\n",
    "ax2.set_yticks([])\n",
    "ax2.set_ylabel(None)\n",
    "\n",
    "# add labels and title\n",
    "ax.set_xlabel('Visits and Revenue Visits', fontsize=12)\n",
    "ax.set_ylabel('Country')\n",
    "ax.set_title('Visits and Revenue Visits by Country', fontsize=14, fontweight='bold')\n",
    "ax2.set_xlabel('Revenue Visits')\n",
    "\n",
    "# set background style\n",
    "sns.set_style(\"whitegrid\")\n",
    "\n",
    "# add values to bars\n",
    "for i, (value, name) in enumerate(zip(top20['visits_with_revenue'], top20['country'])):\n",
    "    ax.text(value + top20['visits'][i] + 5, i, str(value), color='#3F7F4C', fontsize=12)\n",
    "\n",
    "\n",
    "# save the plot as a PNG file\n",
    "#plt.savefig('visits_revenue_visits.png', dpi=300, bbox_inches='tight')\n",
    "\n",
    "# show the plot\n",
    "plt.show()\n"
   ]
  },
  {
   "cell_type": "code",
   "execution_count": 114,
   "id": "e873be25-9d24-4cca-a9e7-1fc268d8b89b",
   "metadata": {},
   "outputs": [],
   "source": [
    "summary = pd.DataFrame({'features': ['visits_total', 'visits_with_revenue', 'unique_visitors', 'returning_visitors', 'paying_visitors'], 'count': [902755, 11512, 714167, return_vis, paying_customers]})"
   ]
  },
  {
   "cell_type": "code",
   "execution_count": 126,
   "id": "99d9e556-46f6-4418-b10c-1cbb928e3575",
   "metadata": {},
   "outputs": [
    {
     "data": {
      "image/png": "[encoded data removed]",
      "text/plain": [
       "<Figure size 720x432 with 1 Axes>"
      ]
     },
     "metadata": {},
     "output_type": "display_data"
    }
   ],
   "source": [
    "#sns.barplot(x='count', y='features', data=summary, orient='h')\n",
    "\n",
    "plt.figure(figsize=(10, 6))\n",
    "\n",
    "ax = sns.barplot(x='count', y='features', data=summary, orient='h')\n",
    "\n",
    "# add the values for count to the plot\n",
    "for i in range(len(summary)):\n",
    "    count = summary.loc[i, 'count']\n",
    "    ax.text(count, i, count, ha='left', va='center')\n",
    "    \n",
    "# save the plot as a PNG file\n",
    "plt.savefig('summary.png', dpi=300, bbox_inches='tight')\n",
    "\n",
    "# show the plot\n",
    "plt.show()"
   ]
  },
  {
   "cell_type": "code",
   "execution_count": 101,
   "id": "c6de9231-ca83-46d5-bd20-7fa4241e4974",
   "metadata": {},
   "outputs": [
    {
     "data": {
      "text/html": [
       "<div>\n",
       "<style scoped>\n",
       "    .dataframe tbody tr th:only-of-type {\n",
       "        vertical-align: middle;\n",
       "    }\n",
       "\n",
       "    .dataframe tbody tr th {\n",
       "        vertical-align: top;\n",
       "    }\n",
       "\n",
       "    .dataframe thead th {\n",
       "        text-align: right;\n",
       "    }\n",
       "</style>\n",
       "<table border=\"1\" class=\"dataframe\">\n",
       "  <thead>\n",
       "    <tr style=\"text-align: right;\">\n",
       "      <th></th>\n",
       "      <th>country</th>\n",
       "      <th>visits</th>\n",
       "      <th>visits_with_revenue</th>\n",
       "      <th>revenue_log</th>\n",
       "    </tr>\n",
       "  </thead>\n",
       "  <tbody>\n",
       "    <tr>\n",
       "      <th>212</th>\n",
       "      <td>United States</td>\n",
       "      <td>364402</td>\n",
       "      <td>10951</td>\n",
       "      <td>9.30</td>\n",
       "    </tr>\n",
       "    <tr>\n",
       "      <th>36</th>\n",
       "      <td>Canada</td>\n",
       "      <td>25850</td>\n",
       "      <td>190</td>\n",
       "      <td>5.25</td>\n",
       "    </tr>\n",
       "    <tr>\n",
       "      <th>216</th>\n",
       "      <td>Venezuela</td>\n",
       "      <td>2128</td>\n",
       "      <td>62</td>\n",
       "      <td>4.14</td>\n",
       "    </tr>\n",
       "    <tr>\n",
       "      <th>132</th>\n",
       "      <td>Mexico</td>\n",
       "      <td>13220</td>\n",
       "      <td>20</td>\n",
       "      <td>3.04</td>\n",
       "    </tr>\n",
       "    <tr>\n",
       "      <th>196</th>\n",
       "      <td>Taiwan</td>\n",
       "      <td>12950</td>\n",
       "      <td>19</td>\n",
       "      <td>3.00</td>\n",
       "    </tr>\n",
       "    <tr>\n",
       "      <th>102</th>\n",
       "      <td>Japan</td>\n",
       "      <td>19670</td>\n",
       "      <td>17</td>\n",
       "      <td>2.89</td>\n",
       "    </tr>\n",
       "    <tr>\n",
       "      <th>211</th>\n",
       "      <td>United Kingdom</td>\n",
       "      <td>37378</td>\n",
       "      <td>16</td>\n",
       "      <td>2.83</td>\n",
       "    </tr>\n",
       "    <tr>\n",
       "      <th>12</th>\n",
       "      <td>Australia</td>\n",
       "      <td>12686</td>\n",
       "      <td>13</td>\n",
       "      <td>2.64</td>\n",
       "    </tr>\n",
       "    <tr>\n",
       "      <th>161</th>\n",
       "      <td>Puerto Rico</td>\n",
       "      <td>731</td>\n",
       "      <td>11</td>\n",
       "      <td>2.48</td>\n",
       "    </tr>\n",
       "    <tr>\n",
       "      <th>94</th>\n",
       "      <td>Indonesia</td>\n",
       "      <td>9266</td>\n",
       "      <td>11</td>\n",
       "      <td>2.48</td>\n",
       "    </tr>\n",
       "  </tbody>\n",
       "</table>\n",
       "</div>"
      ],
      "text/plain": [
       "            country  visits  visits_with_revenue          revenue_log\n",
       "212   United States  364402                10951                 9.30\n",
       "36           Canada   25850                  190                 5.25\n",
       "216       Venezuela    2128                   62                 4.14\n",
       "132          Mexico   13220                   20                 3.04\n",
       "196          Taiwan   12950                   19                 3.00\n",
       "102           Japan   19670                   17                 2.89\n",
       "211  United Kingdom   37378                   16                 2.83\n",
       "12        Australia   12686                   13                 2.64\n",
       "161     Puerto Rico     731                   11                 2.48\n",
       "94        Indonesia    9266                   11                 2.48"
      ]
     },
     "execution_count": 101,
     "metadata": {},
     "output_type": "execute_result"
    }
   ],
   "source": [
    "visits_revenue_per_country.sort_values('visits_with_revenue', ascending=False).head(10)"
   ]
  },
  {
   "cell_type": "code",
   "execution_count": null,
   "id": "5c422200-b4b4-4c3f-9f0a-abac13a06e3d",
   "metadata": {},
   "outputs": [],
   "source": [
    "train_df_filter['revenue_amount'] = train_df_filter['totals_transactionRevenue']/(10**6)"
   ]
  },
  {
   "cell_type": "code",
   "execution_count": null,
   "id": "5cf7b8e1-c924-4d1c-b605-34575cec7d0f",
   "metadata": {},
   "outputs": [],
   "source": [
    "train_df_filter.drop(columns='totals_transactionRevenue', inplace=True)"
   ]
  },
  {
   "cell_type": "code",
   "execution_count": 130,
   "id": "fddd3df8-31fc-4cd4-89c1-5a8248eff48c",
   "metadata": {},
   "outputs": [
    {
     "name": "stderr",
     "output_type": "stream",
     "text": [
      "/tmp/ipykernel_3150/1608435210.py:1: FutureWarning: The default value of numeric_only in DataFrame.corr is deprecated. In a future version, it will default to False. Select only valid columns or specify the value of numeric_only to silence this warning.\n",
      "  corr = train_df_filter.corr()\n"
     ]
    }
   ],
   "source": [
    "corr = train_df_filter.corr()"
   ]
  },
  {
   "cell_type": "code",
   "execution_count": 131,
   "id": "42a7871c-d811-475f-87bb-262434f41095",
   "metadata": {},
   "outputs": [
    {
     "data": {
      "text/html": [
       "<div>\n",
       "<style scoped>\n",
       "    .dataframe tbody tr th:only-of-type {\n",
       "        vertical-align: middle;\n",
       "    }\n",
       "\n",
       "    .dataframe tbody tr th {\n",
       "        vertical-align: top;\n",
       "    }\n",
       "\n",
       "    .dataframe thead th {\n",
       "        text-align: right;\n",
       "    }\n",
       "</style>\n",
       "<table border=\"1\" class=\"dataframe\">\n",
       "  <thead>\n",
       "    <tr style=\"text-align: right;\">\n",
       "      <th></th>\n",
       "      <th>date</th>\n",
       "      <th>visitNumber</th>\n",
       "      <th>visitStartTime</th>\n",
       "      <th>totals_bounces</th>\n",
       "      <th>totals_hits</th>\n",
       "      <th>totals_newVisits</th>\n",
       "      <th>totals_pageviews</th>\n",
       "      <th>totals_transactionRevenue</th>\n",
       "      <th>device_isMobile</th>\n",
       "      <th>trafficSource_adwordsClickInfo.isVideoAd</th>\n",
       "      <th>trafficSource_adwordsClickInfo.page</th>\n",
       "      <th>trafficSource_isTrueDirect</th>\n",
       "      <th>revenue_generated</th>\n",
       "    </tr>\n",
       "  </thead>\n",
       "  <tbody>\n",
       "    <tr>\n",
       "      <th>date</th>\n",
       "      <td>1.00</td>\n",
       "      <td>0.01</td>\n",
       "      <td>0.88</td>\n",
       "      <td>0.00</td>\n",
       "      <td>-0.02</td>\n",
       "      <td>-0.04</td>\n",
       "      <td>-0.01</td>\n",
       "      <td>0.00</td>\n",
       "      <td>0.15</td>\n",
       "      <td>NaN</td>\n",
       "      <td>0.02</td>\n",
       "      <td>0.08</td>\n",
       "      <td>0.01</td>\n",
       "    </tr>\n",
       "    <tr>\n",
       "      <th>visitNumber</th>\n",
       "      <td>0.01</td>\n",
       "      <td>1.00</td>\n",
       "      <td>0.00</td>\n",
       "      <td>-0.02</td>\n",
       "      <td>0.04</td>\n",
       "      <td>-0.26</td>\n",
       "      <td>0.04</td>\n",
       "      <td>0.05</td>\n",
       "      <td>-0.04</td>\n",
       "      <td>NaN</td>\n",
       "      <td>0.00</td>\n",
       "      <td>0.18</td>\n",
       "      <td>0.02</td>\n",
       "    </tr>\n",
       "    <tr>\n",
       "      <th>visitStartTime</th>\n",
       "      <td>0.88</td>\n",
       "      <td>0.00</td>\n",
       "      <td>1.00</td>\n",
       "      <td>-0.00</td>\n",
       "      <td>-0.03</td>\n",
       "      <td>-0.04</td>\n",
       "      <td>-0.02</td>\n",
       "      <td>0.00</td>\n",
       "      <td>0.14</td>\n",
       "      <td>NaN</td>\n",
       "      <td>0.03</td>\n",
       "      <td>0.07</td>\n",
       "      <td>0.01</td>\n",
       "    </tr>\n",
       "    <tr>\n",
       "      <th>totals_bounces</th>\n",
       "      <td>0.00</td>\n",
       "      <td>-0.02</td>\n",
       "      <td>-0.00</td>\n",
       "      <td>1.00</td>\n",
       "      <td>-0.37</td>\n",
       "      <td>0.08</td>\n",
       "      <td>-0.40</td>\n",
       "      <td>-0.03</td>\n",
       "      <td>0.02</td>\n",
       "      <td>NaN</td>\n",
       "      <td>-0.05</td>\n",
       "      <td>-0.04</td>\n",
       "      <td>-0.11</td>\n",
       "    </tr>\n",
       "    <tr>\n",
       "      <th>totals_hits</th>\n",
       "      <td>-0.02</td>\n",
       "      <td>0.04</td>\n",
       "      <td>-0.03</td>\n",
       "      <td>-0.37</td>\n",
       "      <td>1.00</td>\n",
       "      <td>-0.12</td>\n",
       "      <td>0.98</td>\n",
       "      <td>0.15</td>\n",
       "      <td>-0.03</td>\n",
       "      <td>NaN</td>\n",
       "      <td>0.04</td>\n",
       "      <td>0.08</td>\n",
       "      <td>0.37</td>\n",
       "    </tr>\n",
       "    <tr>\n",
       "      <th>totals_newVisits</th>\n",
       "      <td>-0.04</td>\n",
       "      <td>-0.26</td>\n",
       "      <td>-0.04</td>\n",
       "      <td>0.08</td>\n",
       "      <td>-0.12</td>\n",
       "      <td>1.00</td>\n",
       "      <td>-0.12</td>\n",
       "      <td>-0.04</td>\n",
       "      <td>0.02</td>\n",
       "      <td>NaN</td>\n",
       "      <td>-0.04</td>\n",
       "      <td>-0.62</td>\n",
       "      <td>-0.11</td>\n",
       "    </tr>\n",
       "    <tr>\n",
       "      <th>totals_pageviews</th>\n",
       "      <td>-0.01</td>\n",
       "      <td>0.04</td>\n",
       "      <td>-0.02</td>\n",
       "      <td>-0.40</td>\n",
       "      <td>0.98</td>\n",
       "      <td>-0.12</td>\n",
       "      <td>1.00</td>\n",
       "      <td>0.16</td>\n",
       "      <td>-0.03</td>\n",
       "      <td>NaN</td>\n",
       "      <td>0.04</td>\n",
       "      <td>0.08</td>\n",
       "      <td>0.40</td>\n",
       "    </tr>\n",
       "    <tr>\n",
       "      <th>totals_transactionRevenue</th>\n",
       "      <td>0.00</td>\n",
       "      <td>0.05</td>\n",
       "      <td>0.00</td>\n",
       "      <td>-0.03</td>\n",
       "      <td>0.15</td>\n",
       "      <td>-0.04</td>\n",
       "      <td>0.16</td>\n",
       "      <td>1.00</td>\n",
       "      <td>-0.02</td>\n",
       "      <td>NaN</td>\n",
       "      <td>0.00</td>\n",
       "      <td>0.03</td>\n",
       "      <td>0.28</td>\n",
       "    </tr>\n",
       "    <tr>\n",
       "      <th>device_isMobile</th>\n",
       "      <td>0.15</td>\n",
       "      <td>-0.04</td>\n",
       "      <td>0.14</td>\n",
       "      <td>0.02</td>\n",
       "      <td>-0.03</td>\n",
       "      <td>0.02</td>\n",
       "      <td>-0.03</td>\n",
       "      <td>-0.02</td>\n",
       "      <td>1.00</td>\n",
       "      <td>NaN</td>\n",
       "      <td>0.08</td>\n",
       "      <td>0.08</td>\n",
       "      <td>-0.05</td>\n",
       "    </tr>\n",
       "    <tr>\n",
       "      <th>trafficSource_adwordsClickInfo.isVideoAd</th>\n",
       "      <td>NaN</td>\n",
       "      <td>NaN</td>\n",
       "      <td>NaN</td>\n",
       "      <td>NaN</td>\n",
       "      <td>NaN</td>\n",
       "      <td>NaN</td>\n",
       "      <td>NaN</td>\n",
       "      <td>NaN</td>\n",
       "      <td>NaN</td>\n",
       "      <td>NaN</td>\n",
       "      <td>NaN</td>\n",
       "      <td>NaN</td>\n",
       "      <td>NaN</td>\n",
       "    </tr>\n",
       "    <tr>\n",
       "      <th>trafficSource_adwordsClickInfo.page</th>\n",
       "      <td>0.02</td>\n",
       "      <td>0.00</td>\n",
       "      <td>0.03</td>\n",
       "      <td>-0.05</td>\n",
       "      <td>0.04</td>\n",
       "      <td>-0.04</td>\n",
       "      <td>0.04</td>\n",
       "      <td>0.00</td>\n",
       "      <td>0.08</td>\n",
       "      <td>NaN</td>\n",
       "      <td>1.00</td>\n",
       "      <td>-0.04</td>\n",
       "      <td>0.01</td>\n",
       "    </tr>\n",
       "    <tr>\n",
       "      <th>trafficSource_isTrueDirect</th>\n",
       "      <td>0.08</td>\n",
       "      <td>0.18</td>\n",
       "      <td>0.07</td>\n",
       "      <td>-0.04</td>\n",
       "      <td>0.08</td>\n",
       "      <td>-0.62</td>\n",
       "      <td>0.08</td>\n",
       "      <td>0.03</td>\n",
       "      <td>0.08</td>\n",
       "      <td>NaN</td>\n",
       "      <td>-0.04</td>\n",
       "      <td>1.00</td>\n",
       "      <td>0.08</td>\n",
       "    </tr>\n",
       "    <tr>\n",
       "      <th>revenue_generated</th>\n",
       "      <td>0.01</td>\n",
       "      <td>0.02</td>\n",
       "      <td>0.01</td>\n",
       "      <td>-0.11</td>\n",
       "      <td>0.37</td>\n",
       "      <td>-0.11</td>\n",
       "      <td>0.40</td>\n",
       "      <td>0.28</td>\n",
       "      <td>-0.05</td>\n",
       "      <td>NaN</td>\n",
       "      <td>0.01</td>\n",
       "      <td>0.08</td>\n",
       "      <td>1.00</td>\n",
       "    </tr>\n",
       "  </tbody>\n",
       "</table>\n",
       "</div>"
      ],
      "text/plain": [
       "                                                         date  \\\n",
       "date                                                     1.00   \n",
       "visitNumber                                              0.01   \n",
       "visitStartTime                                           0.88   \n",
       "totals_bounces                                           0.00   \n",
       "totals_hits                                             -0.02   \n",
       "totals_newVisits                                        -0.04   \n",
       "totals_pageviews                                        -0.01   \n",
       "totals_transactionRevenue                                0.00   \n",
       "device_isMobile                                          0.15   \n",
       "trafficSource_adwordsClickInfo.isVideoAd                  NaN   \n",
       "trafficSource_adwordsClickInfo.page                      0.02   \n",
       "trafficSource_isTrueDirect                               0.08   \n",
       "revenue_generated                                        0.01   \n",
       "\n",
       "                                                  visitNumber  \\\n",
       "date                                                     0.01   \n",
       "visitNumber                                              1.00   \n",
       "visitStartTime                                           0.00   \n",
       "totals_bounces                                          -0.02   \n",
       "totals_hits                                              0.04   \n",
       "totals_newVisits                                        -0.26   \n",
       "totals_pageviews                                         0.04   \n",
       "totals_transactionRevenue                                0.05   \n",
       "device_isMobile                                         -0.04   \n",
       "trafficSource_adwordsClickInfo.isVideoAd                  NaN   \n",
       "trafficSource_adwordsClickInfo.page                      0.00   \n",
       "trafficSource_isTrueDirect                               0.18   \n",
       "revenue_generated                                        0.02   \n",
       "\n",
       "                                               visitStartTime  \\\n",
       "date                                                     0.88   \n",
       "visitNumber                                              0.00   \n",
       "visitStartTime                                           1.00   \n",
       "totals_bounces                                          -0.00   \n",
       "totals_hits                                             -0.03   \n",
       "totals_newVisits                                        -0.04   \n",
       "totals_pageviews                                        -0.02   \n",
       "totals_transactionRevenue                                0.00   \n",
       "device_isMobile                                          0.14   \n",
       "trafficSource_adwordsClickInfo.isVideoAd                  NaN   \n",
       "trafficSource_adwordsClickInfo.page                      0.03   \n",
       "trafficSource_isTrueDirect                               0.07   \n",
       "revenue_generated                                        0.01   \n",
       "\n",
       "                                               totals_bounces  \\\n",
       "date                                                     0.00   \n",
       "visitNumber                                             -0.02   \n",
       "visitStartTime                                          -0.00   \n",
       "totals_bounces                                           1.00   \n",
       "totals_hits                                             -0.37   \n",
       "totals_newVisits                                         0.08   \n",
       "totals_pageviews                                        -0.40   \n",
       "totals_transactionRevenue                               -0.03   \n",
       "device_isMobile                                          0.02   \n",
       "trafficSource_adwordsClickInfo.isVideoAd                  NaN   \n",
       "trafficSource_adwordsClickInfo.page                     -0.05   \n",
       "trafficSource_isTrueDirect                              -0.04   \n",
       "revenue_generated                                       -0.11   \n",
       "\n",
       "                                                  totals_hits  \\\n",
       "date                                                    -0.02   \n",
       "visitNumber                                              0.04   \n",
       "visitStartTime                                          -0.03   \n",
       "totals_bounces                                          -0.37   \n",
       "totals_hits                                              1.00   \n",
       "totals_newVisits                                        -0.12   \n",
       "totals_pageviews                                         0.98   \n",
       "totals_transactionRevenue                                0.15   \n",
       "device_isMobile                                         -0.03   \n",
       "trafficSource_adwordsClickInfo.isVideoAd                  NaN   \n",
       "trafficSource_adwordsClickInfo.page                      0.04   \n",
       "trafficSource_isTrueDirect                               0.08   \n",
       "revenue_generated                                        0.37   \n",
       "\n",
       "                                             totals_newVisits  \\\n",
       "date                                                    -0.04   \n",
       "visitNumber                                             -0.26   \n",
       "visitStartTime                                          -0.04   \n",
       "totals_bounces                                           0.08   \n",
       "totals_hits                                             -0.12   \n",
       "totals_newVisits                                         1.00   \n",
       "totals_pageviews                                        -0.12   \n",
       "totals_transactionRevenue                               -0.04   \n",
       "device_isMobile                                          0.02   \n",
       "trafficSource_adwordsClickInfo.isVideoAd                  NaN   \n",
       "trafficSource_adwordsClickInfo.page                     -0.04   \n",
       "trafficSource_isTrueDirect                              -0.62   \n",
       "revenue_generated                                       -0.11   \n",
       "\n",
       "                                             totals_pageviews  \\\n",
       "date                                                    -0.01   \n",
       "visitNumber                                              0.04   \n",
       "visitStartTime                                          -0.02   \n",
       "totals_bounces                                          -0.40   \n",
       "totals_hits                                              0.98   \n",
       "totals_newVisits                                        -0.12   \n",
       "totals_pageviews                                         1.00   \n",
       "totals_transactionRevenue                                0.16   \n",
       "device_isMobile                                         -0.03   \n",
       "trafficSource_adwordsClickInfo.isVideoAd                  NaN   \n",
       "trafficSource_adwordsClickInfo.page                      0.04   \n",
       "trafficSource_isTrueDirect                               0.08   \n",
       "revenue_generated                                        0.40   \n",
       "\n",
       "                                          totals_transactionRevenue  \\\n",
       "date                                                           0.00   \n",
       "visitNumber                                                    0.05   \n",
       "visitStartTime                                                 0.00   \n",
       "totals_bounces                                                -0.03   \n",
       "totals_hits                                                    0.15   \n",
       "totals_newVisits                                              -0.04   \n",
       "totals_pageviews                                               0.16   \n",
       "totals_transactionRevenue                                      1.00   \n",
       "device_isMobile                                               -0.02   \n",
       "trafficSource_adwordsClickInfo.isVideoAd                        NaN   \n",
       "trafficSource_adwordsClickInfo.page                            0.00   \n",
       "trafficSource_isTrueDirect                                     0.03   \n",
       "revenue_generated                                              0.28   \n",
       "\n",
       "                                              device_isMobile  \\\n",
       "date                                                     0.15   \n",
       "visitNumber                                             -0.04   \n",
       "visitStartTime                                           0.14   \n",
       "totals_bounces                                           0.02   \n",
       "totals_hits                                             -0.03   \n",
       "totals_newVisits                                         0.02   \n",
       "totals_pageviews                                        -0.03   \n",
       "totals_transactionRevenue                               -0.02   \n",
       "device_isMobile                                          1.00   \n",
       "trafficSource_adwordsClickInfo.isVideoAd                  NaN   \n",
       "trafficSource_adwordsClickInfo.page                      0.08   \n",
       "trafficSource_isTrueDirect                               0.08   \n",
       "revenue_generated                                       -0.05   \n",
       "\n",
       "                                          trafficSource_adwordsClickInfo.isVideoAd  \\\n",
       "date                                                                           NaN   \n",
       "visitNumber                                                                    NaN   \n",
       "visitStartTime                                                                 NaN   \n",
       "totals_bounces                                                                 NaN   \n",
       "totals_hits                                                                    NaN   \n",
       "totals_newVisits                                                               NaN   \n",
       "totals_pageviews                                                               NaN   \n",
       "totals_transactionRevenue                                                      NaN   \n",
       "device_isMobile                                                                NaN   \n",
       "trafficSource_adwordsClickInfo.isVideoAd                                       NaN   \n",
       "trafficSource_adwordsClickInfo.page                                            NaN   \n",
       "trafficSource_isTrueDirect                                                     NaN   \n",
       "revenue_generated                                                              NaN   \n",
       "\n",
       "                                          trafficSource_adwordsClickInfo.page  \\\n",
       "date                                                                     0.02   \n",
       "visitNumber                                                              0.00   \n",
       "visitStartTime                                                           0.03   \n",
       "totals_bounces                                                          -0.05   \n",
       "totals_hits                                                              0.04   \n",
       "totals_newVisits                                                        -0.04   \n",
       "totals_pageviews                                                         0.04   \n",
       "totals_transactionRevenue                                                0.00   \n",
       "device_isMobile                                                          0.08   \n",
       "trafficSource_adwordsClickInfo.isVideoAd                                  NaN   \n",
       "trafficSource_adwordsClickInfo.page                                      1.00   \n",
       "trafficSource_isTrueDirect                                              -0.04   \n",
       "revenue_generated                                                        0.01   \n",
       "\n",
       "                                          trafficSource_isTrueDirect  \\\n",
       "date                                                            0.08   \n",
       "visitNumber                                                     0.18   \n",
       "visitStartTime                                                  0.07   \n",
       "totals_bounces                                                 -0.04   \n",
       "totals_hits                                                     0.08   \n",
       "totals_newVisits                                               -0.62   \n",
       "totals_pageviews                                                0.08   \n",
       "totals_transactionRevenue                                       0.03   \n",
       "device_isMobile                                                 0.08   \n",
       "trafficSource_adwordsClickInfo.isVideoAd                         NaN   \n",
       "trafficSource_adwordsClickInfo.page                            -0.04   \n",
       "trafficSource_isTrueDirect                                      1.00   \n",
       "revenue_generated                                               0.08   \n",
       "\n",
       "                                            revenue_generated  \n",
       "date                                                     0.01  \n",
       "visitNumber                                              0.02  \n",
       "visitStartTime                                           0.01  \n",
       "totals_bounces                                          -0.11  \n",
       "totals_hits                                              0.37  \n",
       "totals_newVisits                                        -0.11  \n",
       "totals_pageviews                                         0.40  \n",
       "totals_transactionRevenue                                0.28  \n",
       "device_isMobile                                         -0.05  \n",
       "trafficSource_adwordsClickInfo.isVideoAd                  NaN  \n",
       "trafficSource_adwordsClickInfo.page                      0.01  \n",
       "trafficSource_isTrueDirect                               0.08  \n",
       "revenue_generated                                        1.00  "
      ]
     },
     "execution_count": 131,
     "metadata": {},
     "output_type": "execute_result"
    }
   ],
   "source": [
    "corr"
   ]
  },
  {
   "cell_type": "code",
   "execution_count": null,
   "id": "e0daad85-8633-427b-ac80-88d16fa9b075",
   "metadata": {},
   "outputs": [],
   "source": [
    "# eda = train_df_class.profile_report()\n",
    "# eda"
   ]
  },
  {
   "cell_type": "code",
   "execution_count": null,
   "id": "10f595d0-89a4-4bd2-8e19-61af8dcb2f23",
   "metadata": {},
   "outputs": [],
   "source": [
    "#correlations = eda.description_set[\"correlations\"]"
   ]
  },
  {
   "cell_type": "code",
   "execution_count": null,
   "id": "5e2b0912-1ffa-4141-a67f-1c1e64a7297b",
   "metadata": {},
   "outputs": [],
   "source": [
    "#correlations['auto']"
   ]
  },
  {
   "cell_type": "code",
   "execution_count": null,
   "id": "19b109f2-c855-491c-ab71-aae12883f728",
   "metadata": {},
   "outputs": [],
   "source": [
    "train_df_filter.drop(columns='trafficSource_adwordsClickInfo.isVideoAd', inplace=True) ## ADD TO PREPROCESSING. Feature has a constant value and has thus no value"
   ]
  },
  {
   "cell_type": "code",
   "execution_count": null,
   "id": "f2fd5248-ae5b-4fd6-a54a-c7e508eb3f2d",
   "metadata": {},
   "outputs": [],
   "source": [
    "train_df_filter.drop_duplicates(ignore_index=True).shape ## ADD TO PREPROCESSING -- there are no duplicates"
   ]
  },
  {
   "cell_type": "code",
   "execution_count": null,
   "id": "0bbf9668-b3b1-4f89-b3d9-f13164ed699d",
   "metadata": {},
   "outputs": [],
   "source": [
    "#eda1 = train_df_filter.drop(columns='fullVisitorId').profile_report()\n",
    "#eda1"
   ]
  },
  {
   "cell_type": "markdown",
   "id": "0dafe5e9-a8a8-4f1e-bee0-88b54ece6394",
   "metadata": {},
   "source": [
    "Now, taking IDs into account, there are no duplicates."
   ]
  },
  {
   "cell_type": "markdown",
   "id": "87cf1adc-dae0-4123-9338-aa75e47adabf",
   "metadata": {},
   "source": [
    "How do the values change for a customer over visits?"
   ]
  },
  {
   "cell_type": "code",
   "execution_count": null,
   "id": "0a4702ea-e75c-4f3f-b0fb-e1c4b50afe71",
   "metadata": {},
   "outputs": [],
   "source": [
    "train_df_filter[train_df_filter['fullVisitorId']=='4471415710206918415'] "
   ]
  },
  {
   "cell_type": "markdown",
   "id": "b61256a2-a927-4552-945a-64aba31266e4",
   "metadata": {},
   "source": [
    "For this customer, for instance, most visits were without transactions and were referrals from google mails or mall.googleplex"
   ]
  },
  {
   "cell_type": "code",
   "execution_count": null,
   "id": "846a5c1b-145a-48eb-a1ad-570041230ba0",
   "metadata": {},
   "outputs": [],
   "source": [
    "#train_df_filter['fullVisitorId'].astype(str).sort_values() ## some of the ids were previously strings and some were ints, this is why sort did not work, converting everything to strings solves the sorting problem"
   ]
  },
  {
   "cell_type": "markdown",
   "id": "38e8c36a-adb5-4ffa-860f-700a38d8e89f",
   "metadata": {},
   "source": [
    "__DONE__ __To Do__: add Id-> string to initial preprocessing"
   ]
  },
  {
   "cell_type": "code",
   "execution_count": null,
   "id": "02bb4bdc-df79-475f-9a28-f9db713d663a",
   "metadata": {},
   "outputs": [],
   "source": [
    "#eda1.to_file('/home/slawa/code/code-rep0/projects/GA_revenue_analytics/eda_train_df_filter.html')"
   ]
  },
  {
   "cell_type": "code",
   "execution_count": null,
   "id": "f6a7c536-80c5-497f-8fde-d725d932510c",
   "metadata": {},
   "outputs": [],
   "source": [
    "train_df_filter[train_df_filter['totals_pageviews']==0]"
   ]
  },
  {
   "cell_type": "code",
   "execution_count": null,
   "id": "14c2da6d-a0de-4df0-be5c-feae88c20829",
   "metadata": {},
   "outputs": [],
   "source": [
    "train_df_filter['trafficSource_keyword'].value_counts().head(20) #--> can be dropped and has high cardinality"
   ]
  },
  {
   "cell_type": "code",
   "execution_count": null,
   "id": "0885c2f5-4ead-4f8c-81d8-5205d879bb0e",
   "metadata": {},
   "outputs": [],
   "source": [
    "train_df_filter['geoNetwork_networkDomain'].value_counts().head(20) #--> high cardinality, can be dropped"
   ]
  },
  {
   "cell_type": "code",
   "execution_count": null,
   "id": "ae026ab1-85b8-402b-9d5f-abb5b257e21c",
   "metadata": {},
   "outputs": [],
   "source": [
    "#train_df_filter['fullVisitorId', 'country'].groupby('country')"
   ]
  },
  {
   "cell_type": "code",
   "execution_count": null,
   "id": "ff41d712-871f-47c3-913d-6a8b9f2dc5b0",
   "metadata": {},
   "outputs": [],
   "source": [
    "#visitor_country = train_df_filter[['fullVisitorId', 'geoNetwork_country','revenue_generated']].groupby('fullVisitorId').agg(country=('geoNetwork_country', 'unique'), \n",
    "                                                                                                                                 #paying_visitors=('revenue_generated', 'sum'))\n",
    "#.groupby('geoNetwork_country').agg(unique_visitors=('fullVisitorId', 'count'), \n",
    "#                                                                                                                                 paying_visitors=('revenue_generated', 'sum'))"
   ]
  },
  {
   "cell_type": "markdown",
   "id": "6ce82aca-abce-427e-a48c-f00dabb8d03a",
   "metadata": {},
   "source": [
    "Revenue per customer per country"
   ]
  },
  {
   "cell_type": "markdown",
   "id": "60f18501-d522-4970-9b85-28cb16144edd",
   "metadata": {},
   "source": [
    "__To Do__: would also be interesting to see amount spent"
   ]
  },
  {
   "cell_type": "code",
   "execution_count": null,
   "id": "efae867b-d72a-48c9-b953-57049be0eebf",
   "metadata": {},
   "outputs": [],
   "source": [
    "# visitor_country = train_df_filter[['fullVisitorId', 'geoNetwork_country','revenue_generated']].groupby('fullVisitorId').agg(country=('geoNetwork_country', pd.Series.mode), \n",
    "#                                                                                                                                  paying_visitors=('revenue_generated', 'sum'))\n",
    "\n",
    "# visitor_country.reset_index(inplace=True)\n",
    "\n",
    "# visitor_country\n",
    "\n",
    "# visitor_country['country'] = visitor_country['country'].astype(str) \n",
    "# # that was the crucial step again, as country was in some cases where several countries were concerned an array. How is this possible with mode? Because several entries were equally frequent"
   ]
  },
  {
   "cell_type": "code",
   "execution_count": null,
   "id": "6d268c58-4429-4307-83df-595a88cf6235",
   "metadata": {},
   "outputs": [],
   "source": [
    "# visitor_country"
   ]
  },
  {
   "cell_type": "code",
   "execution_count": null,
   "id": "a153dc40-cdf3-4df7-a0a1-b581d5d3ea5c",
   "metadata": {},
   "outputs": [],
   "source": [
    "#path = !pwd"
   ]
  },
  {
   "cell_type": "code",
   "execution_count": null,
   "id": "ccd9016e-4564-46f1-8c0d-2a45104ae613",
   "metadata": {},
   "outputs": [],
   "source": [
    "#visitor_country.to_csv(f'{path[0]}/data/visitor_country.csv')"
   ]
  },
  {
   "cell_type": "code",
   "execution_count": null,
   "id": "9d4d17b2-3624-42d9-9a55-db9f98c672e6",
   "metadata": {},
   "outputs": [],
   "source": [
    "# visitors_by_country = visitor_country.groupby('country').agg(unique_visitors=('fullVisitorId', 'count'), \n",
    "#                                        paying_visitors=('paying_visitors', 'sum'))\n",
    "\n",
    "# visitors_by_country['conversion'] = (visitors_by_country['paying_visitors']/visitors_by_country['unique_visitors'])*100"
   ]
  },
  {
   "cell_type": "code",
   "execution_count": null,
   "id": "33166859-0497-4861-9366-fbe2a4fd0666",
   "metadata": {},
   "outputs": [],
   "source": [
    "#visitors_by_country.to_csv(f'{path[0]}/data/visitors_by_country.csv')"
   ]
  },
  {
   "cell_type": "code",
   "execution_count": null,
   "id": "71ffad7c-38ce-4a63-b82d-f0317826ee1b",
   "metadata": {},
   "outputs": [],
   "source": [
    "visitor_country = pd.read_csv('data/visitor_country.csv')\n",
    "visitor_country['country'] = visitor_country['country'].astype(str) "
   ]
  },
  {
   "cell_type": "code",
   "execution_count": null,
   "id": "eaa9983b-7d59-4252-af15-36f81d543dad",
   "metadata": {},
   "outputs": [],
   "source": [
    "visitors_by_country = pd.read_csv('data/visitors_by_country.csv') # no string conversion of country necessary?"
   ]
  },
  {
   "cell_type": "code",
   "execution_count": null,
   "id": "6de7ccc0-e245-4174-a401-e77831ee9da7",
   "metadata": {},
   "outputs": [],
   "source": [
    "visitors_by_country[visitors_by_country['paying_visitors']>0].sort_values('conversion',ascending=False).head(50)"
   ]
  },
  {
   "cell_type": "markdown",
   "id": "5a4749fd-7ce7-4637-90bc-532118c75702",
   "metadata": {},
   "source": [
    "Revenue per visit by country"
   ]
  },
  {
   "cell_type": "code",
   "execution_count": null,
   "id": "72c9ab10-cbf3-4de4-b1aa-d59326cf8a99",
   "metadata": {},
   "outputs": [],
   "source": [
    "visit_rev_country = train_df_filter[['fullVisitorId', 'geoNetwork_country','revenue_generated']].groupby('geoNetwork_country').agg(unique_visitors=('fullVisitorId', 'count'), \n",
    "                                                                                                                                 paying_visitors=('revenue_generated', 'sum'))"
   ]
  },
  {
   "cell_type": "code",
   "execution_count": null,
   "id": "83ce69be-c2ad-496d-83b1-0c3882471e41",
   "metadata": {},
   "outputs": [],
   "source": [
    "visit_rev_country"
   ]
  },
  {
   "cell_type": "code",
   "execution_count": null,
   "id": "720a3d88-4ac9-490c-95e2-7f7a1fd99f51",
   "metadata": {},
   "outputs": [],
   "source": [
    "paying_visitors_country = visit_rev_country[visit_rev_country['paying_visitors']>0]"
   ]
  },
  {
   "cell_type": "code",
   "execution_count": null,
   "id": "13befc9a-5066-4661-85ce-6bcff8a49621",
   "metadata": {},
   "outputs": [],
   "source": [
    "paying_visitors_country['conversion'] = (visit_rev_country['paying_visitors']/visit_rev_country['unique_visitors'])*100"
   ]
  },
  {
   "cell_type": "code",
   "execution_count": null,
   "id": "4f66c5bc-d5b5-49d7-ba5f-2b422e8843b2",
   "metadata": {},
   "outputs": [],
   "source": [
    "paying_visitors_country.sort_values('conversion', ascending=False).head(15)"
   ]
  },
  {
   "cell_type": "code",
   "execution_count": null,
   "id": "82544524-c98a-4d50-9eee-6eea14c80f3a",
   "metadata": {},
   "outputs": [],
   "source": [
    "visit_rev_country['unique_visitors'].sum()"
   ]
  },
  {
   "cell_type": "markdown",
   "id": "8f54f77a-c5bc-41a1-8bb0-a7e495c30eab",
   "metadata": {},
   "source": [
    "How much time passes between visits?"
   ]
  },
  {
   "cell_type": "code",
   "execution_count": 132,
   "id": "6c459868-8742-4dc7-9352-73c4ea586a7e",
   "metadata": {},
   "outputs": [],
   "source": [
    "train_df_filter.date = pd.to_datetime(train_df_filter.date, format='%Y%m%d')"
   ]
  },
  {
   "cell_type": "code",
   "execution_count": 134,
   "id": "80425b9e-a10c-4907-adbb-091d2be63323",
   "metadata": {},
   "outputs": [],
   "source": [
    "train_df_filter['days_since_visit'] = np.nan"
   ]
  },
  {
   "cell_type": "markdown",
   "id": "30e50694-0e06-4c2b-b37f-e8eff287dc42",
   "metadata": {},
   "source": [
    "Some visit numbers are missing"
   ]
  },
  {
   "cell_type": "code",
   "execution_count": null,
   "id": "278d8290-1686-4e8a-a6a8-521059518b59",
   "metadata": {},
   "outputs": [],
   "source": [
    "visits_per_visitor = train_df_filter['fullVisitorId'].value_counts() "
   ]
  },
  {
   "cell_type": "code",
   "execution_count": null,
   "id": "97a27501-e6f2-4700-bf0b-7f2c5f0d1a8f",
   "metadata": {},
   "outputs": [],
   "source": [
    "visits_per_visitor = visits_per_visitor.reset_index()"
   ]
  },
  {
   "cell_type": "code",
   "execution_count": null,
   "id": "1aef03ef-3309-4c2c-93fa-27368f840fbe",
   "metadata": {},
   "outputs": [],
   "source": [
    "visits_per_visitor.columns = ['fullVisitorId', 'visits']"
   ]
  },
  {
   "cell_type": "code",
   "execution_count": null,
   "id": "5396e207-57f0-45be-af25-43152e1d807b",
   "metadata": {},
   "outputs": [],
   "source": [
    "returning_visitors = visits_per_visitor[visits_per_visitor['visits']>1]"
   ]
  },
  {
   "cell_type": "code",
   "execution_count": null,
   "id": "e77aa430-58cd-413e-bd84-3d5866eebc17",
   "metadata": {},
   "outputs": [],
   "source": [
    "returning_visitors"
   ]
  },
  {
   "cell_type": "code",
   "execution_count": null,
   "id": "770d21fc-bfe9-46e3-9552-176f2cdd18e5",
   "metadata": {},
   "outputs": [],
   "source": [
    "train_df_filter.head()"
   ]
  },
  {
   "cell_type": "code",
   "execution_count": 135,
   "id": "371aac6d-aa6b-4268-9e70-f03b5d964d42",
   "metadata": {},
   "outputs": [],
   "source": [
    "visit_dates = train_df_filter[['fullVisitorId', 'date', 'days_since_visit']]"
   ]
  },
  {
   "cell_type": "code",
   "execution_count": null,
   "id": "754cd764-6ef9-4834-bd69-78d5a37da691",
   "metadata": {},
   "outputs": [],
   "source": [
    "visit_dates = visit_dates.sort_values(['fullVisitorId', 'date'])"
   ]
  },
  {
   "cell_type": "code",
   "execution_count": null,
   "id": "85072347-990f-4679-a252-29df4616ff04",
   "metadata": {},
   "outputs": [],
   "source": [
    "visit_dates[['last_visit_id', 'last_visit_date']] = visit_dates.shift(+1)[['fullVisitorId', 'date']]"
   ]
  },
  {
   "cell_type": "code",
   "execution_count": null,
   "id": "ae6698a8-e070-4b4b-a9b0-7878081482b1",
   "metadata": {},
   "outputs": [],
   "source": [
    "def calc_days_since_visit(row):\n",
    "    if row['fullVisitorId'] == row['last_visit_id']:\n",
    "        return (row['date'] - row['last_visit_date']).days\n",
    "    else:\n",
    "        return np.nan\n",
    "\n",
    "visit_dates['days_since_visit'] = visit_dates.apply(calc_days_since_visit, axis=1)"
   ]
  },
  {
   "cell_type": "code",
   "execution_count": null,
   "id": "36921d6f-538b-44bc-bdc6-1a9db98473dc",
   "metadata": {},
   "outputs": [],
   "source": [
    "visit_dates[visit_dates.days_since_visit.notna()]"
   ]
  },
  {
   "cell_type": "code",
   "execution_count": null,
   "id": "56e41651-add4-4b11-a303-599cf29ba80b",
   "metadata": {},
   "outputs": [],
   "source": [
    "visit_dates.sort_index(inplace=True)"
   ]
  },
  {
   "cell_type": "code",
   "execution_count": null,
   "id": "845228e2-fb1c-45e4-a719-a7b44cc8a304",
   "metadata": {},
   "outputs": [],
   "source": [
    "train_df_filter.days_since_visit = visit_dates.days_since_visit"
   ]
  },
  {
   "cell_type": "code",
   "execution_count": null,
   "id": "fc1a982a-f562-48ed-9a02-b522a11f530e",
   "metadata": {},
   "outputs": [],
   "source": [
    "train_df_filter"
   ]
  },
  {
   "cell_type": "code",
   "execution_count": null,
   "id": "0aa02eab-26bf-4c21-b8f5-5235489cc3f9",
   "metadata": {},
   "outputs": [],
   "source": [
    "train_df_filter.dtypes"
   ]
  },
  {
   "cell_type": "code",
   "execution_count": null,
   "id": "42ecfe7b-9314-415b-86b0-46e951cd6b86",
   "metadata": {},
   "outputs": [],
   "source": [
    "visits_per_visitor"
   ]
  },
  {
   "cell_type": "code",
   "execution_count": null,
   "id": "d1f05156-7041-4ff8-a0a6-31170be3edd5",
   "metadata": {},
   "outputs": [],
   "source": [
    "avg_visit_window = train_df_filter[['fullVisitorId', 'days_since_visit']].groupby('fullVisitorId').mean()"
   ]
  },
  {
   "cell_type": "code",
   "execution_count": null,
   "id": "c9777e50-e209-46aa-b766-664bba6fe2f6",
   "metadata": {},
   "outputs": [],
   "source": [
    "avg_visit_window[avg_visit_window.days_since_visit.notna()].sort_values('days_since_visit').iloc[60000:60020]"
   ]
  },
  {
   "cell_type": "code",
   "execution_count": null,
   "id": "edd13aa7-859b-4f80-9457-ccf0f4eb6a92",
   "metadata": {},
   "outputs": [],
   "source": [
    "avg_visit_window[avg_visit_window.index=='3269834865385146569']"
   ]
  },
  {
   "cell_type": "code",
   "execution_count": null,
   "id": "f1072c3d-7989-488b-9e8f-476064fcd37a",
   "metadata": {},
   "outputs": [],
   "source": [
    "train_df_filter[train_df_filter.fullVisitorId=='3269834865385146569']"
   ]
  },
  {
   "cell_type": "code",
   "execution_count": null,
   "id": "d2b9ab72-80cf-4523-89cd-94f0f7643a3f",
   "metadata": {},
   "outputs": [],
   "source": [
    "slim_df = avg_visit_window.copy()"
   ]
  },
  {
   "cell_type": "code",
   "execution_count": null,
   "id": "ca5a2be6-6131-4db4-a6d1-53802ecff1ad",
   "metadata": {},
   "outputs": [],
   "source": [
    "avg_visit_window"
   ]
  },
  {
   "cell_type": "code",
   "execution_count": null,
   "id": "314ce4cc-e3ed-4669-a92b-c333773ff83a",
   "metadata": {},
   "outputs": [],
   "source": [
    "slim_df.reset_index(inplace=True)"
   ]
  },
  {
   "cell_type": "code",
   "execution_count": null,
   "id": "ae511602-73a7-4553-89df-8ecdbd358e34",
   "metadata": {},
   "outputs": [],
   "source": [
    "slim_df['visits'] = visits_per_visitor.sort_values('fullVisitorId').reset_index().visits"
   ]
  },
  {
   "cell_type": "code",
   "execution_count": null,
   "id": "e697d81b-9a3d-4422-a104-f99a6066bdad",
   "metadata": {},
   "outputs": [],
   "source": [
    "slim_df['paying'] = visitor_country['paying_visitors']"
   ]
  },
  {
   "cell_type": "code",
   "execution_count": null,
   "id": "8624b745-e76d-4871-b4ab-3fd27dcc6cc9",
   "metadata": {},
   "outputs": [],
   "source": [
    "slim_df"
   ]
  },
  {
   "cell_type": "code",
   "execution_count": null,
   "id": "03e9e4ba-acfd-49e6-b8cf-0a76593dc975",
   "metadata": {},
   "outputs": [],
   "source": [
    "visits_per_visitor.sort_values('fullVisitorId').reset_index().visits"
   ]
  },
  {
   "cell_type": "code",
   "execution_count": null,
   "id": "9a2dcd55-b9c9-4a33-90e7-ec2f05c764a9",
   "metadata": {},
   "outputs": [],
   "source": [
    "slim_df.set_index('fullVisitorId', inplace=True)"
   ]
  },
  {
   "cell_type": "code",
   "execution_count": null,
   "id": "260b16dc-3e70-415b-b347-6ea2f048ea62",
   "metadata": {},
   "outputs": [],
   "source": [
    "# this function essentially bins the delays\n",
    "def calc_delay(row):\n",
    "    if np.isnan(row['days_since_visit']):\n",
    "        return 'not returned'\n",
    "    if row['days_since_visit'] < 7.0:\n",
    "        return 'after < 7 days'\n",
    "    if row['days_since_visit'] < 14.0:\n",
    "        return 'after < 14 days'\n",
    "    if row['days_since_visit'] <= 30.0:\n",
    "        return 'after <= 30 days'\n",
    "    if row['days_since_visit'] > 30.0:\n",
    "        return 'after > 30 days'"
   ]
  },
  {
   "cell_type": "code",
   "execution_count": null,
   "id": "6eeae5d2-6c46-46cd-af4c-bb4d968b1983",
   "metadata": {
    "tags": []
   },
   "outputs": [],
   "source": [
    "slim_df['delay'] = slim_df.apply(calc_delay, axis=1)"
   ]
  },
  {
   "cell_type": "code",
   "execution_count": null,
   "id": "12136e1d-2252-4a47-874f-acf9c540f786",
   "metadata": {},
   "outputs": [],
   "source": [
    "slim_df"
   ]
  },
  {
   "cell_type": "code",
   "execution_count": null,
   "id": "632d8e16-351c-495d-b9fc-bf1982eaf44b",
   "metadata": {},
   "outputs": [],
   "source": [
    "slim_df.profile_report()"
   ]
  },
  {
   "cell_type": "code",
   "execution_count": null,
   "id": "09f81a7d-cfef-48f0-b49b-f2a86a7d961f",
   "metadata": {},
   "outputs": [],
   "source": [
    "train_df_filter.head()"
   ]
  },
  {
   "cell_type": "code",
   "execution_count": null,
   "id": "ca4c0f0b-bcf1-457c-a283-5b9284cf8eab",
   "metadata": {},
   "outputs": [],
   "source": [
    "train_df_filter.dtypes"
   ]
  },
  {
   "cell_type": "code",
   "execution_count": null,
   "id": "9f7bfa18-4e6d-41ec-8169-9b6db399c33d",
   "metadata": {},
   "outputs": [],
   "source": [
    "train_df_reduced.profile_report()"
   ]
  },
  {
   "cell_type": "code",
   "execution_count": null,
   "id": "d2825ecb-b755-4aed-93dc-3101353c5128",
   "metadata": {},
   "outputs": [],
   "source": [
    "train_df_filter.head()"
   ]
  },
  {
   "cell_type": "code",
   "execution_count": null,
   "id": "12e43a0c-e2b7-4f7d-bce4-8ce55a407a79",
   "metadata": {
    "tags": []
   },
   "outputs": [],
   "source": [
    "train_df_filter['date_time'] = pd.to_datetime(train_df_filter['visitStartTime'], unit='s')"
   ]
  },
  {
   "cell_type": "code",
   "execution_count": null,
   "id": "af6da2d3-3e91-4dec-b1d2-4c62975c6122",
   "metadata": {},
   "outputs": [],
   "source": [
    "train_df_filter.head()"
   ]
  },
  {
   "cell_type": "code",
   "execution_count": null,
   "id": "4aeb5279-f8f5-40c3-beea-7ab0f887d3e8",
   "metadata": {},
   "outputs": [],
   "source": [
    "#df['date'] = pd.to_datetime(df['visitStartTime'], unit='s')\n",
    "train_df_filter['date_dow'] = train_df_filter['date_time'].dt.dayofweek\n",
    "train_df_filter['date_hours'] = train_df_filter['date_time'].dt.hour\n",
    "train_df_filter['date_dom'] = train_df_filter['date_time'].dt.day"
   ]
  },
  {
   "cell_type": "code",
   "execution_count": null,
   "id": "34ebe5df-b146-4747-861e-3542d0e73efc",
   "metadata": {},
   "outputs": [],
   "source": [
    "train_df_filter['month'] = train_df_filter['date_time'].dt.month"
   ]
  },
  {
   "cell_type": "code",
   "execution_count": null,
   "id": "a6755c87-df70-4854-a4c0-cababfd7c97a",
   "metadata": {},
   "outputs": [],
   "source": [
    "# https://www.kaggle.com/prashantkikani/teach-lightgbm-to-sum-predictions-fe\n",
    "def browser_mapping(x):\n",
    "    browsers = ['chrome','safari','firefox','internet explorer','edge','opera','coc coc','maxthon','iron']\n",
    "    if x in browsers:\n",
    "        return x.lower()\n",
    "    elif  ('android' in x) or ('samsung' in x) or ('mini' in x) or ('iphone' in x) or ('in-app' in x) or ('playstation' in x):\n",
    "        return 'mobile browser'\n",
    "    elif  ('mozilla' in x) or ('chrome' in x) or ('blackberry' in x) or ('nokia' in x) or ('browser' in x) or ('amazon' in x):\n",
    "        return 'mobile browser'\n",
    "    elif  ('lunascape' in x) or ('netscape' in x) or ('blackberry' in x) or ('konqueror' in x) or ('puffin' in x) or ('amazon' in x):\n",
    "        return 'mobile browser'\n",
    "    elif '(not set)' in x:\n",
    "        return x\n",
    "    else:\n",
    "        return 'others'\n",
    "    \n",
    "    \n",
    "def adcontents_mapping(x):\n",
    "    if  ('google' in x):\n",
    "        return 'google'\n",
    "    elif  ('placement' in x) | ('placememnt' in x):\n",
    "        return 'placement'\n",
    "    elif '(not set)' in x or 'nan' in x:\n",
    "        return x\n",
    "    elif 'ad' in x:\n",
    "        return 'ad'\n",
    "    else:\n",
    "        return 'others'\n",
    "    \n",
    "def source_mapping(x):\n",
    "    if  ('google' in x):\n",
    "        return 'google'\n",
    "    elif  ('youtube' in x):\n",
    "        return 'youtube'\n",
    "    elif '(not set)' in x or 'nan' in x:\n",
    "        return x\n",
    "    elif 'yahoo' in x:\n",
    "        return 'yahoo'\n",
    "    elif 'facebook' in x:\n",
    "        return 'facebook'\n",
    "    elif 'reddit' in x:\n",
    "        return 'reddit'\n",
    "    elif 'bing' in x:\n",
    "        return 'bing'\n",
    "    elif 'quora' in x:\n",
    "        return 'quora'\n",
    "    elif 'outlook' in x:\n",
    "        return 'outlook'\n",
    "    elif 'linkedin' in x:\n",
    "        return 'linkedin'\n",
    "    elif 'pinterest' in x:\n",
    "        return 'pinterest'\n",
    "    elif 'ask' in x:\n",
    "        return 'ask'\n",
    "    elif 'siliconvalley' in x:\n",
    "        return 'siliconvalley'\n",
    "    elif 'lunametrics' in x:\n",
    "        return 'lunametrics'\n",
    "    elif 'amazon' in x:\n",
    "        return 'amazon'\n",
    "    elif 'mysearch' in x:\n",
    "        return 'mysearch'\n",
    "    elif 'qiita' in x:\n",
    "        return 'qiita'\n",
    "    elif 'messenger' in x:\n",
    "        return 'messenger'\n",
    "    elif 'twitter' in x:\n",
    "        return 'twitter'\n",
    "    elif 't.co' in x:\n",
    "        return 't.co'\n",
    "    elif 'vk.com' in x:\n",
    "        return 'vk.com'\n",
    "    elif 'search' in x:\n",
    "        return 'search'\n",
    "    elif 'edu' in x:\n",
    "        return 'edu'\n",
    "    elif 'mail' in x:\n",
    "        return 'mail'\n",
    "    elif 'ad' in x:\n",
    "        return 'ad'\n",
    "    elif 'golang' in x:\n",
    "        return 'golang'\n",
    "    elif 'direct' in x:\n",
    "        return 'direct'\n",
    "    elif 'dealspotr' in x:\n",
    "        return 'dealspotr'\n",
    "    elif 'sashihara' in x:\n",
    "        return 'sashihara'\n",
    "    elif 'phandroid' in x:\n",
    "        return 'phandroid'\n",
    "    elif 'baidu' in x:\n",
    "        return 'baidu'\n",
    "    elif 'mdn' in x:\n",
    "        return 'mdn'\n",
    "    elif 'duckduckgo' in x:\n",
    "        return 'duckduckgo'\n",
    "    elif 'seroundtable' in x:\n",
    "        return 'seroundtable'\n",
    "    elif 'metrics' in x:\n",
    "        return 'metrics'\n",
    "    elif 'sogou' in x:\n",
    "        return 'sogou'\n",
    "    elif 'businessinsider' in x:\n",
    "        return 'businessinsider'\n",
    "    elif 'github' in x:\n",
    "        return 'github'\n",
    "    elif 'gophergala' in x:\n",
    "        return 'gophergala'\n",
    "    elif 'yandex' in x:\n",
    "        return 'yandex'\n",
    "    elif 'msn' in x:\n",
    "        return 'msn'\n",
    "    elif 'dfa' in x:\n",
    "        return 'dfa'\n",
    "    elif '(not set)' in x:\n",
    "        return '(not set)'\n",
    "    elif 'feedly' in x:\n",
    "        return 'feedly'\n",
    "    elif 'arstechnica' in x:\n",
    "        return 'arstechnica'\n",
    "    elif 'squishable' in x:\n",
    "        return 'squishable'\n",
    "    elif 'flipboard' in x:\n",
    "        return 'flipboard'\n",
    "    elif 't-online.de' in x:\n",
    "        return 't-online.de'\n",
    "    elif 'sm.cn' in x:\n",
    "        return 'sm.cn'\n",
    "    elif 'wow' in x:\n",
    "        return 'wow'\n",
    "    elif 'baidu' in x:\n",
    "        return 'baidu'\n",
    "    elif 'partners' in x:\n",
    "        return 'partners'\n",
    "    else:\n",
    "        return 'others'\n",
    "\n",
    "train_df_filter['device_browser'] = train_df_filter['device_browser'].map(lambda x:browser_mapping(str(x).lower())).astype('str')\n",
    "train_df_filter['trafficSource_adContent'] = train_df_filter['trafficSource_adContent'].map(lambda x:adcontents_mapping(str(x).lower())).astype('str')\n",
    "train_df_filter['trafficSource_source'] = train_df_filter['trafficSource_source'].map(lambda x:source_mapping(str(x).lower())).astype('str')"
   ]
  },
  {
   "cell_type": "code",
   "execution_count": null,
   "id": "52482c42-d9cc-4cb3-8604-dfb0760a8acb",
   "metadata": {},
   "outputs": [],
   "source": [
    "train_df_filter.head()"
   ]
  },
  {
   "cell_type": "code",
   "execution_count": null,
   "id": "da49dd22-189d-4b8b-ac1d-6d8ba74071ea",
   "metadata": {},
   "outputs": [],
   "source": [
    "def process_device(data_df):\n",
    "    print(\"process device ___\")\n",
    "    data_df['source_country'] = data_df['trafficSource_source'] + '_' + data_df['geoNetwork_country']\n",
    "    data_df['campaign_medium'] = data_df['trafficSource_campaign'] + '_' + data_df['trafficSource_medium']\n",
    "    data_df['browser_category'] = data_df['device_browser'] + '_' + data_df['device_deviceCategory']\n",
    "    data_df['browser_os'] = data_df['device_browser'] + '_' + data_df['device_operatingSystem']\n",
    "    return data_df\n",
    "\n",
    "train = process_device(train)\n",
    "test = process_device(test)\n",
    "\n",
    "def custom(data):\n",
    "    print('custom__')\n",
    "    data['device_deviceCategory_channelGrouping'] = data['device_deviceCategory'] + \"_\" + data['channelGrouping']\n",
    "    data['channelGrouping_browser'] = data['device_browser'] + \"_\" + data['channelGrouping']\n",
    "    data['channelGrouping_OS'] = data['device_operatingSystem'] + \"_\" + data['channelGrouping']\n",
    "    \n",
    "    for i in ['geoNetwork_city', 'geoNetwork_continent', 'geoNetwork_country','geoNetwork_metro', 'geoNetwork_networkDomain', 'geoNetwork_region','geoNetwork_subContinent']:\n",
    "        for j in ['device_browser','device_deviceCategory', 'device_operatingSystem', 'trafficSource_source']:\n",
    "            data[i + \"_\" + j] = data[i] + \"_\" + data[j]\n",
    "    \n",
    "    data['content_source'] = data['trafficSource_adContent'] + \"_\" + data['source_country']\n",
    "    data['medium_source'] = data['trafficSource_medium'] + \"_\" + data['source_country']\n",
    "    return data\n",
    "\n",
    "train = custom(train)\n",
    "test = custom(test)"
   ]
  },
  {
   "cell_type": "code",
   "execution_count": null,
   "id": "da1879c7-1496-4f5a-a276-55e564133aea",
   "metadata": {},
   "outputs": [],
   "source": [
    "def plotCategoryRateBar(a, b, colName, topN=np.nan):\n",
    "    if topN == topN: # isNotNan\n",
    "        vals = b[colName].value_counts()[:topN]\n",
    "        subA = a.loc[a[colName].isin(vals.index.values), colName]\n",
    "        df = pd.DataFrame({'All':subA.value_counts() / len(a), 'Revenue':vals / len(b)})\n",
    "    else:\n",
    "        df = pd.DataFrame({'All':a[colName].value_counts() / len(a), 'Revenue':b[colName].value_counts() / len(b)})\n",
    "    df.sort_values('Revenue').plot.barh(colormap='jet')"
   ]
  },
  {
   "cell_type": "code",
   "execution_count": 30,
   "id": "3740cb0e-16e6-464f-8984-57fb27049807",
   "metadata": {},
   "outputs": [
    {
     "data": {
      "image/png": "[encoded data removed]",
      "text/plain": [
       "<Figure size 432x288 with 1 Axes>"
      ]
     },
     "metadata": {
      "needs_background": "light"
     },
     "output_type": "display_data"
    }
   ],
   "source": [
    "plotCategoryRateBar(train_df_filter, train_df_filter[train_df_filter.revenue_generated==1], 'channelGrouping')"
   ]
  },
  {
   "cell_type": "code",
   "execution_count": null,
   "id": "2de1cc90-201c-4fc6-aedc-3a0aeec72d1d",
   "metadata": {},
   "outputs": [],
   "source": [
    "train_df_filter.shape"
   ]
  },
  {
   "cell_type": "code",
   "execution_count": null,
   "id": "b6f8501b-f7be-4f12-8497-0e0bc473589b",
   "metadata": {},
   "outputs": [],
   "source": [
    "pd.factorize"
   ]
  }
 ],
 "metadata": {
  "kernelspec": {
   "display_name": "Python 3 (ipykernel)",
   "language": "python",
   "name": "python3"
  },
  "language_info": {
   "codemirror_mode": {
    "name": "ipython",
    "version": 3
   },
   "file_extension": ".py",
   "mimetype": "text/x-python",
   "name": "python",
   "nbconvert_exporter": "python",
   "pygments_lexer": "ipython3",
   "version": "3.8.12"
  }
 },
 "nbformat": 4,
 "nbformat_minor": 5
}
