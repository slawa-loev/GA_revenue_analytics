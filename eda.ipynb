{
 "cells": [
  {
   "cell_type": "markdown",
   "id": "3fd797c8-baa6-4bc9-920d-f8200fc1b9a3",
   "metadata": {},
   "source": [
    "Having a look at the data"
   ]
  },
  {
   "cell_type": "code",
   "execution_count": 1,
   "id": "e3fb63a9-77d3-4ac7-8980-e8d50ea1f0cc",
   "metadata": {},
   "outputs": [
    {
     "name": "stderr",
     "output_type": "stream",
     "text": [
      "/home/slawa/.pyenv/versions/3.8.12/envs/lewagon/lib/python3.8/site-packages/scipy/__init__.py:146: UserWarning: A NumPy version >=1.16.5 and <1.23.0 is required for this version of SciPy (detected version 1.23.5\n",
      "  warnings.warn(f\"A NumPy version >={np_minversion} and <{np_maxversion}\"\n"
     ]
    }
   ],
   "source": [
    "# import packages\n",
    "\n",
    "import numpy as np\n",
    "import pandas as pd\n",
    "pd.options.display.float_format = '{:20,.2f}'.format # disabling scientific notation in pandas\n",
    "import pickle\n",
    "import matplotlib.pyplot as plt\n",
    "import seaborn as sns\n"
   ]
  },
  {
   "cell_type": "code",
   "execution_count": 2,
   "id": "908e95c7-31a1-45e5-a2cc-2ab0109eae28",
   "metadata": {},
   "outputs": [
    {
     "name": "stderr",
     "output_type": "stream",
     "text": [
      "/tmp/ipykernel_9544/745967132.py:1: DtypeWarning: Columns (0) have mixed types. Specify dtype option on import or set low_memory=False.\n",
      "  train_df_cat = pd.read_csv(\"data/train_categorial_features_moda.csv\")\n"
     ]
    }
   ],
   "source": [
    "train_df_cat = pd.read_csv(\"data/train_categorial_features_moda.csv\")"
   ]
  },
  {
   "cell_type": "code",
   "execution_count": 3,
   "id": "5913fec1-6cc7-4e27-bbd6-88a942a26347",
   "metadata": {},
   "outputs": [
    {
     "data": {
      "text/plain": [
       "(714167, 14)"
      ]
     },
     "execution_count": 3,
     "metadata": {},
     "output_type": "execute_result"
    }
   ],
   "source": [
    "train_df_cat.shape"
   ]
  },
  {
   "cell_type": "code",
   "execution_count": 4,
   "id": "56687da0-5a7a-4f58-9394-17b790c359e0",
   "metadata": {},
   "outputs": [
    {
     "data": {
      "text/html": [
       "<div>\n",
       "<style scoped>\n",
       "    .dataframe tbody tr th:only-of-type {\n",
       "        vertical-align: middle;\n",
       "    }\n",
       "\n",
       "    .dataframe tbody tr th {\n",
       "        vertical-align: top;\n",
       "    }\n",
       "\n",
       "    .dataframe thead th {\n",
       "        text-align: right;\n",
       "    }\n",
       "</style>\n",
       "<table border=\"1\" class=\"dataframe\">\n",
       "  <thead>\n",
       "    <tr style=\"text-align: right;\">\n",
       "      <th></th>\n",
       "      <th>fullVisitorId</th>\n",
       "      <th>device_browser</th>\n",
       "      <th>device_operatingSystem</th>\n",
       "      <th>geoNetwork_city</th>\n",
       "      <th>geoNetwork_metro</th>\n",
       "      <th>geoNetwork_country</th>\n",
       "      <th>geoNetwork_networkDomain</th>\n",
       "      <th>geoNetwork_region</th>\n",
       "      <th>trafficSource_adContent</th>\n",
       "      <th>trafficSource_campaign</th>\n",
       "      <th>trafficSource_keyword</th>\n",
       "      <th>trafficSource_source</th>\n",
       "      <th>trafficSource_referralPath</th>\n",
       "      <th>weekday</th>\n",
       "    </tr>\n",
       "  </thead>\n",
       "  <tbody>\n",
       "    <tr>\n",
       "      <th>0</th>\n",
       "      <td>10278554503158</td>\n",
       "      <td>0.00</td>\n",
       "      <td>1.00</td>\n",
       "      <td>1.00</td>\n",
       "      <td>0.00</td>\n",
       "      <td>68.00</td>\n",
       "      <td>397.00</td>\n",
       "      <td>1.00</td>\n",
       "      <td>0.00</td>\n",
       "      <td>0.00</td>\n",
       "      <td>0.00</td>\n",
       "      <td>0.00</td>\n",
       "      <td>0.00</td>\n",
       "      <td>3.00</td>\n",
       "    </tr>\n",
       "    <tr>\n",
       "      <th>1</th>\n",
       "      <td>20424342248747</td>\n",
       "      <td>0.00</td>\n",
       "      <td>0.00</td>\n",
       "      <td>45.00</td>\n",
       "      <td>0.00</td>\n",
       "      <td>42.00</td>\n",
       "      <td>6,726.00</td>\n",
       "      <td>37.00</td>\n",
       "      <td>0.00</td>\n",
       "      <td>0.00</td>\n",
       "      <td>0.00</td>\n",
       "      <td>0.00</td>\n",
       "      <td>0.00</td>\n",
       "      <td>2.00</td>\n",
       "    </tr>\n",
       "    <tr>\n",
       "      <th>2</th>\n",
       "      <td>27376579751715</td>\n",
       "      <td>0.00</td>\n",
       "      <td>1.00</td>\n",
       "      <td>1.00</td>\n",
       "      <td>0.00</td>\n",
       "      <td>33.00</td>\n",
       "      <td>90.00</td>\n",
       "      <td>1.00</td>\n",
       "      <td>0.00</td>\n",
       "      <td>0.00</td>\n",
       "      <td>0.00</td>\n",
       "      <td>0.00</td>\n",
       "      <td>0.00</td>\n",
       "      <td>5.00</td>\n",
       "    </tr>\n",
       "    <tr>\n",
       "      <th>3</th>\n",
       "      <td>39460501403861</td>\n",
       "      <td>0.00</td>\n",
       "      <td>0.00</td>\n",
       "      <td>1.00</td>\n",
       "      <td>0.00</td>\n",
       "      <td>11.00</td>\n",
       "      <td>133.00</td>\n",
       "      <td>1.00</td>\n",
       "      <td>0.00</td>\n",
       "      <td>0.00</td>\n",
       "      <td>0.00</td>\n",
       "      <td>25.00</td>\n",
       "      <td>72.00</td>\n",
       "      <td>0.00</td>\n",
       "    </tr>\n",
       "    <tr>\n",
       "      <th>4</th>\n",
       "      <td>40862739425590</td>\n",
       "      <td>0.00</td>\n",
       "      <td>1.00</td>\n",
       "      <td>110.00</td>\n",
       "      <td>2.00</td>\n",
       "      <td>33.00</td>\n",
       "      <td>109.00</td>\n",
       "      <td>21.00</td>\n",
       "      <td>0.00</td>\n",
       "      <td>1.00</td>\n",
       "      <td>13.00</td>\n",
       "      <td>0.00</td>\n",
       "      <td>0.00</td>\n",
       "      <td>5.00</td>\n",
       "    </tr>\n",
       "  </tbody>\n",
       "</table>\n",
       "</div>"
      ],
      "text/plain": [
       "    fullVisitorId       device_browser  device_operatingSystem  \\\n",
       "0  10278554503158                 0.00                    1.00   \n",
       "1  20424342248747                 0.00                    0.00   \n",
       "2  27376579751715                 0.00                    1.00   \n",
       "3  39460501403861                 0.00                    0.00   \n",
       "4  40862739425590                 0.00                    1.00   \n",
       "\n",
       "       geoNetwork_city     geoNetwork_metro   geoNetwork_country  \\\n",
       "0                 1.00                 0.00                68.00   \n",
       "1                45.00                 0.00                42.00   \n",
       "2                 1.00                 0.00                33.00   \n",
       "3                 1.00                 0.00                11.00   \n",
       "4               110.00                 2.00                33.00   \n",
       "\n",
       "   geoNetwork_networkDomain    geoNetwork_region  trafficSource_adContent  \\\n",
       "0                    397.00                 1.00                     0.00   \n",
       "1                  6,726.00                37.00                     0.00   \n",
       "2                     90.00                 1.00                     0.00   \n",
       "3                    133.00                 1.00                     0.00   \n",
       "4                    109.00                21.00                     0.00   \n",
       "\n",
       "   trafficSource_campaign  trafficSource_keyword  trafficSource_source  \\\n",
       "0                    0.00                   0.00                  0.00   \n",
       "1                    0.00                   0.00                  0.00   \n",
       "2                    0.00                   0.00                  0.00   \n",
       "3                    0.00                   0.00                 25.00   \n",
       "4                    1.00                  13.00                  0.00   \n",
       "\n",
       "   trafficSource_referralPath              weekday  \n",
       "0                        0.00                 3.00  \n",
       "1                        0.00                 2.00  \n",
       "2                        0.00                 5.00  \n",
       "3                       72.00                 0.00  \n",
       "4                        0.00                 5.00  "
      ]
     },
     "execution_count": 4,
     "metadata": {},
     "output_type": "execute_result"
    }
   ],
   "source": [
    "train_df_cat.head()"
   ]
  },
  {
   "cell_type": "code",
   "execution_count": 5,
   "id": "dc7c2d74-e7b6-4549-aafd-8db9359d2b24",
   "metadata": {},
   "outputs": [
    {
     "data": {
      "text/plain": [
       "fullVisitorId                  object\n",
       "device_browser                float64\n",
       "device_operatingSystem        float64\n",
       "geoNetwork_city               float64\n",
       "geoNetwork_metro              float64\n",
       "geoNetwork_country            float64\n",
       "geoNetwork_networkDomain      float64\n",
       "geoNetwork_region             float64\n",
       "trafficSource_adContent       float64\n",
       "trafficSource_campaign        float64\n",
       "trafficSource_keyword         float64\n",
       "trafficSource_source          float64\n",
       "trafficSource_referralPath    float64\n",
       "weekday                       float64\n",
       "dtype: object"
      ]
     },
     "execution_count": 5,
     "metadata": {},
     "output_type": "execute_result"
    }
   ],
   "source": [
    "train_df_cat.dtypes"
   ]
  },
  {
   "cell_type": "code",
   "execution_count": 6,
   "id": "e9bdb6c9-1e42-4ddc-83d7-b50a12686594",
   "metadata": {},
   "outputs": [
    {
     "name": "stderr",
     "output_type": "stream",
     "text": [
      "/tmp/ipykernel_9544/2683091660.py:1: DtypeWarning: Columns (2) have mixed types. Specify dtype option on import or set low_memory=False.\n",
      "  train_df_filter = pd.read_csv(\"data/train_filtered.csv\")\n"
     ]
    }
   ],
   "source": [
    "train_df_filter = pd.read_csv(\"data/train_filtered.csv\")"
   ]
  },
  {
   "cell_type": "code",
   "execution_count": 7,
   "id": "220d3e14-bc94-4355-8c14-5675d8269bf4",
   "metadata": {},
   "outputs": [
    {
     "data": {
      "text/plain": [
       "(902755, 32)"
      ]
     },
     "execution_count": 7,
     "metadata": {},
     "output_type": "execute_result"
    }
   ],
   "source": [
    "train_df_filter.shape"
   ]
  },
  {
   "cell_type": "code",
   "execution_count": 8,
   "id": "75180766-a770-4d6e-bebd-6dcdc2f72af6",
   "metadata": {},
   "outputs": [
    {
     "data": {
      "text/html": [
       "<div>\n",
       "<style scoped>\n",
       "    .dataframe tbody tr th:only-of-type {\n",
       "        vertical-align: middle;\n",
       "    }\n",
       "\n",
       "    .dataframe tbody tr th {\n",
       "        vertical-align: top;\n",
       "    }\n",
       "\n",
       "    .dataframe thead th {\n",
       "        text-align: right;\n",
       "    }\n",
       "</style>\n",
       "<table border=\"1\" class=\"dataframe\">\n",
       "  <thead>\n",
       "    <tr style=\"text-align: right;\">\n",
       "      <th></th>\n",
       "      <th>channelGrouping</th>\n",
       "      <th>date</th>\n",
       "      <th>fullVisitorId</th>\n",
       "      <th>visitNumber</th>\n",
       "      <th>visitStartTime</th>\n",
       "      <th>totals_bounces</th>\n",
       "      <th>totals_hits</th>\n",
       "      <th>totals_newVisits</th>\n",
       "      <th>totals_pageviews</th>\n",
       "      <th>totals_transactionRevenue</th>\n",
       "      <th>...</th>\n",
       "      <th>trafficSource_adwordsClickInfo.adNetworkType</th>\n",
       "      <th>trafficSource_adwordsClickInfo.isVideoAd</th>\n",
       "      <th>trafficSource_adwordsClickInfo.page</th>\n",
       "      <th>trafficSource_adwordsClickInfo.slot</th>\n",
       "      <th>trafficSource_campaign</th>\n",
       "      <th>trafficSource_isTrueDirect</th>\n",
       "      <th>trafficSource_keyword</th>\n",
       "      <th>trafficSource_medium</th>\n",
       "      <th>trafficSource_referralPath</th>\n",
       "      <th>trafficSource_source</th>\n",
       "    </tr>\n",
       "  </thead>\n",
       "  <tbody>\n",
       "    <tr>\n",
       "      <th>0</th>\n",
       "      <td>Organic Search</td>\n",
       "      <td>20160902</td>\n",
       "      <td>1131660440785968503</td>\n",
       "      <td>1</td>\n",
       "      <td>1472830385</td>\n",
       "      <td>1.00</td>\n",
       "      <td>1</td>\n",
       "      <td>1.00</td>\n",
       "      <td>1.00</td>\n",
       "      <td>0.00</td>\n",
       "      <td>...</td>\n",
       "      <td>@</td>\n",
       "      <td>1</td>\n",
       "      <td>0.00</td>\n",
       "      <td>@</td>\n",
       "      <td>@</td>\n",
       "      <td>0</td>\n",
       "      <td>@</td>\n",
       "      <td>organic</td>\n",
       "      <td>@</td>\n",
       "      <td>google</td>\n",
       "    </tr>\n",
       "    <tr>\n",
       "      <th>1</th>\n",
       "      <td>Organic Search</td>\n",
       "      <td>20160902</td>\n",
       "      <td>377306020877927890</td>\n",
       "      <td>1</td>\n",
       "      <td>1472880147</td>\n",
       "      <td>1.00</td>\n",
       "      <td>1</td>\n",
       "      <td>1.00</td>\n",
       "      <td>1.00</td>\n",
       "      <td>0.00</td>\n",
       "      <td>...</td>\n",
       "      <td>@</td>\n",
       "      <td>1</td>\n",
       "      <td>0.00</td>\n",
       "      <td>@</td>\n",
       "      <td>@</td>\n",
       "      <td>0</td>\n",
       "      <td>@</td>\n",
       "      <td>organic</td>\n",
       "      <td>@</td>\n",
       "      <td>google</td>\n",
       "    </tr>\n",
       "    <tr>\n",
       "      <th>2</th>\n",
       "      <td>Organic Search</td>\n",
       "      <td>20160902</td>\n",
       "      <td>3895546263509774583</td>\n",
       "      <td>1</td>\n",
       "      <td>1472865386</td>\n",
       "      <td>1.00</td>\n",
       "      <td>1</td>\n",
       "      <td>1.00</td>\n",
       "      <td>1.00</td>\n",
       "      <td>0.00</td>\n",
       "      <td>...</td>\n",
       "      <td>@</td>\n",
       "      <td>1</td>\n",
       "      <td>0.00</td>\n",
       "      <td>@</td>\n",
       "      <td>@</td>\n",
       "      <td>0</td>\n",
       "      <td>@</td>\n",
       "      <td>organic</td>\n",
       "      <td>@</td>\n",
       "      <td>google</td>\n",
       "    </tr>\n",
       "    <tr>\n",
       "      <th>3</th>\n",
       "      <td>Organic Search</td>\n",
       "      <td>20160902</td>\n",
       "      <td>4763447161404445595</td>\n",
       "      <td>1</td>\n",
       "      <td>1472881213</td>\n",
       "      <td>1.00</td>\n",
       "      <td>1</td>\n",
       "      <td>1.00</td>\n",
       "      <td>1.00</td>\n",
       "      <td>0.00</td>\n",
       "      <td>...</td>\n",
       "      <td>@</td>\n",
       "      <td>1</td>\n",
       "      <td>0.00</td>\n",
       "      <td>@</td>\n",
       "      <td>@</td>\n",
       "      <td>0</td>\n",
       "      <td>google + online</td>\n",
       "      <td>organic</td>\n",
       "      <td>@</td>\n",
       "      <td>google</td>\n",
       "    </tr>\n",
       "    <tr>\n",
       "      <th>4</th>\n",
       "      <td>Organic Search</td>\n",
       "      <td>20160902</td>\n",
       "      <td>27294437909732085</td>\n",
       "      <td>2</td>\n",
       "      <td>1472822600</td>\n",
       "      <td>1.00</td>\n",
       "      <td>1</td>\n",
       "      <td>0.00</td>\n",
       "      <td>1.00</td>\n",
       "      <td>0.00</td>\n",
       "      <td>...</td>\n",
       "      <td>@</td>\n",
       "      <td>1</td>\n",
       "      <td>0.00</td>\n",
       "      <td>@</td>\n",
       "      <td>@</td>\n",
       "      <td>1</td>\n",
       "      <td>@</td>\n",
       "      <td>organic</td>\n",
       "      <td>@</td>\n",
       "      <td>google</td>\n",
       "    </tr>\n",
       "  </tbody>\n",
       "</table>\n",
       "<p>5 rows × 32 columns</p>\n",
       "</div>"
      ],
      "text/plain": [
       "  channelGrouping      date        fullVisitorId  visitNumber  visitStartTime  \\\n",
       "0  Organic Search  20160902  1131660440785968503            1      1472830385   \n",
       "1  Organic Search  20160902   377306020877927890            1      1472880147   \n",
       "2  Organic Search  20160902  3895546263509774583            1      1472865386   \n",
       "3  Organic Search  20160902  4763447161404445595            1      1472881213   \n",
       "4  Organic Search  20160902    27294437909732085            2      1472822600   \n",
       "\n",
       "        totals_bounces  totals_hits     totals_newVisits     totals_pageviews  \\\n",
       "0                 1.00            1                 1.00                 1.00   \n",
       "1                 1.00            1                 1.00                 1.00   \n",
       "2                 1.00            1                 1.00                 1.00   \n",
       "3                 1.00            1                 1.00                 1.00   \n",
       "4                 1.00            1                 0.00                 1.00   \n",
       "\n",
       "   totals_transactionRevenue  ...  \\\n",
       "0                       0.00  ...   \n",
       "1                       0.00  ...   \n",
       "2                       0.00  ...   \n",
       "3                       0.00  ...   \n",
       "4                       0.00  ...   \n",
       "\n",
       "  trafficSource_adwordsClickInfo.adNetworkType  \\\n",
       "0                                            @   \n",
       "1                                            @   \n",
       "2                                            @   \n",
       "3                                            @   \n",
       "4                                            @   \n",
       "\n",
       "  trafficSource_adwordsClickInfo.isVideoAd  \\\n",
       "0                                        1   \n",
       "1                                        1   \n",
       "2                                        1   \n",
       "3                                        1   \n",
       "4                                        1   \n",
       "\n",
       "   trafficSource_adwordsClickInfo.page trafficSource_adwordsClickInfo.slot  \\\n",
       "0                                 0.00                                   @   \n",
       "1                                 0.00                                   @   \n",
       "2                                 0.00                                   @   \n",
       "3                                 0.00                                   @   \n",
       "4                                 0.00                                   @   \n",
       "\n",
       "  trafficSource_campaign trafficSource_isTrueDirect trafficSource_keyword  \\\n",
       "0                      @                          0                     @   \n",
       "1                      @                          0                     @   \n",
       "2                      @                          0                     @   \n",
       "3                      @                          0       google + online   \n",
       "4                      @                          1                     @   \n",
       "\n",
       "  trafficSource_medium trafficSource_referralPath trafficSource_source  \n",
       "0              organic                          @               google  \n",
       "1              organic                          @               google  \n",
       "2              organic                          @               google  \n",
       "3              organic                          @               google  \n",
       "4              organic                          @               google  \n",
       "\n",
       "[5 rows x 32 columns]"
      ]
     },
     "execution_count": 8,
     "metadata": {},
     "output_type": "execute_result"
    }
   ],
   "source": [
    "train_df_filter.head()"
   ]
  },
  {
   "cell_type": "code",
   "execution_count": 9,
   "id": "b46447e4-cbbc-4b4e-a8b6-fd19b4d5cc4d",
   "metadata": {
    "collapsed": true,
    "jupyter": {
     "outputs_hidden": true
    },
    "tags": []
   },
   "outputs": [
    {
     "data": {
      "text/plain": [
       "channelGrouping                                  object\n",
       "date                                              int64\n",
       "fullVisitorId                                    object\n",
       "visitNumber                                       int64\n",
       "visitStartTime                                    int64\n",
       "totals_bounces                                  float64\n",
       "totals_hits                                       int64\n",
       "totals_newVisits                                float64\n",
       "totals_pageviews                                float64\n",
       "totals_transactionRevenue                       float64\n",
       "device_browser                                   object\n",
       "device_deviceCategory                            object\n",
       "device_isMobile                                   int64\n",
       "device_operatingSystem                           object\n",
       "geoNetwork_city                                  object\n",
       "geoNetwork_continent                             object\n",
       "geoNetwork_country                               object\n",
       "geoNetwork_metro                                 object\n",
       "geoNetwork_networkDomain                         object\n",
       "geoNetwork_region                                object\n",
       "geoNetwork_subContinent                          object\n",
       "trafficSource_adContent                          object\n",
       "trafficSource_adwordsClickInfo.adNetworkType     object\n",
       "trafficSource_adwordsClickInfo.isVideoAd          int64\n",
       "trafficSource_adwordsClickInfo.page             float64\n",
       "trafficSource_adwordsClickInfo.slot              object\n",
       "trafficSource_campaign                           object\n",
       "trafficSource_isTrueDirect                        int64\n",
       "trafficSource_keyword                            object\n",
       "trafficSource_medium                             object\n",
       "trafficSource_referralPath                       object\n",
       "trafficSource_source                             object\n",
       "dtype: object"
      ]
     },
     "execution_count": 9,
     "metadata": {},
     "output_type": "execute_result"
    }
   ],
   "source": [
    "train_df_filter.dtypes"
   ]
  },
  {
   "cell_type": "code",
   "execution_count": 10,
   "id": "bf3917ca-a3e6-4b0e-9df5-06e5a763cc5e",
   "metadata": {},
   "outputs": [
    {
     "name": "stderr",
     "output_type": "stream",
     "text": [
      "/tmp/ipykernel_9544/1220889983.py:1: DtypeWarning: Columns (2,49) have mixed types. Specify dtype option on import or set low_memory=False.\n",
      "  train_df_flat = pd.read_csv(\"data/train_flat.csv\")\n"
     ]
    }
   ],
   "source": [
    "train_df_flat = pd.read_csv(\"data/train_flat.csv\")"
   ]
  },
  {
   "cell_type": "code",
   "execution_count": 11,
   "id": "1e5f4dd9-8ef4-4ee0-a422-c84d31f66c54",
   "metadata": {},
   "outputs": [
    {
     "data": {
      "text/plain": [
       "(903653, 55)"
      ]
     },
     "execution_count": 11,
     "metadata": {},
     "output_type": "execute_result"
    }
   ],
   "source": [
    "train_df_flat.shape"
   ]
  },
  {
   "cell_type": "code",
   "execution_count": 12,
   "id": "b9c07c69-877e-432c-ad79-45947b4642a6",
   "metadata": {
    "collapsed": true,
    "jupyter": {
     "outputs_hidden": true
    },
    "tags": []
   },
   "outputs": [
    {
     "data": {
      "text/html": [
       "<div>\n",
       "<style scoped>\n",
       "    .dataframe tbody tr th:only-of-type {\n",
       "        vertical-align: middle;\n",
       "    }\n",
       "\n",
       "    .dataframe tbody tr th {\n",
       "        vertical-align: top;\n",
       "    }\n",
       "\n",
       "    .dataframe thead th {\n",
       "        text-align: right;\n",
       "    }\n",
       "</style>\n",
       "<table border=\"1\" class=\"dataframe\">\n",
       "  <thead>\n",
       "    <tr style=\"text-align: right;\">\n",
       "      <th></th>\n",
       "      <th>channelGrouping</th>\n",
       "      <th>date</th>\n",
       "      <th>fullVisitorId</th>\n",
       "      <th>sessionId</th>\n",
       "      <th>socialEngagementType</th>\n",
       "      <th>visitId</th>\n",
       "      <th>visitNumber</th>\n",
       "      <th>visitStartTime</th>\n",
       "      <th>totals_bounces</th>\n",
       "      <th>totals_hits</th>\n",
       "      <th>...</th>\n",
       "      <th>trafficSource_adwordsClickInfo.isVideoAd</th>\n",
       "      <th>trafficSource_adwordsClickInfo.page</th>\n",
       "      <th>trafficSource_adwordsClickInfo.slot</th>\n",
       "      <th>trafficSource_campaign</th>\n",
       "      <th>trafficSource_campaignCode</th>\n",
       "      <th>trafficSource_isTrueDirect</th>\n",
       "      <th>trafficSource_keyword</th>\n",
       "      <th>trafficSource_medium</th>\n",
       "      <th>trafficSource_referralPath</th>\n",
       "      <th>trafficSource_source</th>\n",
       "    </tr>\n",
       "  </thead>\n",
       "  <tbody>\n",
       "    <tr>\n",
       "      <th>0</th>\n",
       "      <td>Organic Search</td>\n",
       "      <td>20160902</td>\n",
       "      <td>1131660440785968503</td>\n",
       "      <td>1131660440785968503_1472830385</td>\n",
       "      <td>0</td>\n",
       "      <td>1472830385</td>\n",
       "      <td>1</td>\n",
       "      <td>1472830385</td>\n",
       "      <td>1.00</td>\n",
       "      <td>1</td>\n",
       "      <td>...</td>\n",
       "      <td>NaN</td>\n",
       "      <td>NaN</td>\n",
       "      <td>NaN</td>\n",
       "      <td>NaN</td>\n",
       "      <td>NaN</td>\n",
       "      <td>NaN</td>\n",
       "      <td>NaN</td>\n",
       "      <td>organic</td>\n",
       "      <td>NaN</td>\n",
       "      <td>google</td>\n",
       "    </tr>\n",
       "    <tr>\n",
       "      <th>1</th>\n",
       "      <td>Organic Search</td>\n",
       "      <td>20160902</td>\n",
       "      <td>377306020877927890</td>\n",
       "      <td>377306020877927890_1472880147</td>\n",
       "      <td>0</td>\n",
       "      <td>1472880147</td>\n",
       "      <td>1</td>\n",
       "      <td>1472880147</td>\n",
       "      <td>1.00</td>\n",
       "      <td>1</td>\n",
       "      <td>...</td>\n",
       "      <td>NaN</td>\n",
       "      <td>NaN</td>\n",
       "      <td>NaN</td>\n",
       "      <td>NaN</td>\n",
       "      <td>NaN</td>\n",
       "      <td>NaN</td>\n",
       "      <td>NaN</td>\n",
       "      <td>organic</td>\n",
       "      <td>NaN</td>\n",
       "      <td>google</td>\n",
       "    </tr>\n",
       "    <tr>\n",
       "      <th>2</th>\n",
       "      <td>Organic Search</td>\n",
       "      <td>20160902</td>\n",
       "      <td>3895546263509774583</td>\n",
       "      <td>3895546263509774583_1472865386</td>\n",
       "      <td>0</td>\n",
       "      <td>1472865386</td>\n",
       "      <td>1</td>\n",
       "      <td>1472865386</td>\n",
       "      <td>1.00</td>\n",
       "      <td>1</td>\n",
       "      <td>...</td>\n",
       "      <td>NaN</td>\n",
       "      <td>NaN</td>\n",
       "      <td>NaN</td>\n",
       "      <td>NaN</td>\n",
       "      <td>NaN</td>\n",
       "      <td>NaN</td>\n",
       "      <td>NaN</td>\n",
       "      <td>organic</td>\n",
       "      <td>NaN</td>\n",
       "      <td>google</td>\n",
       "    </tr>\n",
       "    <tr>\n",
       "      <th>3</th>\n",
       "      <td>Organic Search</td>\n",
       "      <td>20160902</td>\n",
       "      <td>4763447161404445595</td>\n",
       "      <td>4763447161404445595_1472881213</td>\n",
       "      <td>0</td>\n",
       "      <td>1472881213</td>\n",
       "      <td>1</td>\n",
       "      <td>1472881213</td>\n",
       "      <td>1.00</td>\n",
       "      <td>1</td>\n",
       "      <td>...</td>\n",
       "      <td>NaN</td>\n",
       "      <td>NaN</td>\n",
       "      <td>NaN</td>\n",
       "      <td>NaN</td>\n",
       "      <td>NaN</td>\n",
       "      <td>NaN</td>\n",
       "      <td>google + online</td>\n",
       "      <td>organic</td>\n",
       "      <td>NaN</td>\n",
       "      <td>google</td>\n",
       "    </tr>\n",
       "    <tr>\n",
       "      <th>4</th>\n",
       "      <td>Organic Search</td>\n",
       "      <td>20160902</td>\n",
       "      <td>27294437909732085</td>\n",
       "      <td>27294437909732085_1472822600</td>\n",
       "      <td>0</td>\n",
       "      <td>1472822600</td>\n",
       "      <td>2</td>\n",
       "      <td>1472822600</td>\n",
       "      <td>1.00</td>\n",
       "      <td>1</td>\n",
       "      <td>...</td>\n",
       "      <td>NaN</td>\n",
       "      <td>NaN</td>\n",
       "      <td>NaN</td>\n",
       "      <td>NaN</td>\n",
       "      <td>NaN</td>\n",
       "      <td>True</td>\n",
       "      <td>NaN</td>\n",
       "      <td>organic</td>\n",
       "      <td>NaN</td>\n",
       "      <td>google</td>\n",
       "    </tr>\n",
       "  </tbody>\n",
       "</table>\n",
       "<p>5 rows × 55 columns</p>\n",
       "</div>"
      ],
      "text/plain": [
       "  channelGrouping      date        fullVisitorId  \\\n",
       "0  Organic Search  20160902  1131660440785968503   \n",
       "1  Organic Search  20160902   377306020877927890   \n",
       "2  Organic Search  20160902  3895546263509774583   \n",
       "3  Organic Search  20160902  4763447161404445595   \n",
       "4  Organic Search  20160902    27294437909732085   \n",
       "\n",
       "                        sessionId  socialEngagementType     visitId  \\\n",
       "0  1131660440785968503_1472830385                     0  1472830385   \n",
       "1   377306020877927890_1472880147                     0  1472880147   \n",
       "2  3895546263509774583_1472865386                     0  1472865386   \n",
       "3  4763447161404445595_1472881213                     0  1472881213   \n",
       "4    27294437909732085_1472822600                     0  1472822600   \n",
       "\n",
       "   visitNumber  visitStartTime       totals_bounces  totals_hits  ...  \\\n",
       "0            1      1472830385                 1.00            1  ...   \n",
       "1            1      1472880147                 1.00            1  ...   \n",
       "2            1      1472865386                 1.00            1  ...   \n",
       "3            1      1472881213                 1.00            1  ...   \n",
       "4            2      1472822600                 1.00            1  ...   \n",
       "\n",
       "   trafficSource_adwordsClickInfo.isVideoAd  \\\n",
       "0                                       NaN   \n",
       "1                                       NaN   \n",
       "2                                       NaN   \n",
       "3                                       NaN   \n",
       "4                                       NaN   \n",
       "\n",
       "   trafficSource_adwordsClickInfo.page  trafficSource_adwordsClickInfo.slot  \\\n",
       "0                                  NaN                                  NaN   \n",
       "1                                  NaN                                  NaN   \n",
       "2                                  NaN                                  NaN   \n",
       "3                                  NaN                                  NaN   \n",
       "4                                  NaN                                  NaN   \n",
       "\n",
       "   trafficSource_campaign trafficSource_campaignCode  \\\n",
       "0                     NaN                        NaN   \n",
       "1                     NaN                        NaN   \n",
       "2                     NaN                        NaN   \n",
       "3                     NaN                        NaN   \n",
       "4                     NaN                        NaN   \n",
       "\n",
       "   trafficSource_isTrueDirect  trafficSource_keyword trafficSource_medium  \\\n",
       "0                         NaN                    NaN              organic   \n",
       "1                         NaN                    NaN              organic   \n",
       "2                         NaN                    NaN              organic   \n",
       "3                         NaN        google + online              organic   \n",
       "4                        True                    NaN              organic   \n",
       "\n",
       "   trafficSource_referralPath  trafficSource_source  \n",
       "0                         NaN                google  \n",
       "1                         NaN                google  \n",
       "2                         NaN                google  \n",
       "3                         NaN                google  \n",
       "4                         NaN                google  \n",
       "\n",
       "[5 rows x 55 columns]"
      ]
     },
     "execution_count": 12,
     "metadata": {},
     "output_type": "execute_result"
    }
   ],
   "source": [
    "train_df_flat.head()"
   ]
  },
  {
   "cell_type": "code",
   "execution_count": 13,
   "id": "0c30ab12-0bb8-46fb-aa05-906266eeed2f",
   "metadata": {
    "collapsed": true,
    "jupyter": {
     "outputs_hidden": true
    },
    "tags": []
   },
   "outputs": [
    {
     "data": {
      "text/plain": [
       "channelGrouping                                       object\n",
       "date                                                   int64\n",
       "fullVisitorId                                         object\n",
       "sessionId                                             object\n",
       "socialEngagementType                                   int64\n",
       "visitId                                                int64\n",
       "visitNumber                                            int64\n",
       "visitStartTime                                         int64\n",
       "totals_bounces                                       float64\n",
       "totals_hits                                            int64\n",
       "totals_newVisits                                     float64\n",
       "totals_pageviews                                     float64\n",
       "totals_transactionRevenue                            float64\n",
       "totals_visits                                          int64\n",
       "device_browser                                        object\n",
       "device_browserSize                                   float64\n",
       "device_browserVersion                                float64\n",
       "device_deviceCategory                                 object\n",
       "device_flashVersion                                  float64\n",
       "device_isMobile                                         bool\n",
       "device_language                                      float64\n",
       "device_mobileDeviceBranding                          float64\n",
       "device_mobileDeviceInfo                              float64\n",
       "device_mobileDeviceMarketingName                     float64\n",
       "device_mobileDeviceModel                             float64\n",
       "device_mobileInputSelector                           float64\n",
       "device_operatingSystem                                object\n",
       "device_operatingSystemVersion                        float64\n",
       "device_screenColors                                  float64\n",
       "device_screenResolution                              float64\n",
       "geoNetwork_city                                       object\n",
       "geoNetwork_cityId                                    float64\n",
       "geoNetwork_continent                                  object\n",
       "geoNetwork_country                                    object\n",
       "geoNetwork_latitude                                  float64\n",
       "geoNetwork_longitude                                 float64\n",
       "geoNetwork_metro                                      object\n",
       "geoNetwork_networkDomain                              object\n",
       "geoNetwork_networkLocation                           float64\n",
       "geoNetwork_region                                     object\n",
       "geoNetwork_subContinent                               object\n",
       "trafficSource_adContent                               object\n",
       "trafficSource_adwordsClickInfo.adNetworkType          object\n",
       "trafficSource_adwordsClickInfo.criteriaParameters    float64\n",
       "trafficSource_adwordsClickInfo.gclId                  object\n",
       "trafficSource_adwordsClickInfo.isVideoAd              object\n",
       "trafficSource_adwordsClickInfo.page                  float64\n",
       "trafficSource_adwordsClickInfo.slot                   object\n",
       "trafficSource_campaign                                object\n",
       "trafficSource_campaignCode                            object\n",
       "trafficSource_isTrueDirect                            object\n",
       "trafficSource_keyword                                 object\n",
       "trafficSource_medium                                  object\n",
       "trafficSource_referralPath                            object\n",
       "trafficSource_source                                  object\n",
       "dtype: object"
      ]
     },
     "execution_count": 13,
     "metadata": {},
     "output_type": "execute_result"
    }
   ],
   "source": [
    "train_df_flat.dtypes"
   ]
  },
  {
   "cell_type": "code",
   "execution_count": 14,
   "id": "9b186b44-4f0a-4ae7-a992-55ae0da123a7",
   "metadata": {
    "collapsed": true,
    "jupyter": {
     "outputs_hidden": true
    },
    "tags": []
   },
   "outputs": [
    {
     "data": {
      "text/plain": [
       "fullVisitorId                 0\n",
       "device_browser                0\n",
       "device_operatingSystem        0\n",
       "geoNetwork_city               0\n",
       "geoNetwork_metro              0\n",
       "geoNetwork_country            0\n",
       "geoNetwork_networkDomain      0\n",
       "geoNetwork_region             0\n",
       "trafficSource_adContent       0\n",
       "trafficSource_campaign        0\n",
       "trafficSource_keyword         0\n",
       "trafficSource_source          0\n",
       "trafficSource_referralPath    0\n",
       "weekday                       0\n",
       "dtype: int64"
      ]
     },
     "execution_count": 14,
     "metadata": {},
     "output_type": "execute_result"
    }
   ],
   "source": [
    "train_df_cat.isna().sum()"
   ]
  },
  {
   "cell_type": "code",
   "execution_count": 15,
   "id": "d35897c8-6d57-43fc-9d48-ca6ad75958e1",
   "metadata": {
    "collapsed": true,
    "jupyter": {
     "outputs_hidden": true
    },
    "tags": []
   },
   "outputs": [
    {
     "data": {
      "text/plain": [
       "channelGrouping                                 0\n",
       "date                                            0\n",
       "fullVisitorId                                   0\n",
       "visitNumber                                     0\n",
       "visitStartTime                                  0\n",
       "totals_bounces                                  0\n",
       "totals_hits                                     0\n",
       "totals_newVisits                                0\n",
       "totals_pageviews                                0\n",
       "totals_transactionRevenue                       0\n",
       "device_browser                                  0\n",
       "device_deviceCategory                           0\n",
       "device_isMobile                                 0\n",
       "device_operatingSystem                          0\n",
       "geoNetwork_city                                 0\n",
       "geoNetwork_continent                            0\n",
       "geoNetwork_country                              0\n",
       "geoNetwork_metro                                0\n",
       "geoNetwork_networkDomain                        0\n",
       "geoNetwork_region                               0\n",
       "geoNetwork_subContinent                         0\n",
       "trafficSource_adContent                         0\n",
       "trafficSource_adwordsClickInfo.adNetworkType    0\n",
       "trafficSource_adwordsClickInfo.isVideoAd        0\n",
       "trafficSource_adwordsClickInfo.page             0\n",
       "trafficSource_adwordsClickInfo.slot             0\n",
       "trafficSource_campaign                          0\n",
       "trafficSource_isTrueDirect                      0\n",
       "trafficSource_keyword                           0\n",
       "trafficSource_medium                            0\n",
       "trafficSource_referralPath                      0\n",
       "trafficSource_source                            0\n",
       "dtype: int64"
      ]
     },
     "execution_count": 15,
     "metadata": {},
     "output_type": "execute_result"
    }
   ],
   "source": [
    "train_df_filter.isna().sum() # train_df_filter seems to be the processed data after removing redundant and allegedly less meaningful features"
   ]
  },
  {
   "cell_type": "code",
   "execution_count": 16,
   "id": "dcd666ed-b216-4e82-9a0c-ac0739fcffdb",
   "metadata": {
    "collapsed": true,
    "jupyter": {
     "outputs_hidden": true
    },
    "tags": []
   },
   "outputs": [
    {
     "data": {
      "text/plain": [
       "channelGrouping                                           0\n",
       "date                                                      0\n",
       "fullVisitorId                                             0\n",
       "sessionId                                                 0\n",
       "socialEngagementType                                      0\n",
       "visitId                                                   0\n",
       "visitNumber                                               0\n",
       "visitStartTime                                            0\n",
       "totals_bounces                                       453023\n",
       "totals_hits                                               0\n",
       "totals_newVisits                                     200593\n",
       "totals_pageviews                                        100\n",
       "totals_transactionRevenue                            892138\n",
       "totals_visits                                             0\n",
       "device_browser                                            8\n",
       "device_browserSize                                   903653\n",
       "device_browserVersion                                903653\n",
       "device_deviceCategory                                     0\n",
       "device_flashVersion                                  903653\n",
       "device_isMobile                                           0\n",
       "device_language                                      903653\n",
       "device_mobileDeviceBranding                          903653\n",
       "device_mobileDeviceInfo                              903653\n",
       "device_mobileDeviceMarketingName                     903653\n",
       "device_mobileDeviceModel                             903653\n",
       "device_mobileInputSelector                           903653\n",
       "device_operatingSystem                                 4695\n",
       "device_operatingSystemVersion                        903653\n",
       "device_screenColors                                  903653\n",
       "device_screenResolution                              903653\n",
       "geoNetwork_city                                      542491\n",
       "geoNetwork_cityId                                    903653\n",
       "geoNetwork_continent                                   1468\n",
       "geoNetwork_country                                     1468\n",
       "geoNetwork_latitude                                  903653\n",
       "geoNetwork_longitude                                 903653\n",
       "geoNetwork_metro                                     709995\n",
       "geoNetwork_networkDomain                             390915\n",
       "geoNetwork_networkLocation                           903653\n",
       "geoNetwork_region                                    536056\n",
       "geoNetwork_subContinent                                1468\n",
       "trafficSource_adContent                              892707\n",
       "trafficSource_adwordsClickInfo.adNetworkType         882193\n",
       "trafficSource_adwordsClickInfo.criteriaParameters    903653\n",
       "trafficSource_adwordsClickInfo.gclId                 882092\n",
       "trafficSource_adwordsClickInfo.isVideoAd             882193\n",
       "trafficSource_adwordsClickInfo.page                  882193\n",
       "trafficSource_adwordsClickInfo.slot                  882193\n",
       "trafficSource_campaign                               865347\n",
       "trafficSource_campaignCode                           903652\n",
       "trafficSource_isTrueDirect                           629648\n",
       "trafficSource_keyword                                869292\n",
       "trafficSource_medium                                 143146\n",
       "trafficSource_referralPath                           648235\n",
       "trafficSource_source                                     69\n",
       "dtype: int64"
      ]
     },
     "execution_count": 16,
     "metadata": {},
     "output_type": "execute_result"
    }
   ],
   "source": [
    "train_df_flat.isna().sum()"
   ]
  },
  {
   "cell_type": "code",
   "execution_count": 17,
   "id": "aa7fdd7d-7a56-4cf6-9efd-a3f7e7599b56",
   "metadata": {
    "collapsed": true,
    "jupyter": {
     "outputs_hidden": true
    },
    "tags": []
   },
   "outputs": [
    {
     "data": {
      "text/plain": [
       "channelGrouping                                      False\n",
       "date                                                 False\n",
       "fullVisitorId                                        False\n",
       "sessionId                                            False\n",
       "socialEngagementType                                 False\n",
       "visitId                                              False\n",
       "visitNumber                                          False\n",
       "visitStartTime                                       False\n",
       "totals_bounces                                        True\n",
       "totals_hits                                          False\n",
       "totals_newVisits                                     False\n",
       "totals_pageviews                                     False\n",
       "totals_transactionRevenue                             True\n",
       "totals_visits                                        False\n",
       "device_browser                                       False\n",
       "device_browserSize                                    True\n",
       "device_browserVersion                                 True\n",
       "device_deviceCategory                                False\n",
       "device_flashVersion                                   True\n",
       "device_isMobile                                      False\n",
       "device_language                                       True\n",
       "device_mobileDeviceBranding                           True\n",
       "device_mobileDeviceInfo                               True\n",
       "device_mobileDeviceMarketingName                      True\n",
       "device_mobileDeviceModel                              True\n",
       "device_mobileInputSelector                            True\n",
       "device_operatingSystem                               False\n",
       "device_operatingSystemVersion                         True\n",
       "device_screenColors                                   True\n",
       "device_screenResolution                               True\n",
       "geoNetwork_city                                       True\n",
       "geoNetwork_cityId                                     True\n",
       "geoNetwork_continent                                 False\n",
       "geoNetwork_country                                   False\n",
       "geoNetwork_latitude                                   True\n",
       "geoNetwork_longitude                                  True\n",
       "geoNetwork_metro                                      True\n",
       "geoNetwork_networkDomain                             False\n",
       "geoNetwork_networkLocation                            True\n",
       "geoNetwork_region                                     True\n",
       "geoNetwork_subContinent                              False\n",
       "trafficSource_adContent                               True\n",
       "trafficSource_adwordsClickInfo.adNetworkType          True\n",
       "trafficSource_adwordsClickInfo.criteriaParameters     True\n",
       "trafficSource_adwordsClickInfo.gclId                  True\n",
       "trafficSource_adwordsClickInfo.isVideoAd              True\n",
       "trafficSource_adwordsClickInfo.page                   True\n",
       "trafficSource_adwordsClickInfo.slot                   True\n",
       "trafficSource_campaign                                True\n",
       "trafficSource_campaignCode                            True\n",
       "trafficSource_isTrueDirect                            True\n",
       "trafficSource_keyword                                 True\n",
       "trafficSource_medium                                 False\n",
       "trafficSource_referralPath                            True\n",
       "trafficSource_source                                 False\n",
       "dtype: bool"
      ]
     },
     "execution_count": 17,
     "metadata": {},
     "output_type": "execute_result"
    }
   ],
   "source": [
    "train_df_flat.isna().sum() >= 453023"
   ]
  },
  {
   "cell_type": "markdown",
   "id": "3c9bdf82-7eab-4722-9717-038333862436",
   "metadata": {},
   "source": [
    "Note on the values of totals_transactionRevenue: Total transaction revenue is expressed as the value passed to Analytics multiplied by 10^6 (e.g., 2.40 would be given as 2400000)."
   ]
  },
  {
   "cell_type": "markdown",
   "id": "2b15cf20-0676-44b6-9048-5e72c2993f20",
   "metadata": {},
   "source": [
    "How many unique visitors did the ecommerce-shop have for the observed period?"
   ]
  },
  {
   "cell_type": "code",
   "execution_count": 18,
   "id": "7d8d891f-30d0-4f31-aa79-d8319d624ac4",
   "metadata": {},
   "outputs": [],
   "source": [
    "unique_customers = train_df_filter.fullVisitorId.nunique()"
   ]
  },
  {
   "cell_type": "code",
   "execution_count": 112,
   "id": "bc65d87b-1711-4c8e-a04c-db48db53b2d6",
   "metadata": {},
   "outputs": [
    {
     "data": {
      "text/plain": [
       "723854"
      ]
     },
     "execution_count": 112,
     "metadata": {},
     "output_type": "execute_result"
    }
   ],
   "source": [
    "unique_customers"
   ]
  },
  {
   "cell_type": "markdown",
   "id": "e728f412-13bf-4d07-9b24-e92a6529909f",
   "metadata": {},
   "source": [
    "How many of those generated revenue?"
   ]
  },
  {
   "cell_type": "code",
   "execution_count": 19,
   "id": "9a4ff675-a3aa-46b9-a7c5-d3c1276d3aaf",
   "metadata": {
    "collapsed": true,
    "jupyter": {
     "outputs_hidden": true
    },
    "tags": []
   },
   "outputs": [
    {
     "data": {
      "text/html": [
       "<div>\n",
       "<style scoped>\n",
       "    .dataframe tbody tr th:only-of-type {\n",
       "        vertical-align: middle;\n",
       "    }\n",
       "\n",
       "    .dataframe tbody tr th {\n",
       "        vertical-align: top;\n",
       "    }\n",
       "\n",
       "    .dataframe thead th {\n",
       "        text-align: right;\n",
       "    }\n",
       "</style>\n",
       "<table border=\"1\" class=\"dataframe\">\n",
       "  <thead>\n",
       "    <tr style=\"text-align: right;\">\n",
       "      <th></th>\n",
       "      <th>fullVisitorId</th>\n",
       "      <th>totals_transactionRevenue</th>\n",
       "    </tr>\n",
       "  </thead>\n",
       "  <tbody>\n",
       "    <tr>\n",
       "      <th>374904</th>\n",
       "      <td>1957458976293878100</td>\n",
       "      <td>23,129,500,000.00</td>\n",
       "    </tr>\n",
       "    <tr>\n",
       "      <th>430432</th>\n",
       "      <td>1957458976293878100</td>\n",
       "      <td>17,855,500,000.00</td>\n",
       "    </tr>\n",
       "    <tr>\n",
       "      <th>380637</th>\n",
       "      <td>5632276788326171571</td>\n",
       "      <td>16,023,750,000.00</td>\n",
       "    </tr>\n",
       "    <tr>\n",
       "      <th>772974</th>\n",
       "      <td>9417857471295131045</td>\n",
       "      <td>10,589,140,000.00</td>\n",
       "    </tr>\n",
       "    <tr>\n",
       "      <th>890691</th>\n",
       "      <td>1957458976293878100</td>\n",
       "      <td>8,677,830,000.00</td>\n",
       "    </tr>\n",
       "    <tr>\n",
       "      <th>...</th>\n",
       "      <td>...</td>\n",
       "      <td>...</td>\n",
       "    </tr>\n",
       "    <tr>\n",
       "      <th>302842</th>\n",
       "      <td>6705206951405647737</td>\n",
       "      <td>0.00</td>\n",
       "    </tr>\n",
       "    <tr>\n",
       "      <th>302843</th>\n",
       "      <td>262472272057446420</td>\n",
       "      <td>0.00</td>\n",
       "    </tr>\n",
       "    <tr>\n",
       "      <th>302844</th>\n",
       "      <td>3627326284569000152</td>\n",
       "      <td>0.00</td>\n",
       "    </tr>\n",
       "    <tr>\n",
       "      <th>302845</th>\n",
       "      <td>996291448451917297</td>\n",
       "      <td>0.00</td>\n",
       "    </tr>\n",
       "    <tr>\n",
       "      <th>902754</th>\n",
       "      <td>814900163617805053</td>\n",
       "      <td>0.00</td>\n",
       "    </tr>\n",
       "  </tbody>\n",
       "</table>\n",
       "<p>902755 rows × 2 columns</p>\n",
       "</div>"
      ],
      "text/plain": [
       "              fullVisitorId  totals_transactionRevenue\n",
       "374904  1957458976293878100          23,129,500,000.00\n",
       "430432  1957458976293878100          17,855,500,000.00\n",
       "380637  5632276788326171571          16,023,750,000.00\n",
       "772974  9417857471295131045          10,589,140,000.00\n",
       "890691  1957458976293878100           8,677,830,000.00\n",
       "...                     ...                        ...\n",
       "302842  6705206951405647737                       0.00\n",
       "302843   262472272057446420                       0.00\n",
       "302844  3627326284569000152                       0.00\n",
       "302845   996291448451917297                       0.00\n",
       "902754   814900163617805053                       0.00\n",
       "\n",
       "[902755 rows x 2 columns]"
      ]
     },
     "execution_count": 19,
     "metadata": {},
     "output_type": "execute_result"
    }
   ],
   "source": [
    "train_df_filter[['fullVisitorId', 'totals_transactionRevenue']].sort_values('totals_transactionRevenue',ascending=False)"
   ]
  },
  {
   "cell_type": "code",
   "execution_count": 20,
   "id": "b9e968c4-a70e-43d6-b7d3-a0ed5858e884",
   "metadata": {},
   "outputs": [],
   "source": [
    "rev_by_customer = train_df_filter[['fullVisitorId', 'totals_transactionRevenue']].groupby('fullVisitorId').sum().sort_values('totals_transactionRevenue',ascending=False)"
   ]
  },
  {
   "cell_type": "code",
   "execution_count": 21,
   "id": "5e633d1f-f1f9-4bd4-86b3-cb8d04d9b74d",
   "metadata": {},
   "outputs": [],
   "source": [
    "rev_by_customer_real = rev_by_customer"
   ]
  },
  {
   "cell_type": "code",
   "execution_count": 22,
   "id": "f0b68b09-d0e2-4b14-9ee3-1804d83ffa8d",
   "metadata": {},
   "outputs": [
    {
     "data": {
      "text/html": [
       "<div>\n",
       "<style scoped>\n",
       "    .dataframe tbody tr th:only-of-type {\n",
       "        vertical-align: middle;\n",
       "    }\n",
       "\n",
       "    .dataframe tbody tr th {\n",
       "        vertical-align: top;\n",
       "    }\n",
       "\n",
       "    .dataframe thead th {\n",
       "        text-align: right;\n",
       "    }\n",
       "</style>\n",
       "<table border=\"1\" class=\"dataframe\">\n",
       "  <thead>\n",
       "    <tr style=\"text-align: right;\">\n",
       "      <th></th>\n",
       "      <th>totals_transactionRevenue</th>\n",
       "    </tr>\n",
       "    <tr>\n",
       "      <th>fullVisitorId</th>\n",
       "      <th></th>\n",
       "    </tr>\n",
       "  </thead>\n",
       "  <tbody>\n",
       "    <tr>\n",
       "      <th>1957458976293878100</th>\n",
       "      <td>75,916,690,000.00</td>\n",
       "    </tr>\n",
       "    <tr>\n",
       "      <th>5632276788326171571</th>\n",
       "      <td>16,023,750,000.00</td>\n",
       "    </tr>\n",
       "    <tr>\n",
       "      <th>9417857471295131045</th>\n",
       "      <td>15,170,120,000.00</td>\n",
       "    </tr>\n",
       "    <tr>\n",
       "      <th>4471415710206918415</th>\n",
       "      <td>11,211,100,000.00</td>\n",
       "    </tr>\n",
       "    <tr>\n",
       "      <th>4984366501121503466</th>\n",
       "      <td>9,513,900,000.00</td>\n",
       "    </tr>\n",
       "    <tr>\n",
       "      <th>...</th>\n",
       "      <td>...</td>\n",
       "    </tr>\n",
       "    <tr>\n",
       "      <th>2793635141970553946</th>\n",
       "      <td>0.00</td>\n",
       "    </tr>\n",
       "    <tr>\n",
       "      <th>2793638325076213828</th>\n",
       "      <td>0.00</td>\n",
       "    </tr>\n",
       "    <tr>\n",
       "      <th>2793639349609627123</th>\n",
       "      <td>0.00</td>\n",
       "    </tr>\n",
       "    <tr>\n",
       "      <th>2793640566784360242</th>\n",
       "      <td>0.00</td>\n",
       "    </tr>\n",
       "    <tr>\n",
       "      <th>9999963186378918199</th>\n",
       "      <td>0.00</td>\n",
       "    </tr>\n",
       "  </tbody>\n",
       "</table>\n",
       "<p>723854 rows × 1 columns</p>\n",
       "</div>"
      ],
      "text/plain": [
       "                     totals_transactionRevenue\n",
       "fullVisitorId                                 \n",
       "1957458976293878100          75,916,690,000.00\n",
       "5632276788326171571          16,023,750,000.00\n",
       "9417857471295131045          15,170,120,000.00\n",
       "4471415710206918415          11,211,100,000.00\n",
       "4984366501121503466           9,513,900,000.00\n",
       "...                                        ...\n",
       "2793635141970553946                       0.00\n",
       "2793638325076213828                       0.00\n",
       "2793639349609627123                       0.00\n",
       "2793640566784360242                       0.00\n",
       "9999963186378918199                       0.00\n",
       "\n",
       "[723854 rows x 1 columns]"
      ]
     },
     "execution_count": 22,
     "metadata": {},
     "output_type": "execute_result"
    }
   ],
   "source": [
    "rev_by_customer"
   ]
  },
  {
   "cell_type": "code",
   "execution_count": 23,
   "id": "d84bab7c-4ae7-42f1-be56-d9450a293a2a",
   "metadata": {},
   "outputs": [],
   "source": [
    "rev_by_customer_real.totals_transactionRevenue = rev_by_customer_real.totals_transactionRevenue/(10**6)"
   ]
  },
  {
   "cell_type": "code",
   "execution_count": 24,
   "id": "a45ffb39-ea46-46fd-9af7-2c7011773b28",
   "metadata": {},
   "outputs": [
    {
     "data": {
      "text/html": [
       "<div>\n",
       "<style scoped>\n",
       "    .dataframe tbody tr th:only-of-type {\n",
       "        vertical-align: middle;\n",
       "    }\n",
       "\n",
       "    .dataframe tbody tr th {\n",
       "        vertical-align: top;\n",
       "    }\n",
       "\n",
       "    .dataframe thead th {\n",
       "        text-align: right;\n",
       "    }\n",
       "</style>\n",
       "<table border=\"1\" class=\"dataframe\">\n",
       "  <thead>\n",
       "    <tr style=\"text-align: right;\">\n",
       "      <th></th>\n",
       "      <th>totals_transactionRevenue</th>\n",
       "    </tr>\n",
       "    <tr>\n",
       "      <th>fullVisitorId</th>\n",
       "      <th></th>\n",
       "    </tr>\n",
       "  </thead>\n",
       "  <tbody>\n",
       "    <tr>\n",
       "      <th>1957458976293878100</th>\n",
       "      <td>75,916.69</td>\n",
       "    </tr>\n",
       "    <tr>\n",
       "      <th>5632276788326171571</th>\n",
       "      <td>16,023.75</td>\n",
       "    </tr>\n",
       "    <tr>\n",
       "      <th>9417857471295131045</th>\n",
       "      <td>15,170.12</td>\n",
       "    </tr>\n",
       "    <tr>\n",
       "      <th>4471415710206918415</th>\n",
       "      <td>11,211.10</td>\n",
       "    </tr>\n",
       "    <tr>\n",
       "      <th>4984366501121503466</th>\n",
       "      <td>9,513.90</td>\n",
       "    </tr>\n",
       "    <tr>\n",
       "      <th>...</th>\n",
       "      <td>...</td>\n",
       "    </tr>\n",
       "    <tr>\n",
       "      <th>2793635141970553946</th>\n",
       "      <td>0.00</td>\n",
       "    </tr>\n",
       "    <tr>\n",
       "      <th>2793638325076213828</th>\n",
       "      <td>0.00</td>\n",
       "    </tr>\n",
       "    <tr>\n",
       "      <th>2793639349609627123</th>\n",
       "      <td>0.00</td>\n",
       "    </tr>\n",
       "    <tr>\n",
       "      <th>2793640566784360242</th>\n",
       "      <td>0.00</td>\n",
       "    </tr>\n",
       "    <tr>\n",
       "      <th>9999963186378918199</th>\n",
       "      <td>0.00</td>\n",
       "    </tr>\n",
       "  </tbody>\n",
       "</table>\n",
       "<p>723854 rows × 1 columns</p>\n",
       "</div>"
      ],
      "text/plain": [
       "                     totals_transactionRevenue\n",
       "fullVisitorId                                 \n",
       "1957458976293878100                  75,916.69\n",
       "5632276788326171571                  16,023.75\n",
       "9417857471295131045                  15,170.12\n",
       "4471415710206918415                  11,211.10\n",
       "4984366501121503466                   9,513.90\n",
       "...                                        ...\n",
       "2793635141970553946                       0.00\n",
       "2793638325076213828                       0.00\n",
       "2793639349609627123                       0.00\n",
       "2793640566784360242                       0.00\n",
       "9999963186378918199                       0.00\n",
       "\n",
       "[723854 rows x 1 columns]"
      ]
     },
     "execution_count": 24,
     "metadata": {},
     "output_type": "execute_result"
    }
   ],
   "source": [
    "rev_by_customer_real"
   ]
  },
  {
   "cell_type": "code",
   "execution_count": 25,
   "id": "13a5844d-8b32-4cbb-a46f-99ed4e0cfe2b",
   "metadata": {},
   "outputs": [],
   "source": [
    "paying_customers = (rev_by_customer.totals_transactionRevenue > 0).sum()"
   ]
  },
  {
   "cell_type": "code",
   "execution_count": 26,
   "id": "18255037-0564-47df-a213-577e78ec72a1",
   "metadata": {},
   "outputs": [],
   "source": [
    "conversion_rate = paying_customers/unique_customers"
   ]
  },
  {
   "cell_type": "markdown",
   "id": "4ab3d4bd-e41f-43bb-b2bc-4a4ad0d9d0a5",
   "metadata": {},
   "source": [
    "Only 1.4% of all visitors generate (tracked) revenue (assuming missing values mean no revenue)"
   ]
  },
  {
   "cell_type": "code",
   "execution_count": 27,
   "id": "24f520ac-6822-44f6-8fcb-ca7d4bbf55c8",
   "metadata": {},
   "outputs": [
    {
     "data": {
      "text/html": [
       "<div>\n",
       "<style scoped>\n",
       "    .dataframe tbody tr th:only-of-type {\n",
       "        vertical-align: middle;\n",
       "    }\n",
       "\n",
       "    .dataframe tbody tr th {\n",
       "        vertical-align: top;\n",
       "    }\n",
       "\n",
       "    .dataframe thead th {\n",
       "        text-align: right;\n",
       "    }\n",
       "</style>\n",
       "<table border=\"1\" class=\"dataframe\">\n",
       "  <thead>\n",
       "    <tr style=\"text-align: right;\">\n",
       "      <th></th>\n",
       "      <th>channelGrouping</th>\n",
       "      <th>date</th>\n",
       "      <th>fullVisitorId</th>\n",
       "      <th>visitNumber</th>\n",
       "      <th>visitStartTime</th>\n",
       "      <th>totals_bounces</th>\n",
       "      <th>totals_hits</th>\n",
       "      <th>totals_newVisits</th>\n",
       "      <th>totals_pageviews</th>\n",
       "      <th>totals_transactionRevenue</th>\n",
       "      <th>...</th>\n",
       "      <th>trafficSource_adwordsClickInfo.adNetworkType</th>\n",
       "      <th>trafficSource_adwordsClickInfo.isVideoAd</th>\n",
       "      <th>trafficSource_adwordsClickInfo.page</th>\n",
       "      <th>trafficSource_adwordsClickInfo.slot</th>\n",
       "      <th>trafficSource_campaign</th>\n",
       "      <th>trafficSource_isTrueDirect</th>\n",
       "      <th>trafficSource_keyword</th>\n",
       "      <th>trafficSource_medium</th>\n",
       "      <th>trafficSource_referralPath</th>\n",
       "      <th>trafficSource_source</th>\n",
       "    </tr>\n",
       "  </thead>\n",
       "  <tbody>\n",
       "    <tr>\n",
       "      <th>0</th>\n",
       "      <td>Organic Search</td>\n",
       "      <td>20160902</td>\n",
       "      <td>1131660440785968503</td>\n",
       "      <td>1</td>\n",
       "      <td>1472830385</td>\n",
       "      <td>1.00</td>\n",
       "      <td>1</td>\n",
       "      <td>1.00</td>\n",
       "      <td>1.00</td>\n",
       "      <td>0.00</td>\n",
       "      <td>...</td>\n",
       "      <td>@</td>\n",
       "      <td>1</td>\n",
       "      <td>0.00</td>\n",
       "      <td>@</td>\n",
       "      <td>@</td>\n",
       "      <td>0</td>\n",
       "      <td>@</td>\n",
       "      <td>organic</td>\n",
       "      <td>@</td>\n",
       "      <td>google</td>\n",
       "    </tr>\n",
       "    <tr>\n",
       "      <th>1</th>\n",
       "      <td>Organic Search</td>\n",
       "      <td>20160902</td>\n",
       "      <td>377306020877927890</td>\n",
       "      <td>1</td>\n",
       "      <td>1472880147</td>\n",
       "      <td>1.00</td>\n",
       "      <td>1</td>\n",
       "      <td>1.00</td>\n",
       "      <td>1.00</td>\n",
       "      <td>0.00</td>\n",
       "      <td>...</td>\n",
       "      <td>@</td>\n",
       "      <td>1</td>\n",
       "      <td>0.00</td>\n",
       "      <td>@</td>\n",
       "      <td>@</td>\n",
       "      <td>0</td>\n",
       "      <td>@</td>\n",
       "      <td>organic</td>\n",
       "      <td>@</td>\n",
       "      <td>google</td>\n",
       "    </tr>\n",
       "    <tr>\n",
       "      <th>2</th>\n",
       "      <td>Organic Search</td>\n",
       "      <td>20160902</td>\n",
       "      <td>3895546263509774583</td>\n",
       "      <td>1</td>\n",
       "      <td>1472865386</td>\n",
       "      <td>1.00</td>\n",
       "      <td>1</td>\n",
       "      <td>1.00</td>\n",
       "      <td>1.00</td>\n",
       "      <td>0.00</td>\n",
       "      <td>...</td>\n",
       "      <td>@</td>\n",
       "      <td>1</td>\n",
       "      <td>0.00</td>\n",
       "      <td>@</td>\n",
       "      <td>@</td>\n",
       "      <td>0</td>\n",
       "      <td>@</td>\n",
       "      <td>organic</td>\n",
       "      <td>@</td>\n",
       "      <td>google</td>\n",
       "    </tr>\n",
       "    <tr>\n",
       "      <th>3</th>\n",
       "      <td>Organic Search</td>\n",
       "      <td>20160902</td>\n",
       "      <td>4763447161404445595</td>\n",
       "      <td>1</td>\n",
       "      <td>1472881213</td>\n",
       "      <td>1.00</td>\n",
       "      <td>1</td>\n",
       "      <td>1.00</td>\n",
       "      <td>1.00</td>\n",
       "      <td>0.00</td>\n",
       "      <td>...</td>\n",
       "      <td>@</td>\n",
       "      <td>1</td>\n",
       "      <td>0.00</td>\n",
       "      <td>@</td>\n",
       "      <td>@</td>\n",
       "      <td>0</td>\n",
       "      <td>google + online</td>\n",
       "      <td>organic</td>\n",
       "      <td>@</td>\n",
       "      <td>google</td>\n",
       "    </tr>\n",
       "    <tr>\n",
       "      <th>4</th>\n",
       "      <td>Organic Search</td>\n",
       "      <td>20160902</td>\n",
       "      <td>27294437909732085</td>\n",
       "      <td>2</td>\n",
       "      <td>1472822600</td>\n",
       "      <td>1.00</td>\n",
       "      <td>1</td>\n",
       "      <td>0.00</td>\n",
       "      <td>1.00</td>\n",
       "      <td>0.00</td>\n",
       "      <td>...</td>\n",
       "      <td>@</td>\n",
       "      <td>1</td>\n",
       "      <td>0.00</td>\n",
       "      <td>@</td>\n",
       "      <td>@</td>\n",
       "      <td>1</td>\n",
       "      <td>@</td>\n",
       "      <td>organic</td>\n",
       "      <td>@</td>\n",
       "      <td>google</td>\n",
       "    </tr>\n",
       "  </tbody>\n",
       "</table>\n",
       "<p>5 rows × 32 columns</p>\n",
       "</div>"
      ],
      "text/plain": [
       "  channelGrouping      date        fullVisitorId  visitNumber  visitStartTime  \\\n",
       "0  Organic Search  20160902  1131660440785968503            1      1472830385   \n",
       "1  Organic Search  20160902   377306020877927890            1      1472880147   \n",
       "2  Organic Search  20160902  3895546263509774583            1      1472865386   \n",
       "3  Organic Search  20160902  4763447161404445595            1      1472881213   \n",
       "4  Organic Search  20160902    27294437909732085            2      1472822600   \n",
       "\n",
       "        totals_bounces  totals_hits     totals_newVisits     totals_pageviews  \\\n",
       "0                 1.00            1                 1.00                 1.00   \n",
       "1                 1.00            1                 1.00                 1.00   \n",
       "2                 1.00            1                 1.00                 1.00   \n",
       "3                 1.00            1                 1.00                 1.00   \n",
       "4                 1.00            1                 0.00                 1.00   \n",
       "\n",
       "   totals_transactionRevenue  ...  \\\n",
       "0                       0.00  ...   \n",
       "1                       0.00  ...   \n",
       "2                       0.00  ...   \n",
       "3                       0.00  ...   \n",
       "4                       0.00  ...   \n",
       "\n",
       "  trafficSource_adwordsClickInfo.adNetworkType  \\\n",
       "0                                            @   \n",
       "1                                            @   \n",
       "2                                            @   \n",
       "3                                            @   \n",
       "4                                            @   \n",
       "\n",
       "  trafficSource_adwordsClickInfo.isVideoAd  \\\n",
       "0                                        1   \n",
       "1                                        1   \n",
       "2                                        1   \n",
       "3                                        1   \n",
       "4                                        1   \n",
       "\n",
       "   trafficSource_adwordsClickInfo.page trafficSource_adwordsClickInfo.slot  \\\n",
       "0                                 0.00                                   @   \n",
       "1                                 0.00                                   @   \n",
       "2                                 0.00                                   @   \n",
       "3                                 0.00                                   @   \n",
       "4                                 0.00                                   @   \n",
       "\n",
       "  trafficSource_campaign trafficSource_isTrueDirect trafficSource_keyword  \\\n",
       "0                      @                          0                     @   \n",
       "1                      @                          0                     @   \n",
       "2                      @                          0                     @   \n",
       "3                      @                          0       google + online   \n",
       "4                      @                          1                     @   \n",
       "\n",
       "  trafficSource_medium trafficSource_referralPath trafficSource_source  \n",
       "0              organic                          @               google  \n",
       "1              organic                          @               google  \n",
       "2              organic                          @               google  \n",
       "3              organic                          @               google  \n",
       "4              organic                          @               google  \n",
       "\n",
       "[5 rows x 32 columns]"
      ]
     },
     "execution_count": 27,
     "metadata": {},
     "output_type": "execute_result"
    }
   ],
   "source": [
    "train_df_filter.head()"
   ]
  },
  {
   "cell_type": "code",
   "execution_count": 28,
   "id": "42411bed-011b-49c5-b7d9-f3ba8c1cd48f",
   "metadata": {},
   "outputs": [
    {
     "data": {
      "text/plain": [
       "channelGrouping                                      8\n",
       "date                                               366\n",
       "fullVisitorId                                   723854\n",
       "visitNumber                                        384\n",
       "visitStartTime                                  886276\n",
       "totals_bounces                                       2\n",
       "totals_hits                                        274\n",
       "totals_newVisits                                     2\n",
       "totals_pageviews                                   214\n",
       "totals_transactionRevenue                         5331\n",
       "device_browser                                      54\n",
       "device_deviceCategory                                3\n",
       "device_isMobile                                      2\n",
       "device_operatingSystem                              20\n",
       "geoNetwork_city                                    648\n",
       "geoNetwork_continent                                 6\n",
       "geoNetwork_country                                 222\n",
       "geoNetwork_metro                                    93\n",
       "geoNetwork_networkDomain                         28063\n",
       "geoNetwork_region                                  375\n",
       "geoNetwork_subContinent                             23\n",
       "trafficSource_adContent                             45\n",
       "trafficSource_adwordsClickInfo.adNetworkType         3\n",
       "trafficSource_adwordsClickInfo.isVideoAd             1\n",
       "trafficSource_adwordsClickInfo.page                  9\n",
       "trafficSource_adwordsClickInfo.slot                  3\n",
       "trafficSource_campaign                              10\n",
       "trafficSource_isTrueDirect                           2\n",
       "trafficSource_keyword                             3659\n",
       "trafficSource_medium                                 6\n",
       "trafficSource_referralPath                        1475\n",
       "trafficSource_source                               380\n",
       "dtype: int64"
      ]
     },
     "execution_count": 28,
     "metadata": {},
     "output_type": "execute_result"
    }
   ],
   "source": [
    "train_df_filter.nunique()"
   ]
  },
  {
   "cell_type": "markdown",
   "id": "53aa9482-304d-4604-9029-bb5202785222",
   "metadata": {},
   "source": [
    "We can see that the time period in question are 366 days (not necessarily consecutive ones -- as days in 'dates' where no visits happened would not be recorded)"
   ]
  },
  {
   "cell_type": "code",
   "execution_count": 29,
   "id": "2f820cef-d0e1-405c-acdb-6e517bca34ce",
   "metadata": {},
   "outputs": [
    {
     "data": {
      "text/plain": [
       "fullVisitorId                 714167\n",
       "device_browser                    54\n",
       "device_operatingSystem            20\n",
       "geoNetwork_city                  648\n",
       "geoNetwork_metro                  93\n",
       "geoNetwork_country               222\n",
       "geoNetwork_networkDomain       27520\n",
       "geoNetwork_region                375\n",
       "trafficSource_adContent           44\n",
       "trafficSource_campaign            10\n",
       "trafficSource_keyword           3507\n",
       "trafficSource_source             331\n",
       "trafficSource_referralPath      1260\n",
       "weekday                            7\n",
       "dtype: int64"
      ]
     },
     "execution_count": 29,
     "metadata": {},
     "output_type": "execute_result"
    }
   ],
   "source": [
    "train_df_cat.nunique()"
   ]
  },
  {
   "cell_type": "code",
   "execution_count": 30,
   "id": "f19ab190-5069-4082-877d-d2f96c778f6a",
   "metadata": {},
   "outputs": [
    {
     "data": {
      "text/plain": [
       "array([False, False,  True, False, False, False, False, False, False,\n",
       "       False,  True, False, False,  True,  True, False,  True,  True,\n",
       "        True,  True, False,  True, False, False, False, False,  True,\n",
       "       False,  True, False,  True,  True])"
      ]
     },
     "execution_count": 30,
     "metadata": {},
     "output_type": "execute_result"
    }
   ],
   "source": [
    "train_df_filter.columns.isin(train_df_cat.columns)"
   ]
  },
  {
   "cell_type": "code",
   "execution_count": 31,
   "id": "99cadeb0-ded8-4ebf-a0be-1b0287e8957c",
   "metadata": {},
   "outputs": [
    {
     "data": {
      "text/plain": [
       "fullVisitorId                 723854\n",
       "device_browser                    54\n",
       "device_operatingSystem            20\n",
       "geoNetwork_city                  648\n",
       "geoNetwork_country               222\n",
       "geoNetwork_metro                  93\n",
       "geoNetwork_networkDomain       28063\n",
       "geoNetwork_region                375\n",
       "trafficSource_adContent           45\n",
       "trafficSource_campaign            10\n",
       "trafficSource_keyword           3659\n",
       "trafficSource_referralPath      1475\n",
       "trafficSource_source             380\n",
       "dtype: int64"
      ]
     },
     "execution_count": 31,
     "metadata": {},
     "output_type": "execute_result"
    }
   ],
   "source": [
    "train_df_filter.iloc[:,train_df_filter.columns.isin(train_df_cat.columns)].nunique()"
   ]
  },
  {
   "cell_type": "markdown",
   "id": "a116c280-e408-4881-9d42-ab0063c9dfed",
   "metadata": {},
   "source": [
    "The \"filter and \"cat columns do not fully correspond. That is, there is more categorical data in \"filter than in \"cat, probably because some rows have been dropped in \"cat due to too much missing data.\n",
    "\n",
    "\" cat also has helpfully a weekday column.\n",
    "\n",
    "Probably time of the year might also help -- but then these vary with country (etc.) of which there are 222."
   ]
  },
  {
   "cell_type": "code",
   "execution_count": null,
   "id": "f1999c59-6bfb-4bdd-9e3b-9f81de3cd001",
   "metadata": {},
   "outputs": [],
   "source": [
    "#train_df_filter.device_operatingSystem.value_counts()"
   ]
  },
  {
   "cell_type": "code",
   "execution_count": null,
   "id": "7d5b0149-a8e2-49db-88f9-ebaee5e72e18",
   "metadata": {},
   "outputs": [],
   "source": [
    "# pkl = pickle.load('data/data_all_features.pkl')"
   ]
  },
  {
   "cell_type": "markdown",
   "id": "6ea6c5ae-e976-4595-9d18-db39567f8466",
   "metadata": {},
   "source": [
    "How many visitors returned?"
   ]
  },
  {
   "cell_type": "code",
   "execution_count": 110,
   "id": "ab756ea2-2ba9-4733-b7e4-e5edd33f6433",
   "metadata": {},
   "outputs": [],
   "source": [
    "return_vis = (train_df_filter.fullVisitorId.value_counts() > 1).sum()"
   ]
  },
  {
   "cell_type": "code",
   "execution_count": 111,
   "id": "7debc818-0029-493c-bd7f-f802ba72d350",
   "metadata": {},
   "outputs": [
    {
     "data": {
      "text/plain": [
       "0.1251053389219373"
      ]
     },
     "execution_count": 111,
     "metadata": {},
     "output_type": "execute_result"
    }
   ],
   "source": [
    "return_vis/unique_customers"
   ]
  },
  {
   "cell_type": "markdown",
   "id": "630dd3f9-0f7d-4cce-9875-61618234221a",
   "metadata": {},
   "source": [
    "About 12.5% of all visitors return"
   ]
  },
  {
   "cell_type": "code",
   "execution_count": 78,
   "id": "d5d663ca-8490-4d5c-beaa-ff700df3c2d5",
   "metadata": {},
   "outputs": [],
   "source": [
    "customer_rev_visits = rev_by_customer"
   ]
  },
  {
   "cell_type": "code",
   "execution_count": 79,
   "id": "55a08523-0228-4040-96f2-478e853bc727",
   "metadata": {},
   "outputs": [],
   "source": [
    "customer_rev_visits['fullVisitorId_sort'] = customer_rev_visits.index.astype(float) # to sort by customerID one has to convert them to floats as int formats are too low precision for such high numbers"
   ]
  },
  {
   "cell_type": "code",
   "execution_count": 80,
   "id": "2b6bd067-497f-4b3b-85fa-fd9033f86b0a",
   "metadata": {},
   "outputs": [],
   "source": [
    "customer_rev_visits.sort_values('fullVisitorId_sort', inplace=True)"
   ]
  },
  {
   "cell_type": "code",
   "execution_count": 81,
   "id": "2139b0ba-5d5f-4ad8-b39b-f16272d8d5b3",
   "metadata": {},
   "outputs": [
    {
     "data": {
      "text/html": [
       "<div>\n",
       "<style scoped>\n",
       "    .dataframe tbody tr th:only-of-type {\n",
       "        vertical-align: middle;\n",
       "    }\n",
       "\n",
       "    .dataframe tbody tr th {\n",
       "        vertical-align: top;\n",
       "    }\n",
       "\n",
       "    .dataframe thead th {\n",
       "        text-align: right;\n",
       "    }\n",
       "</style>\n",
       "<table border=\"1\" class=\"dataframe\">\n",
       "  <thead>\n",
       "    <tr style=\"text-align: right;\">\n",
       "      <th></th>\n",
       "      <th>totals_transactionRevenue</th>\n",
       "      <th>fullVisitorId_sort</th>\n",
       "    </tr>\n",
       "    <tr>\n",
       "      <th>fullVisitorId</th>\n",
       "      <th></th>\n",
       "      <th></th>\n",
       "    </tr>\n",
       "  </thead>\n",
       "  <tbody>\n",
       "    <tr>\n",
       "      <th>4823595352351</th>\n",
       "      <td>0.00</td>\n",
       "      <td>4,823,595,352,351.00</td>\n",
       "    </tr>\n",
       "    <tr>\n",
       "      <th>5103959234087</th>\n",
       "      <td>0.00</td>\n",
       "      <td>5,103,959,234,087.00</td>\n",
       "    </tr>\n",
       "    <tr>\n",
       "      <th>10278554503158</th>\n",
       "      <td>0.00</td>\n",
       "      <td>10,278,554,503,158.00</td>\n",
       "    </tr>\n",
       "    <tr>\n",
       "      <th>20424342248747</th>\n",
       "      <td>0.00</td>\n",
       "      <td>20,424,342,248,747.00</td>\n",
       "    </tr>\n",
       "    <tr>\n",
       "      <th>26722803385797</th>\n",
       "      <td>0.00</td>\n",
       "      <td>26,722,803,385,797.00</td>\n",
       "    </tr>\n",
       "    <tr>\n",
       "      <th>...</th>\n",
       "      <td>...</td>\n",
       "      <td>...</td>\n",
       "    </tr>\n",
       "    <tr>\n",
       "      <th>11241321903919452424</th>\n",
       "      <td>0.00</td>\n",
       "      <td>11,241,321,903,919,452,160.00</td>\n",
       "    </tr>\n",
       "    <tr>\n",
       "      <th>35846613770150791963</th>\n",
       "      <td>0.00</td>\n",
       "      <td>35,846,613,770,150,793,216.00</td>\n",
       "    </tr>\n",
       "    <tr>\n",
       "      <th>42265292326122750572</th>\n",
       "      <td>0.00</td>\n",
       "      <td>42,265,292,326,122,749,952.00</td>\n",
       "    </tr>\n",
       "    <tr>\n",
       "      <th>47427028546298368646</th>\n",
       "      <td>0.00</td>\n",
       "      <td>47,427,028,546,298,372,096.00</td>\n",
       "    </tr>\n",
       "    <tr>\n",
       "      <th>51983079332407350992</th>\n",
       "      <td>0.00</td>\n",
       "      <td>51,983,079,332,407,353,344.00</td>\n",
       "    </tr>\n",
       "  </tbody>\n",
       "</table>\n",
       "<p>723854 rows × 2 columns</p>\n",
       "</div>"
      ],
      "text/plain": [
       "                      totals_transactionRevenue            fullVisitorId_sort\n",
       "fullVisitorId                                                                \n",
       "4823595352351                              0.00          4,823,595,352,351.00\n",
       "5103959234087                              0.00          5,103,959,234,087.00\n",
       "10278554503158                             0.00         10,278,554,503,158.00\n",
       "20424342248747                             0.00         20,424,342,248,747.00\n",
       "26722803385797                             0.00         26,722,803,385,797.00\n",
       "...                                         ...                           ...\n",
       "11241321903919452424                       0.00 11,241,321,903,919,452,160.00\n",
       "35846613770150791963                       0.00 35,846,613,770,150,793,216.00\n",
       "42265292326122750572                       0.00 42,265,292,326,122,749,952.00\n",
       "47427028546298368646                       0.00 47,427,028,546,298,372,096.00\n",
       "51983079332407350992                       0.00 51,983,079,332,407,353,344.00\n",
       "\n",
       "[723854 rows x 2 columns]"
      ]
     },
     "execution_count": 81,
     "metadata": {},
     "output_type": "execute_result"
    }
   ],
   "source": [
    "customer_rev_visits"
   ]
  },
  {
   "cell_type": "code",
   "execution_count": 82,
   "id": "78603c4d-a8e7-44eb-bf49-606b11d8186a",
   "metadata": {},
   "outputs": [],
   "source": [
    "visits = pd.DataFrame(train_df_filter.fullVisitorId.value_counts())"
   ]
  },
  {
   "cell_type": "code",
   "execution_count": 83,
   "id": "09b4bf25-3797-4b36-939a-e4457fd83f01",
   "metadata": {},
   "outputs": [],
   "source": [
    "visits['fullVisitorId_sort'] = visits.index.astype(float)"
   ]
  },
  {
   "cell_type": "code",
   "execution_count": 84,
   "id": "faa0fb75-8783-4d61-9f11-443ed8b09b41",
   "metadata": {},
   "outputs": [],
   "source": [
    "visits.sort_values('fullVisitorId_sort', inplace=True)"
   ]
  },
  {
   "cell_type": "code",
   "execution_count": 85,
   "id": "d4eb0f06-630f-4958-9089-f75d73439934",
   "metadata": {},
   "outputs": [
    {
     "data": {
      "text/html": [
       "<div>\n",
       "<style scoped>\n",
       "    .dataframe tbody tr th:only-of-type {\n",
       "        vertical-align: middle;\n",
       "    }\n",
       "\n",
       "    .dataframe tbody tr th {\n",
       "        vertical-align: top;\n",
       "    }\n",
       "\n",
       "    .dataframe thead th {\n",
       "        text-align: right;\n",
       "    }\n",
       "</style>\n",
       "<table border=\"1\" class=\"dataframe\">\n",
       "  <thead>\n",
       "    <tr style=\"text-align: right;\">\n",
       "      <th></th>\n",
       "      <th>fullVisitorId</th>\n",
       "      <th>fullVisitorId_sort</th>\n",
       "    </tr>\n",
       "  </thead>\n",
       "  <tbody>\n",
       "    <tr>\n",
       "      <th>4823595352351</th>\n",
       "      <td>1</td>\n",
       "      <td>4,823,595,352,351.00</td>\n",
       "    </tr>\n",
       "    <tr>\n",
       "      <th>5103959234087</th>\n",
       "      <td>1</td>\n",
       "      <td>5,103,959,234,087.00</td>\n",
       "    </tr>\n",
       "    <tr>\n",
       "      <th>10278554503158</th>\n",
       "      <td>1</td>\n",
       "      <td>10,278,554,503,158.00</td>\n",
       "    </tr>\n",
       "    <tr>\n",
       "      <th>20424342248747</th>\n",
       "      <td>1</td>\n",
       "      <td>20,424,342,248,747.00</td>\n",
       "    </tr>\n",
       "    <tr>\n",
       "      <th>26722803385797</th>\n",
       "      <td>1</td>\n",
       "      <td>26,722,803,385,797.00</td>\n",
       "    </tr>\n",
       "    <tr>\n",
       "      <th>...</th>\n",
       "      <td>...</td>\n",
       "      <td>...</td>\n",
       "    </tr>\n",
       "    <tr>\n",
       "      <th>11241321903919452424</th>\n",
       "      <td>1</td>\n",
       "      <td>11,241,321,903,919,452,160.00</td>\n",
       "    </tr>\n",
       "    <tr>\n",
       "      <th>35846613770150791963</th>\n",
       "      <td>1</td>\n",
       "      <td>35,846,613,770,150,793,216.00</td>\n",
       "    </tr>\n",
       "    <tr>\n",
       "      <th>42265292326122750572</th>\n",
       "      <td>1</td>\n",
       "      <td>42,265,292,326,122,749,952.00</td>\n",
       "    </tr>\n",
       "    <tr>\n",
       "      <th>47427028546298368646</th>\n",
       "      <td>1</td>\n",
       "      <td>47,427,028,546,298,372,096.00</td>\n",
       "    </tr>\n",
       "    <tr>\n",
       "      <th>51983079332407350992</th>\n",
       "      <td>1</td>\n",
       "      <td>51,983,079,332,407,353,344.00</td>\n",
       "    </tr>\n",
       "  </tbody>\n",
       "</table>\n",
       "<p>723854 rows × 2 columns</p>\n",
       "</div>"
      ],
      "text/plain": [
       "                      fullVisitorId            fullVisitorId_sort\n",
       "4823595352351                     1          4,823,595,352,351.00\n",
       "5103959234087                     1          5,103,959,234,087.00\n",
       "10278554503158                    1         10,278,554,503,158.00\n",
       "20424342248747                    1         20,424,342,248,747.00\n",
       "26722803385797                    1         26,722,803,385,797.00\n",
       "...                             ...                           ...\n",
       "11241321903919452424              1 11,241,321,903,919,452,160.00\n",
       "35846613770150791963              1 35,846,613,770,150,793,216.00\n",
       "42265292326122750572              1 42,265,292,326,122,749,952.00\n",
       "47427028546298368646              1 47,427,028,546,298,372,096.00\n",
       "51983079332407350992              1 51,983,079,332,407,353,344.00\n",
       "\n",
       "[723854 rows x 2 columns]"
      ]
     },
     "execution_count": 85,
     "metadata": {},
     "output_type": "execute_result"
    }
   ],
   "source": [
    "visits"
   ]
  },
  {
   "cell_type": "code",
   "execution_count": 86,
   "id": "406a7082-c003-43f6-88df-2778f57f96c6",
   "metadata": {},
   "outputs": [],
   "source": [
    "customer_rev_visits['visits'] = visits['fullVisitorId']"
   ]
  },
  {
   "cell_type": "code",
   "execution_count": 103,
   "id": "58021b3b-9165-4a92-9a7e-738542d991b7",
   "metadata": {},
   "outputs": [],
   "source": [
    "paying_customers_visit = customer_rev_visits.sort_values('totals_transactionRevenue', ascending=False).head(paying_customers)"
   ]
  },
  {
   "cell_type": "code",
   "execution_count": 105,
   "id": "3b13c37f-78b9-41c6-88cc-af4219b6be23",
   "metadata": {},
   "outputs": [],
   "source": [
    "paying_returning = (paying_customers_visit['visits'] > 1).sum() # the majority of paying customers are returning visitors"
   ]
  },
  {
   "cell_type": "code",
   "execution_count": 117,
   "id": "17e18943-d16f-4018-8bfe-c2b12593a582",
   "metadata": {},
   "outputs": [
    {
     "data": {
      "text/plain": [
       "6610"
      ]
     },
     "execution_count": 117,
     "metadata": {},
     "output_type": "execute_result"
    }
   ],
   "source": [
    "paying_returning"
   ]
  },
  {
   "cell_type": "code",
   "execution_count": 106,
   "id": "14e39f21-bacf-4c79-83de-d54b366f6014",
   "metadata": {},
   "outputs": [
    {
     "data": {
      "text/plain": [
       "0.6516809622399684"
      ]
     },
     "execution_count": 106,
     "metadata": {},
     "output_type": "execute_result"
    }
   ],
   "source": [
    "paying_returning/paying_customers # 65.17%"
   ]
  },
  {
   "cell_type": "code",
   "execution_count": 90,
   "id": "fac6afba-4714-479c-9cae-c0894df65532",
   "metadata": {},
   "outputs": [
    {
     "data": {
      "text/plain": [
       "10143"
      ]
     },
     "execution_count": 90,
     "metadata": {},
     "output_type": "execute_result"
    }
   ],
   "source": [
    "paying_customers"
   ]
  },
  {
   "cell_type": "code",
   "execution_count": 113,
   "id": "9dfbee17-894e-4b62-97a8-1a3e19517a71",
   "metadata": {},
   "outputs": [
    {
     "data": {
      "text/plain": [
       "723854"
      ]
     },
     "execution_count": 113,
     "metadata": {},
     "output_type": "execute_result"
    }
   ],
   "source": [
    "unique_customers"
   ]
  },
  {
   "cell_type": "code",
   "execution_count": 118,
   "id": "5cf4369b-91cb-4712-94f7-0e5f4e846e8b",
   "metadata": {},
   "outputs": [],
   "source": [
    "returning_no_pay = return_vis - paying_returning"
   ]
  },
  {
   "cell_type": "code",
   "execution_count": 119,
   "id": "1e63688b-9557-4f88-addb-536a923819b1",
   "metadata": {},
   "outputs": [],
   "source": [
    "no_pay_vis = unique_customers - paying_customers"
   ]
  },
  {
   "cell_type": "code",
   "execution_count": 120,
   "id": "b1733a0b-624c-4735-89dc-187cf0fbd93f",
   "metadata": {},
   "outputs": [
    {
     "data": {
      "text/plain": [
       "0.11762183853128227"
      ]
     },
     "execution_count": 120,
     "metadata": {},
     "output_type": "execute_result"
    }
   ],
   "source": [
    "returning_no_pay/no_pay_vis"
   ]
  },
  {
   "cell_type": "markdown",
   "id": "c1350a4e-bd68-4f86-8d4b-140b81aec1e9",
   "metadata": {},
   "source": [
    "Only 11.76% of non-paying visitors return, suggesting that more than one visit (> 1) is a predictor for transactions"
   ]
  },
  {
   "cell_type": "code",
   "execution_count": null,
   "id": "f722edea-c843-4f26-81d2-4d8e5d6cf0ae",
   "metadata": {},
   "outputs": [],
   "source": [
    "rev_by_customer[rev_by_customer['totals_transactionRevenue'] > 0]"
   ]
  },
  {
   "cell_type": "code",
   "execution_count": null,
   "id": "2407e481-b3dc-49ed-bd3c-ce813977b823",
   "metadata": {},
   "outputs": [],
   "source": [
    "rev_by_customer_real"
   ]
  },
  {
   "cell_type": "markdown",
   "id": "e029e02b-73da-498a-869b-dd20efd37f9f",
   "metadata": {},
   "source": [
    "How much time passes between visits?"
   ]
  },
  {
   "cell_type": "markdown",
   "id": "5b98f852-a139-4b32-bc2e-ba52918bd06f",
   "metadata": {},
   "source": [
    "channelGrouping                                      8 \n",
    "date                                               366\n",
    "fullVisitorId                                   723854\n",
    "visitNumber                                        384\n",
    "visitStartTime                                  886276\n",
    "totals_bounces                                       2 Total bounces (for convenience). For a bounced session, the value is 1, otherwise it is null.\n",
    "totals_hits                                        274 Total number of hits within the session. range: 1-446525\n",
    "totals_newVisits                                     2 Total number of new users in session (for convenience). If this is the first visit, this value is 1, otherwise it is null.\n",
    "totals_pageviews                                   214 Total number of pageviews within the session.\n",
    "totals_transactionRevenue                         5331 Total number of pageviews within the session.\n",
    "device_browser                                      54\n",
    "device_deviceCategory                                3\n",
    "device_isMobile                                      2\n",
    "device_operatingSystem                              20\n",
    "geoNetwork_city                                    648\n",
    "geoNetwork_continent                                 6\n",
    "geoNetwork_country                                 222\n",
    "geoNetwork_metro                                    93\n",
    "geoNetwork_networkDomain                         28063\n",
    "geoNetwork_region                                  375\n",
    "geoNetwork_subContinent                             23\n",
    "trafficSource_adContent                             45\n",
    "trafficSource_adwordsClickInfo.adNetworkType         3\n",
    "trafficSource_adwordsClickInfo.isVideoAd             1\n",
    "trafficSource_adwordsClickInfo.page                  9\n",
    "trafficSource_adwordsClickInfo.slot                  3\n",
    "trafficSource_campaign                              10\n",
    "trafficSource_isTrueDirect                           2\n",
    "trafficSource_keyword                             3659\n",
    "trafficSource_medium                                 6\n",
    "trafficSource_referralPath                        1475\n",
    "trafficSource_source                               380"
   ]
  },
  {
   "cell_type": "code",
   "execution_count": 124,
   "id": "fed2d820-fb56-4188-b91f-d14916548ad1",
   "metadata": {},
   "outputs": [
    {
     "data": {
      "text/plain": [
       "1      446525\n",
       "2      137839\n",
       "3       70326\n",
       "4       42379\n",
       "5       30897\n",
       "        ...  \n",
       "333         1\n",
       "247         1\n",
       "340         1\n",
       "259         1\n",
       "237         1\n",
       "Name: totals_hits, Length: 274, dtype: int64"
      ]
     },
     "execution_count": 124,
     "metadata": {},
     "output_type": "execute_result"
    }
   ],
   "source": [
    "train_df_filter.totals_hits.value_counts()"
   ]
  },
  {
   "cell_type": "code",
   "execution_count": null,
   "id": "c7e0f46b-04ed-45d8-99cf-ea5fff948529",
   "metadata": {},
   "outputs": [],
   "source": []
  }
 ],
 "metadata": {
  "kernelspec": {
   "display_name": "Python 3 (ipykernel)",
   "language": "python",
   "name": "python3"
  },
  "language_info": {
   "codemirror_mode": {
    "name": "ipython",
    "version": 3
   },
   "file_extension": ".py",
   "mimetype": "text/x-python",
   "name": "python",
   "nbconvert_exporter": "python",
   "pygments_lexer": "ipython3",
   "version": "3.8.12"
  }
 },
 "nbformat": 4,
 "nbformat_minor": 5
}
